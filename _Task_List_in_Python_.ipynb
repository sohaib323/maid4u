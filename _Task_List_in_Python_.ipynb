{
  "nbformat": 4,
  "nbformat_minor": 0,
  "metadata": {
    "colab": {
      "provenance": [],
      "authorship_tag": "ABX9TyMnTeedbB3KYtJr8cxDuhu3",
      "include_colab_link": true
    },
    "kernelspec": {
      "name": "python3",
      "display_name": "Python 3"
    },
    "language_info": {
      "name": "python"
    }
  },
  "cells": [
    {
      "cell_type": "markdown",
      "metadata": {
        "id": "view-in-github",
        "colab_type": "text"
      },
      "source": [
        "<a href=\"https://colab.research.google.com/github/sohaib323/maid4u/blob/main/_Task_List_in_Python_.ipynb\" target=\"_parent\"><img src=\"https://colab.research.google.com/assets/colab-badge.svg\" alt=\"Open In Colab\"/></a>"
      ]
    },
    {
      "cell_type": "code",
      "execution_count": null,
      "metadata": {
        "id": "yRsA-t9nLtmy"
      },
      "outputs": [],
      "source": [
        "### **Task: List in Python**"
      ]
    },
    {
      "cell_type": "code",
      "source": [
        "### 1. Create a list `fruits` with values `[\"apple\", \"banana\", \"cherry\"]` and print the first element."
      ],
      "metadata": {
        "id": "Yli5cBRlL7g0"
      },
      "execution_count": null,
      "outputs": []
    },
    {
      "cell_type": "code",
      "source": [
        "fruits = ['mango','apple','cherry']\n",
        "print(fruits[0])"
      ],
      "metadata": {
        "colab": {
          "base_uri": "https://localhost:8080/"
        },
        "id": "fsUhZlpBL-v6",
        "outputId": "8b8d1aab-5c05-47a7-fcd7-f93e6e9dcfa0"
      },
      "execution_count": 1,
      "outputs": [
        {
          "output_type": "stream",
          "name": "stdout",
          "text": [
            "mango\n"
          ]
        }
      ]
    },
    {
      "cell_type": "code",
      "source": [
        "## 2. Define a list `numbers` with values `[10, 20, 30, 40, 50]` and print the last element using negative indexing."
      ],
      "metadata": {
        "id": "XYZezkU7L4ip"
      },
      "execution_count": null,
      "outputs": []
    },
    {
      "cell_type": "code",
      "source": [
        "num = [10, 20, 30, 40, 50]\n",
        "print(num[-1])"
      ],
      "metadata": {
        "colab": {
          "base_uri": "https://localhost:8080/"
        },
        "id": "wBeeqcD8MRpk",
        "outputId": "79d7fbae-d5bd-48a7-e1e5-ae3f182ee810"
      },
      "execution_count": 2,
      "outputs": [
        {
          "output_type": "stream",
          "name": "stdout",
          "text": [
            "50\n"
          ]
        }
      ]
    },
    {
      "cell_type": "code",
      "source": [
        "## 3. Add `\"mango\"` to the `fruits` list using `append()` and print the updated list."
      ],
      "metadata": {
        "id": "U1bQgimqMYtz"
      },
      "execution_count": null,
      "outputs": []
    },
    {
      "cell_type": "code",
      "source": [
        "fruits.append(\"grapes\")\n",
        "print(fruits)"
      ],
      "metadata": {
        "colab": {
          "base_uri": "https://localhost:8080/"
        },
        "id": "NT03jRLBMc9i",
        "outputId": "e2d67234-bc77-48c1-f1a2-c4a3d3c68793"
      },
      "execution_count": 6,
      "outputs": [
        {
          "output_type": "stream",
          "name": "stdout",
          "text": [
            "['mango', 'apple', 'cherry', 'grapes', 'mango', 'grapes']\n"
          ]
        }
      ]
    },
    {
      "cell_type": "code",
      "source": [
        "### 4. Insert `\"grape\"` at index `1` in the `fruits` list and print the updated list."
      ],
      "metadata": {
        "id": "YdckpJpqMXbG"
      },
      "execution_count": null,
      "outputs": []
    },
    {
      "cell_type": "code",
      "source": [
        "fruits.insert(1,\"grapes\")\n",
        "print(fruits)"
      ],
      "metadata": {
        "colab": {
          "base_uri": "https://localhost:8080/"
        },
        "id": "KHOp8QmDMvvF",
        "outputId": "c28aedf8-be59-44e7-8f3a-b960ee2ea495"
      },
      "execution_count": 9,
      "outputs": [
        {
          "output_type": "stream",
          "name": "stdout",
          "text": [
            "['mango', 'grapes', 'apple', 'cherry', 'grapes', 'mango', 'grapes']\n"
          ]
        }
      ]
    },
    {
      "cell_type": "code",
      "source": [
        "### 5. Remove `\"banana\"` from the `fruits` list using `remove()` and print the updated list."
      ],
      "metadata": {
        "id": "1mmxGJJfMz_c"
      },
      "execution_count": null,
      "outputs": []
    },
    {
      "cell_type": "code",
      "source": [
        "fruits.remove(\"apple\")\n",
        "print(fruits)"
      ],
      "metadata": {
        "colab": {
          "base_uri": "https://localhost:8080/"
        },
        "id": "m-z09wj8NYCK",
        "outputId": "46d412e4-f1b7-4892-daa7-13750b431b9a"
      },
      "execution_count": 13,
      "outputs": [
        {
          "output_type": "stream",
          "name": "stdout",
          "text": [
            "['grapes', 'cherry', 'grapes', 'mango', 'grapes']\n"
          ]
        }
      ]
    },
    {
      "cell_type": "code",
      "source": [
        "### 6. Use `pop()` to remove the last element from `numbers` and print the updated list."
      ],
      "metadata": {
        "id": "0A9NLQrONkYx"
      },
      "execution_count": null,
      "outputs": []
    },
    {
      "cell_type": "code",
      "source": [
        "fruits.pop(-1)\n",
        "print(fruits)"
      ],
      "metadata": {
        "colab": {
          "base_uri": "https://localhost:8080/"
        },
        "id": "I5lSZss4N-lh",
        "outputId": "601c26c5-c719-499f-b6e7-e3c372c14142"
      },
      "execution_count": 15,
      "outputs": [
        {
          "output_type": "stream",
          "name": "stdout",
          "text": [
            "['grapes', 'cherry', 'grapes', 'mango']\n"
          ]
        }
      ]
    },
    {
      "cell_type": "code",
      "source": [
        "## 7. Sort the `numbers` list in ascending order and print the result"
      ],
      "metadata": {
        "id": "Q1v6anVgOEmF"
      },
      "execution_count": null,
      "outputs": []
    },
    {
      "cell_type": "code",
      "source": [
        "fruits.sort()\n",
        "print(fruits)"
      ],
      "metadata": {
        "colab": {
          "base_uri": "https://localhost:8080/"
        },
        "id": "mhqThp2BOOKB",
        "outputId": "ce0b6083-066b-4b0b-db92-4409e517950a"
      },
      "execution_count": 16,
      "outputs": [
        {
          "output_type": "stream",
          "name": "stdout",
          "text": [
            "['cherry', 'grapes', 'grapes', 'mango']\n"
          ]
        }
      ]
    },
    {
      "cell_type": "code",
      "source": [
        "## 8. Reverse the `numbers` list and print the result."
      ],
      "metadata": {
        "id": "3ueu_9JZOSJT"
      },
      "execution_count": null,
      "outputs": []
    },
    {
      "cell_type": "code",
      "source": [
        "fruits.reverse()\n",
        "print(fruits)"
      ],
      "metadata": {
        "colab": {
          "base_uri": "https://localhost:8080/"
        },
        "id": "UMT-zkC2OXyJ",
        "outputId": "6b0a848d-317e-496a-f7b5-51499cb2851e"
      },
      "execution_count": 17,
      "outputs": [
        {
          "output_type": "stream",
          "name": "stdout",
          "text": [
            "['mango', 'grapes', 'grapes', 'cherry']\n"
          ]
        }
      ]
    },
    {
      "cell_type": "code",
      "source": [
        "## 9. Slice the `fruits` list to get the first two elements and print them."
      ],
      "metadata": {
        "id": "1HtvwU5KOcEv"
      },
      "execution_count": null,
      "outputs": []
    },
    {
      "cell_type": "code",
      "source": [
        "fruits =['mango','apple','cherry']\n",
        "subbu =fruits[0],fruits[1]\n",
        "print(subbu)"
      ],
      "metadata": {
        "colab": {
          "base_uri": "https://localhost:8080/"
        },
        "id": "hWbjUvRAOhIX",
        "outputId": "0664860e-dffb-4016-f6ab-b65911af3997"
      },
      "execution_count": 23,
      "outputs": [
        {
          "output_type": "stream",
          "name": "stdout",
          "text": [
            "('mango', 'apple')\n"
          ]
        }
      ]
    },
    {
      "cell_type": "code",
      "source": [
        "## 10. Create a nested list `matrix = [[1, 2], [3, 4], [5, 6]]` and print the element `4` using indexing."
      ],
      "metadata": {
        "id": "fqlhg6y5Om4w"
      },
      "execution_count": null,
      "outputs": []
    },
    {
      "cell_type": "code",
      "source": [
        "matrix = [[1, 2], [3, 4], [5, 6]]\n",
        "print(matrix[1][1])\n",
        "\n"
      ],
      "metadata": {
        "colab": {
          "base_uri": "https://localhost:8080/"
        },
        "id": "hb_Ao6fwO6Cy",
        "outputId": "aa15281a-b2f1-463d-aca7-4e2a3c214946"
      },
      "execution_count": 21,
      "outputs": [
        {
          "output_type": "stream",
          "name": "stdout",
          "text": [
            "4\n"
          ]
        }
      ]
    },
    {
      "cell_type": "code",
      "source": [],
      "metadata": {
        "id": "fYcHxGejPIet"
      },
      "execution_count": null,
      "outputs": []
    }
  ]
}