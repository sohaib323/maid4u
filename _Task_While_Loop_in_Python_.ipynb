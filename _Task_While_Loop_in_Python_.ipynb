{
  "nbformat": 4,
  "nbformat_minor": 0,
  "metadata": {
    "colab": {
      "provenance": [],
      "authorship_tag": "ABX9TyO9GfsUp0W9neud7ZvR9PzQ",
      "include_colab_link": true
    },
    "kernelspec": {
      "name": "python3",
      "display_name": "Python 3"
    },
    "language_info": {
      "name": "python"
    }
  },
  "cells": [
    {
      "cell_type": "markdown",
      "metadata": {
        "id": "view-in-github",
        "colab_type": "text"
      },
      "source": [
        "<a href=\"https://colab.research.google.com/github/sohaib323/maid4u/blob/main/_Task_While_Loop_in_Python_.ipynb\" target=\"_parent\"><img src=\"https://colab.research.google.com/assets/colab-badge.svg\" alt=\"Open In Colab\"/></a>"
      ]
    },
    {
      "cell_type": "code",
      "execution_count": null,
      "metadata": {
        "id": "h6p45ULXA-mN"
      },
      "outputs": [],
      "source": [
        "### **Task: While Loop in Python**"
      ]
    },
    {
      "cell_type": "code",
      "source": [
        "## 1. Write a `while` loop that prints numbers from `1` to `5`."
      ],
      "metadata": {
        "id": "cL7hP3pRBLRw"
      },
      "execution_count": null,
      "outputs": []
    },
    {
      "cell_type": "code",
      "source": [
        "num = 1\n",
        "while num < 6:\n",
        "  print(num)\n",
        "  num +=1\n"
      ],
      "metadata": {
        "colab": {
          "base_uri": "https://localhost:8080/"
        },
        "id": "CuekO1Y2BOc1",
        "outputId": "438637f6-70b1-4837-ee4c-8cb80f0bbf1c"
      },
      "execution_count": 3,
      "outputs": [
        {
          "output_type": "stream",
          "name": "stdout",
          "text": [
            "1\n",
            "2\n",
            "3\n",
            "4\n",
            "5\n"
          ]
        }
      ]
    },
    {
      "cell_type": "code",
      "source": [
        "### 2. Create a `while` loop that prints `\"Hello, Python!\"` five times."
      ],
      "metadata": {
        "id": "Z2BV0w_WBhaq"
      },
      "execution_count": null,
      "outputs": []
    },
    {
      "cell_type": "code",
      "source": [
        "name = \"hello python\"\n",
        "count = 0\n",
        "while count <5:\n",
        "  print(name)\n",
        "  count +=1"
      ],
      "metadata": {
        "colab": {
          "base_uri": "https://localhost:8080/"
        },
        "id": "-CkTt1_uBvFo",
        "outputId": "505bcf19-dc72-43cb-f210-b995238a2c19"
      },
      "execution_count": 9,
      "outputs": [
        {
          "output_type": "stream",
          "name": "stdout",
          "text": [
            "hello python\n",
            "hello python\n",
            "hello python\n",
            "hello python\n",
            "hello python\n"
          ]
        }
      ]
    },
    {
      "cell_type": "code",
      "source": [
        "## 3. Use a `while` loop to print only even numbers from `2` to `10`."
      ],
      "metadata": {
        "id": "Qdiwd4K6B8Uv"
      },
      "execution_count": null,
      "outputs": []
    },
    {
      "cell_type": "code",
      "source": [
        "num = 2\n",
        "while num <11:\n",
        "  print(num)\n",
        "  num +=2\n"
      ],
      "metadata": {
        "colab": {
          "base_uri": "https://localhost:8080/"
        },
        "id": "r4gfbOmDC-Oq",
        "outputId": "8de0c08f-5f9e-44ae-eb4c-6a516db3ceb6"
      },
      "execution_count": 17,
      "outputs": [
        {
          "output_type": "stream",
          "name": "stdout",
          "text": [
            "2\n",
            "4\n",
            "6\n",
            "8\n",
            "10\n"
          ]
        }
      ]
    },
    {
      "cell_type": "code",
      "source": [
        "## 4. Write a `while` loop that stops when the user enters `\"exit\"`"
      ],
      "metadata": {
        "id": "qicR9jFqDcp6"
      },
      "execution_count": null,
      "outputs": []
    },
    {
      "cell_type": "code",
      "source": [
        "name = input(\"enter your name\")\n",
        "while True:\n",
        "  if name == exit:\n",
        "    break\n",
        "    print(name)\n",
        "\n"
      ],
      "metadata": {
        "id": "t7lBi2SUEpMM"
      },
      "execution_count": null,
      "outputs": []
    },
    {
      "cell_type": "code",
      "source": [
        "### 5. Implement a `while` loop that finds the sum of numbers from `1` to `10`."
      ],
      "metadata": {
        "id": "Oya0sHCIFzSh"
      },
      "execution_count": null,
      "outputs": []
    },
    {
      "cell_type": "code",
      "source": [
        "num = 1\n",
        "total = 0\n",
        "\n",
        "while num <= 10:\n",
        "    total += num\n",
        "    num += 1\n",
        "\n",
        "print(\"The sum is:\", total)\n"
      ],
      "metadata": {
        "id": "G6QUEm1nG_FX"
      },
      "execution_count": null,
      "outputs": []
    },
    {
      "cell_type": "code",
      "source": [
        "## 6. Create an infinite `while` loop that prints `\"Running...\"` and stops when `count == 5`."
      ],
      "metadata": {
        "id": "dsqwNPS_HrZL"
      },
      "execution_count": null,
      "outputs": []
    },
    {
      "cell_type": "code",
      "source": [
        "num = 1\n",
        "while num <10:\n",
        "  if num == 7\n",
        "  break\n",
        "  print(num)\n",
        "  num +=1"
      ],
      "metadata": {
        "id": "M4KU06imHtK_"
      },
      "execution_count": null,
      "outputs": []
    },
    {
      "cell_type": "code",
      "source": [
        "## 7. Write a `while` loop with a `break` statement that exits when `x == 3`."
      ],
      "metadata": {
        "id": "8uQywX4KH4It"
      },
      "execution_count": null,
      "outputs": []
    },
    {
      "cell_type": "code",
      "source": [
        "num = 0\n",
        "while num < 6:\n",
        "  if num == 3:\n",
        "    break\n",
        "    print(num)\n",
        "    num +=1"
      ],
      "metadata": {
        "id": "A5LWmsjrICsf"
      },
      "execution_count": null,
      "outputs": []
    },
    {
      "cell_type": "code",
      "source": [
        "## 8. Use `continue` inside a `while` loop to skip printing the number `4`."
      ],
      "metadata": {
        "id": "xghKI2_IIWPn"
      },
      "execution_count": null,
      "outputs": []
    },
    {
      "cell_type": "code",
      "source": [
        "num = 1\n",
        "while num <10:\n",
        "  if num ==4:\n",
        "    num +=1\n",
        "    continue\n",
        "    print(num)\n",
        "    num +=1"
      ],
      "metadata": {
        "id": "aw9OBkYuIuEB"
      },
      "execution_count": null,
      "outputs": []
    },
    {
      "cell_type": "code",
      "source": [
        "## 9. Write a `while` loop with an `else` statement that prints `\"Loop Completed\"` when finished."
      ],
      "metadata": {
        "id": "b8K_SzokI3Ya"
      },
      "execution_count": null,
      "outputs": []
    },
    {
      "cell_type": "code",
      "source": [
        "name = input(\"enetr your name\")\n",
        "while True:\n",
        "  if name == exit:\n",
        "    break\n",
        "    print(name)\n",
        "  else:\n",
        "    print(\"loop is completed\")"
      ],
      "metadata": {
        "id": "h5O8TdpmJ4GN"
      },
      "execution_count": null,
      "outputs": []
    },
    {
      "cell_type": "code",
      "source": [
        "### 10 Use a `while` loop to find the factorial of a given number.\n"
      ],
      "metadata": {
        "id": "ZU_2swzCKJ6C"
      },
      "execution_count": null,
      "outputs": []
    },
    {
      "cell_type": "code",
      "source": [
        "num = 1\n",
        "while num <10:\n",
        "  print(num*2)\n",
        "  num +=1"
      ],
      "metadata": {
        "id": "HTySJVjgKwwL"
      },
      "execution_count": null,
      "outputs": []
    },
    {
      "cell_type": "code",
      "source": [],
      "metadata": {
        "id": "JepUNce4K7iv"
      },
      "execution_count": null,
      "outputs": []
    }
  ]
}