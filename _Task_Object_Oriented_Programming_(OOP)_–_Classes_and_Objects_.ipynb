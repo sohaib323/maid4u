{
  "nbformat": 4,
  "nbformat_minor": 0,
  "metadata": {
    "colab": {
      "provenance": [],
      "authorship_tag": "ABX9TyM0GUACY/++LIHsBAmTNq3O",
      "include_colab_link": true
    },
    "kernelspec": {
      "name": "python3",
      "display_name": "Python 3"
    },
    "language_info": {
      "name": "python"
    }
  },
  "cells": [
    {
      "cell_type": "markdown",
      "metadata": {
        "id": "view-in-github",
        "colab_type": "text"
      },
      "source": [
        "<a href=\"https://colab.research.google.com/github/sohaib323/maid4u/blob/main/_Task_Object_Oriented_Programming_(OOP)_%E2%80%93_Classes_and_Objects_.ipynb\" target=\"_parent\"><img src=\"https://colab.research.google.com/assets/colab-badge.svg\" alt=\"Open In Colab\"/></a>"
      ]
    },
    {
      "cell_type": "code",
      "execution_count": null,
      "metadata": {
        "id": "NK9z3O80yKoW"
      },
      "outputs": [],
      "source": [
        "### **Task: Object-Oriented Programming (OOP) – Classes and Objects*"
      ]
    },
    {
      "cell_type": "code",
      "source": [
        "## 1. Create a `Car` class with attributes `brand` and `model`, then create an object and print the details."
      ],
      "metadata": {
        "id": "RcwNASgRyL3f"
      },
      "execution_count": null,
      "outputs": []
    },
    {
      "cell_type": "code",
      "source": [
        "class Car:\n",
        "    def __init__(self, brand, model):\n",
        "        self.brand = brand\n",
        "        self.model = model\n",
        "\n",
        "    def display_details(self):\n",
        "        print(f\"Car Brand: {self.brand}, Model: {self.model}\")\n",
        "\n",
        "\n",
        "my_car = Car(\"Toyota\", \"Camry\")\n",
        "\n",
        "my_car.display_details()\n"
      ],
      "metadata": {
        "colab": {
          "base_uri": "https://localhost:8080/"
        },
        "id": "uuNJN6HEyP0H",
        "outputId": "df8c8f99-c203-4d09-bd24-bf43dd76b76d"
      },
      "execution_count": 2,
      "outputs": [
        {
          "output_type": "stream",
          "name": "stdout",
          "text": [
            "Car Brand: Toyota, Model: Camry\n"
          ]
        }
      ]
    },
    {
      "cell_type": "code",
      "source": [
        "##2 Define a `Person` class with `name` and `age` attributes, and add a method `introduce()` to print a greeting message."
      ],
      "metadata": {
        "id": "it6Buw65yaPR"
      },
      "execution_count": null,
      "outputs": []
    },
    {
      "cell_type": "code",
      "source": [
        "class Person:\n",
        "    def __init__(self, name, age):\n",
        "        self.name = name\n",
        "        self.age = age\n",
        "\n",
        "    def introduce(self):\n",
        "        print(f\"Hi, my name is {self.name} and I'm {self.age} years old.\")\n",
        "\n",
        "\n",
        "person1 = Person(\"Anita\", 28)\n",
        "\n",
        "\n",
        "\n",
        "person1.introduce()\n"
      ],
      "metadata": {
        "colab": {
          "base_uri": "https://localhost:8080/"
        },
        "id": "0JDK5sEKyhQJ",
        "outputId": "a9acd9ed-52e0-4387-ce28-7bba2770117e"
      },
      "execution_count": 3,
      "outputs": [
        {
          "output_type": "stream",
          "name": "stdout",
          "text": [
            "Hi, my name is Anita and I'm 28 years old.\n"
          ]
        }
      ]
    },
    {
      "cell_type": "code",
      "source": [
        "## 3. Implement a `BankAccount` class with methods `deposit()` and `withdraw()`, and test it with an account balance."
      ],
      "metadata": {
        "id": "w76OFGMFyzhP"
      },
      "execution_count": null,
      "outputs": []
    },
    {
      "cell_type": "code",
      "source": [
        "class BankAccount:\n",
        "    def __init__(self, owner, balance=0):\n",
        "        self.owner = owner\n",
        "        self.balance = balance\n",
        "\n",
        "    def deposit(self, amount):\n",
        "        if amount > 0:\n",
        "            self.balance += amount\n",
        "            print(f\"Deposited ₹{amount}. New balance: ₹{self.balance}\")\n",
        "        else:\n",
        "            print(\"Deposit amount must be positive.\")\n",
        "\n",
        "    def withdraw(self, amount):\n",
        "        if 0 < amount <= self.balance:\n",
        "            self.balance -= amount\n",
        "            print(f\"Withdrew ₹{amount}. New balance: ₹{self.balance}\")\n",
        "        else:\n",
        "            print(\"Insufficient funds or invalid amount.\")\n",
        "\n",
        "\n",
        "account1 = BankAccount(\"Ravi\", 5000)\n",
        "account1.deposit(2000)\n",
        "account1.withdraw(1500)\n",
        "account1.withdraw(6000)\n"
      ],
      "metadata": {
        "colab": {
          "base_uri": "https://localhost:8080/"
        },
        "id": "ZJ1aimPiy1ET",
        "outputId": "c2527282-2bad-42c4-ba72-2fe48b505e2e"
      },
      "execution_count": 4,
      "outputs": [
        {
          "output_type": "stream",
          "name": "stdout",
          "text": [
            "Deposited ₹2000. New balance: ₹7000\n",
            "Withdrew ₹1500. New balance: ₹5500\n",
            "Insufficient funds or invalid amount.\n"
          ]
        }
      ]
    },
    {
      "cell_type": "code",
      "source": [
        "## 4. Create a `Dog` class with a `bark()` method that prints `\"Woof!\"`. Instantiate an object and call `bark()`."
      ],
      "metadata": {
        "id": "gv98cEkAy7CZ"
      },
      "execution_count": null,
      "outputs": []
    },
    {
      "cell_type": "code",
      "source": [
        "class Dog:\n",
        "    def __init__(self, name):\n",
        "        self.name = name\n",
        "\n",
        "    def bark(self):\n",
        "        print(\"Woof!\")\n",
        "\n",
        "\n",
        "my_dog = Dog(\"Bruno\")\n",
        "\n",
        "\n",
        "my_dog.bark()\n"
      ],
      "metadata": {
        "colab": {
          "base_uri": "https://localhost:8080/"
        },
        "id": "fz1WopRMy_Z4",
        "outputId": "a87d4791-d0b8-445c-f9ac-0af2b4028795"
      },
      "execution_count": 5,
      "outputs": [
        {
          "output_type": "stream",
          "name": "stdout",
          "text": [
            "Woof!\n"
          ]
        }
      ]
    },
    {
      "cell_type": "code",
      "source": [
        "### 5. Write a class `Student` with attributes `name` and `marks`, and add a method to check if the student has passed (`marks >= 40`).\n",
        "."
      ],
      "metadata": {
        "id": "GerB0QbGzDy8"
      },
      "execution_count": null,
      "outputs": []
    },
    {
      "cell_type": "code",
      "source": [
        "class Student:\n",
        "    def __init__(self, name, marks):\n",
        "        self.name = name\n",
        "        self.marks = marks\n",
        "\n",
        "    def has_passed(self):\n",
        "        return self.marks >= 40\n",
        "\n",
        "\n",
        "student1 = Student(\"Arjun\", 55)\n",
        "\n",
        "\n",
        "if student1.has_passed():\n",
        "    print(f\"{student1.name} has passed.\")\n",
        "else:\n",
        "    print(f\"{student1.name} has not passed.\")\n"
      ],
      "metadata": {
        "colab": {
          "base_uri": "https://localhost:8080/"
        },
        "id": "wUdn4j-xzy4k",
        "outputId": "143e3903-3069-455a-fb4e-5bd42aaa7cf8"
      },
      "execution_count": 6,
      "outputs": [
        {
          "output_type": "stream",
          "name": "stdout",
          "text": [
            "Arjun has passed.\n"
          ]
        }
      ]
    },
    {
      "cell_type": "code",
      "source": [
        "## 6. Modify an attribute of an existing object in a class and print the updated value"
      ],
      "metadata": {
        "id": "5rQpb21yzy6Q"
      },
      "execution_count": null,
      "outputs": []
    },
    {
      "cell_type": "code",
      "source": [
        "class Student:\n",
        "    def __init__(self, name, marks):\n",
        "        self.name = name\n",
        "        self.marks = marks\n",
        "\n",
        "\n",
        "student1 = Student(\"Meera\", 35)\n",
        "\n",
        "\n",
        "print(f\"Original Marks: {student1.marks}\")\n",
        "\n",
        "\n",
        "student1.marks = 45\n",
        "\n",
        "\n",
        "print(f\"Updated Marks: {student1.marks}\")\n"
      ],
      "metadata": {
        "colab": {
          "base_uri": "https://localhost:8080/"
        },
        "id": "SuY-wzdt0AHG",
        "outputId": "d703c9a4-0e05-45f4-8412-3c7b1ca68ae6"
      },
      "execution_count": 7,
      "outputs": [
        {
          "output_type": "stream",
          "name": "stdout",
          "text": [
            "Original Marks: 35\n",
            "Updated Marks: 45\n"
          ]
        }
      ]
    },
    {
      "cell_type": "code",
      "source": [
        "## 7. Delete an attribute of an object and try accessing it to observe the result."
      ],
      "metadata": {
        "id": "oZFGlIs80EXH"
      },
      "execution_count": null,
      "outputs": []
    },
    {
      "cell_type": "code",
      "source": [],
      "metadata": {
        "id": "srigD12B0g-n"
      },
      "execution_count": null,
      "outputs": []
    },
    {
      "cell_type": "code",
      "source": [
        "class Student:\n",
        "    def __init__(self, name, marks):\n",
        "        self.name = name\n",
        "        self.marks = marks\n",
        "\n",
        "student1 = Student(\"Ishaan\", 42)\n",
        "\n",
        "\n",
        "print(f\"Marks before deletion: {student1.marks}\")\n",
        "\n",
        "\n",
        "del student1.marks\n",
        "\n",
        "\n",
        "try:\n",
        "    print(student1.marks)\n",
        "except AttributeError as e:\n",
        "    print"
      ],
      "metadata": {
        "colab": {
          "base_uri": "https://localhost:8080/"
        },
        "id": "ibQn1aNZ0EZo",
        "outputId": "abde5ac2-a14c-4400-de9e-c74717020011"
      },
      "execution_count": 8,
      "outputs": [
        {
          "output_type": "stream",
          "name": "stdout",
          "text": [
            "Marks before deletion: 42\n"
          ]
        }
      ]
    },
    {
      "cell_type": "code",
      "source": [
        "## .8 Create a `Circle` class with a method `area()` that calculates the area based on the given radius."
      ],
      "metadata": {
        "id": "vLSzwUEC0hAv"
      },
      "execution_count": null,
      "outputs": []
    },
    {
      "cell_type": "code",
      "source": [
        "import math\n",
        "\n",
        "class Circle:\n",
        "    def __init__(self, radius):\n",
        "        self.radius = radius\n",
        "\n",
        "    def area(self):\n",
        "        return math.pi * self.radius ** 2\n",
        "\n",
        "\n",
        "circle1 = Circle(7)\n",
        "\n",
        "\n",
        "print(f\"Area of the circle: {circle1.area():.2f}\")\n"
      ],
      "metadata": {
        "colab": {
          "base_uri": "https://localhost:8080/"
        },
        "id": "wgbOVKm10qN8",
        "outputId": "fcdf4215-0cf5-42f6-a114-3343585a3f06"
      },
      "execution_count": 9,
      "outputs": [
        {
          "output_type": "stream",
          "name": "stdout",
          "text": [
            "Area of the circle: 153.94\n"
          ]
        }
      ]
    },
    {
      "cell_type": "code",
      "source": [
        "## 9. Implement a `Book` class where each book has a title and author, and a method to display details."
      ],
      "metadata": {
        "id": "Cav70YeG0qPp"
      },
      "execution_count": null,
      "outputs": []
    },
    {
      "cell_type": "code",
      "source": [
        "class Book:\n",
        "    def __init__(self, title, author):\n",
        "        self.title = title\n",
        "        self.author = author\n",
        "\n",
        "    def display_details(self):\n",
        "        print(f\"Title: \\\"{self.title}\\\", Author: {self.author}\")\n",
        "\n",
        "\n",
        "book1 = Book(\"To Kill a Mockingbird\", \"Harper Lee\")\n",
        "\n",
        "\n",
        "book1.display_details()\n"
      ],
      "metadata": {
        "colab": {
          "base_uri": "https://localhost:8080/"
        },
        "id": "zFkdYjSZ06Yg",
        "outputId": "8577bbbe-c054-48e5-fe72-16bcc30dd53c"
      },
      "execution_count": 10,
      "outputs": [
        {
          "output_type": "stream",
          "name": "stdout",
          "text": [
            "Title: \"To Kill a Mockingbird\", Author: Harper Lee\n"
          ]
        }
      ]
    },
    {
      "cell_type": "code",
      "source": [
        "### 10. Define a `Laptop` class with attributes `brand` and `price`, and create multiple objects to store different laptops."
      ],
      "metadata": {
        "id": "3wlYUzjV0-ml"
      },
      "execution_count": null,
      "outputs": []
    },
    {
      "cell_type": "code",
      "source": [
        "class Laptop:\n",
        "    def __init__(self, brand, price):\n",
        "        self.brand = brand\n",
        "        self.price = price\n",
        "\n",
        "    def display(self):\n",
        "        print(f\"Laptop Brand: {self.brand}, Price: ₹{self.price}\")\n",
        "\n",
        "\n",
        "laptop1 = Laptop(\"Dell\", 55000)\n",
        "laptop2 = Laptop(\"HP\", 62000)\n",
        "laptop3 = Laptop(\"Lenovo\", 48000)\n",
        "\n",
        "\n",
        "laptop1.display()\n",
        "laptop2.display()\n",
        "laptop3.display()\n"
      ],
      "metadata": {
        "colab": {
          "base_uri": "https://localhost:8080/"
        },
        "id": "BqwdtiGH1BRD",
        "outputId": "4c9a6858-4e34-49a9-af05-7146a0021f7a"
      },
      "execution_count": 11,
      "outputs": [
        {
          "output_type": "stream",
          "name": "stdout",
          "text": [
            "Laptop Brand: Dell, Price: ₹55000\n",
            "Laptop Brand: HP, Price: ₹62000\n",
            "Laptop Brand: Lenovo, Price: ₹48000\n"
          ]
        }
      ]
    },
    {
      "cell_type": "code",
      "source": [],
      "metadata": {
        "id": "eawCICSE1GOH"
      },
      "execution_count": null,
      "outputs": []
    }
  ]
}