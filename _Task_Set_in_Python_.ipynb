{
  "nbformat": 4,
  "nbformat_minor": 0,
  "metadata": {
    "colab": {
      "provenance": [],
      "authorship_tag": "ABX9TyMnd/nJKWivryzQtSGyGjPk",
      "include_colab_link": true
    },
    "kernelspec": {
      "name": "python3",
      "display_name": "Python 3"
    },
    "language_info": {
      "name": "python"
    }
  },
  "cells": [
    {
      "cell_type": "markdown",
      "metadata": {
        "id": "view-in-github",
        "colab_type": "text"
      },
      "source": [
        "<a href=\"https://colab.research.google.com/github/sohaib323/maid4u/blob/main/_Task_Set_in_Python_.ipynb\" target=\"_parent\"><img src=\"https://colab.research.google.com/assets/colab-badge.svg\" alt=\"Open In Colab\"/></a>"
      ]
    },
    {
      "cell_type": "code",
      "execution_count": 2,
      "metadata": {
        "colab": {
          "base_uri": "https://localhost:8080/"
        },
        "id": "Q1R8APly0wWQ",
        "outputId": "314457c3-401a-4391-af6b-1b8bddda597b"
      },
      "outputs": [
        {
          "output_type": "stream",
          "name": "stdout",
          "text": [
            "{'apple', 'banana', 'cherry'}\n"
          ]
        }
      ],
      "source": [
        "### **Task: Set in Python**\n",
        "\n",
        "## 1. Create a set `fruits` with values `{\"apple\", \"banana\", \"cherry\"}` and print it.\n",
        "fruits = {\"apple\", \"banana\", \"cherry\"}\n",
        "print(fruits)"
      ]
    },
    {
      "cell_type": "code",
      "source": [
        "### 2. Add `\"grape\"` to the `fruits` set using `add()` and print the updated set.\n",
        "fruits.add(\"grapes\")\n",
        "print(fruits)"
      ],
      "metadata": {
        "colab": {
          "base_uri": "https://localhost:8080/"
        },
        "id": "oWcE2qhG02gn",
        "outputId": "5eedb48e-e04b-43e6-b1b2-d6b991bfb197"
      },
      "execution_count": 5,
      "outputs": [
        {
          "output_type": "stream",
          "name": "stdout",
          "text": [
            "{'apple', 'banana', 'grapes', 'cherry'}\n"
          ]
        }
      ]
    },
    {
      "cell_type": "code",
      "source": [
        "## 3. Remove `\"banana\"` from the `fruits` set using `remove()` and print the updated set."
      ],
      "metadata": {
        "id": "Ty9Kfnoe1CoC"
      },
      "execution_count": null,
      "outputs": []
    },
    {
      "cell_type": "code",
      "source": [
        "fruits.remove(\"banana\")\n",
        "print(fruits)"
      ],
      "metadata": {
        "colab": {
          "base_uri": "https://localhost:8080/"
        },
        "id": "zpcSLMTV1eqT",
        "outputId": "55b379dc-9a5c-49a9-bf2e-0677871d1356"
      },
      "execution_count": 6,
      "outputs": [
        {
          "output_type": "stream",
          "name": "stdout",
          "text": [
            "{'apple', 'grapes', 'cherry'}\n"
          ]
        }
      ]
    },
    {
      "cell_type": "code",
      "source": [
        "## 4. Try removing an element that does not exist using `discard()`. Observe if an error occurs."
      ],
      "metadata": {
        "id": "L7YRje6y1kc8"
      },
      "execution_count": null,
      "outputs": []
    },
    {
      "cell_type": "code",
      "source": [
        "fruits.discard(\"orange\")\n",
        "print(fruits)"
      ],
      "metadata": {
        "colab": {
          "base_uri": "https://localhost:8080/"
        },
        "id": "qJgc2qu21on-",
        "outputId": "85682894-85f4-4bdb-a532-d54a3f481e50"
      },
      "execution_count": 8,
      "outputs": [
        {
          "output_type": "stream",
          "name": "stdout",
          "text": [
            "{'apple', 'grapes', 'cherry'}\n"
          ]
        }
      ]
    },
    {
      "cell_type": "code",
      "source": [
        "### 5. Create two sets, `A = {1, 2, 3, 4}` and `B = {3, 4, 5, 6}`, and print their union."
      ],
      "metadata": {
        "id": "uVb8Vs5B1v8i"
      },
      "execution_count": null,
      "outputs": []
    },
    {
      "cell_type": "code",
      "source": [
        "A = {1, 2, 3, 4}\n",
        "B = {3, 4, 5, 6}\n",
        "\n",
        "\n",
        "print(A.union(B))"
      ],
      "metadata": {
        "colab": {
          "base_uri": "https://localhost:8080/"
        },
        "id": "c4ogNZt715j2",
        "outputId": "81476662-264c-451f-dc0c-a391e46e2f25"
      },
      "execution_count": 12,
      "outputs": [
        {
          "output_type": "stream",
          "name": "stdout",
          "text": [
            "{1, 2, 3, 4, 5, 6}\n"
          ]
        }
      ]
    },
    {
      "cell_type": "code",
      "source": [
        "## 6. Find the intersection of sets `A` and `B` and print the result."
      ],
      "metadata": {
        "id": "6tIvk6Xu2Gpi"
      },
      "execution_count": null,
      "outputs": []
    },
    {
      "cell_type": "code",
      "source": [
        "A = {1, 2, 3, 4}\n",
        "B = {3, 4, 5, 6}\n",
        "\n",
        "intersection = A & B  # or A.intersection(B)\n",
        "\n",
        "print(\"Intersection of A and B:\", intersection)\n"
      ],
      "metadata": {
        "colab": {
          "base_uri": "https://localhost:8080/"
        },
        "id": "w6IIgUiN2RXX",
        "outputId": "172c4c16-de79-4672-b0a4-baee80e35984"
      },
      "execution_count": 14,
      "outputs": [
        {
          "output_type": "stream",
          "name": "stdout",
          "text": [
            "Intersection of A and B: {3, 4}\n"
          ]
        }
      ]
    },
    {
      "cell_type": "code",
      "source": [
        "### 7. Compute the difference between sets `A` and `B` (`A - B`) and print the result."
      ],
      "metadata": {
        "id": "-4lJVoHt2WDH"
      },
      "execution_count": null,
      "outputs": []
    },
    {
      "cell_type": "code",
      "source": [
        "A = {1, 2, 3, 4}\n",
        "B = {3, 4, 5, 6}\n",
        "print(A-B)"
      ],
      "metadata": {
        "colab": {
          "base_uri": "https://localhost:8080/"
        },
        "id": "7I0kfWja2bD5",
        "outputId": "a1f3daf5-e0cb-4755-b2c8-d069914bf031"
      },
      "execution_count": 13,
      "outputs": [
        {
          "output_type": "stream",
          "name": "stdout",
          "text": [
            "{1, 2}\n"
          ]
        }
      ]
    },
    {
      "cell_type": "code",
      "source": [
        "## 8. Convert a list `[1, 2, 2, 3, 4, 4, 5]` to a set and print it to remove duplicates."
      ],
      "metadata": {
        "id": "FaKU6zd72iy7"
      },
      "execution_count": null,
      "outputs": []
    },
    {
      "cell_type": "code",
      "source": [
        "my_list = [1, 2, 2, 3, 4, 4, 5]\n",
        "unique_set = set(my_list)\n",
        "\n",
        "print(\"Set with duplicates removed:\", unique_set)\n"
      ],
      "metadata": {
        "colab": {
          "base_uri": "https://localhost:8080/"
        },
        "id": "ATJlmgzZ263z",
        "outputId": "addfb1f4-1958-4661-ac1d-b8d08b7554c2"
      },
      "execution_count": 20,
      "outputs": [
        {
          "output_type": "stream",
          "name": "stdout",
          "text": [
            "Set with duplicates removed: {1, 2, 3, 4, 5}\n"
          ]
        }
      ]
    },
    {
      "cell_type": "code",
      "source": [
        "# 9. Use a loop to iterate through the `fruits` set and print each element.\n"
      ],
      "metadata": {
        "id": "9X4w-U1i3HBo"
      },
      "execution_count": 21,
      "outputs": []
    },
    {
      "cell_type": "code",
      "source": [
        "fruits = {\"apple\", \"banana\", \"cherry\"}\n",
        "for fruits in fruits:\n",
        " print(fruits)"
      ],
      "metadata": {
        "colab": {
          "base_uri": "https://localhost:8080/"
        },
        "id": "etyCKk_C3spd",
        "outputId": "8de25f1a-03ec-443b-cd9d-abace4f9b4ec"
      },
      "execution_count": 26,
      "outputs": [
        {
          "output_type": "stream",
          "name": "stdout",
          "text": [
            "apple\n",
            "banana\n",
            "cherry\n"
          ]
        }
      ]
    },
    {
      "cell_type": "code",
      "source": [
        "### 10. Check if `\"apple\"` exists in the `fruits` set using the `in` keyword and print the result."
      ],
      "metadata": {
        "id": "3PpGDuX233Ni"
      },
      "execution_count": null,
      "outputs": []
    },
    {
      "cell_type": "code",
      "source": [
        "fruits = {\"apple\", \"banana\", \"cherry\",\"apple\",\"banana\",\"cherry\"}\n",
        "fruits.union(fruits)\n",
        "print(fruits)"
      ],
      "metadata": {
        "colab": {
          "base_uri": "https://localhost:8080/"
        },
        "id": "RiI-cifl4GCv",
        "outputId": "7cebd9bd-ed50-428f-de1a-c054acd7b5df"
      },
      "execution_count": 41,
      "outputs": [
        {
          "output_type": "stream",
          "name": "stdout",
          "text": [
            "{'apple', 'banana', 'cherry'}\n"
          ]
        }
      ]
    },
    {
      "cell_type": "code",
      "source": [
        "if \"apple\" in fruits:\n",
        "  print(\"it contains apple\")\n",
        "else:\n",
        "  print(\"it does not contain apple\")"
      ],
      "metadata": {
        "colab": {
          "base_uri": "https://localhost:8080/"
        },
        "id": "500Z5My_4RE7",
        "outputId": "7b1a482a-f783-4699-b6e2-4a8f8dd0ba9e"
      },
      "execution_count": 40,
      "outputs": [
        {
          "output_type": "stream",
          "name": "stdout",
          "text": [
            "it contains apple\n"
          ]
        }
      ]
    },
    {
      "cell_type": "code",
      "source": [
        "subbu = set(fruits)\n",
        "print(subbu)\n",
        "\n",
        "subbu1 = len(subbu)\n",
        "print(subbu1)"
      ],
      "metadata": {
        "colab": {
          "base_uri": "https://localhost:8080/"
        },
        "id": "x-vt75QM4ciq",
        "outputId": "9fb69e69-b3d0-4c83-fca8-258e33fa0912"
      },
      "execution_count": 43,
      "outputs": [
        {
          "output_type": "stream",
          "name": "stdout",
          "text": [
            "{'apple', 'banana', 'cherry'}\n",
            "3\n"
          ]
        }
      ]
    },
    {
      "cell_type": "code",
      "source": [],
      "metadata": {
        "id": "Xrc1aOGw608P"
      },
      "execution_count": null,
      "outputs": []
    }
  ]
}