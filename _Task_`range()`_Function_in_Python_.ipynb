{
  "nbformat": 4,
  "nbformat_minor": 0,
  "metadata": {
    "colab": {
      "provenance": [],
      "authorship_tag": "ABX9TyN5mNEBYO3UeQzHUoGscK/H",
      "include_colab_link": true
    },
    "kernelspec": {
      "name": "python3",
      "display_name": "Python 3"
    },
    "language_info": {
      "name": "python"
    }
  },
  "cells": [
    {
      "cell_type": "markdown",
      "metadata": {
        "id": "view-in-github",
        "colab_type": "text"
      },
      "source": [
        "<a href=\"https://colab.research.google.com/github/sohaib323/maid4u/blob/main/_Task_%60range()%60_Function_in_Python_.ipynb\" target=\"_parent\"><img src=\"https://colab.research.google.com/assets/colab-badge.svg\" alt=\"Open In Colab\"/></a>"
      ]
    },
    {
      "cell_type": "code",
      "execution_count": null,
      "metadata": {
        "id": "Q3K7s2zN572Q"
      },
      "outputs": [],
      "source": [
        "### **Task: `range()` Function in Python**"
      ]
    },
    {
      "cell_type": "code",
      "source": [
        "## 1. Use `range()` to print numbers from `0` to `4`"
      ],
      "metadata": {
        "id": "eM2-Q9bN6LP6"
      },
      "execution_count": null,
      "outputs": []
    },
    {
      "cell_type": "code",
      "source": [],
      "metadata": {
        "id": "Gq9Ua4lj6PCG"
      },
      "execution_count": null,
      "outputs": []
    },
    {
      "cell_type": "code",
      "source": [
        "for i range(0,4):\n",
        "  print(i)"
      ],
      "metadata": {
        "id": "e1xohtur6PDN"
      },
      "execution_count": null,
      "outputs": []
    },
    {
      "cell_type": "code",
      "source": [
        "### 2. Create a loop that prints numbers from `5` to `10` using `range()`"
      ],
      "metadata": {
        "id": "Qi3BcLEG6SOX"
      },
      "execution_count": null,
      "outputs": []
    },
    {
      "cell_type": "code",
      "source": [
        "for i in range(5, 11):\n",
        "    print(i)\n"
      ],
      "metadata": {
        "colab": {
          "base_uri": "https://localhost:8080/"
        },
        "id": "VDXbJnVi6Z6d",
        "outputId": "cdcf1a70-a9ef-462d-8375-ebd0da90601f"
      },
      "execution_count": 1,
      "outputs": [
        {
          "output_type": "stream",
          "name": "stdout",
          "text": [
            "5\n",
            "6\n",
            "7\n",
            "8\n",
            "9\n",
            "10\n"
          ]
        }
      ]
    },
    {
      "cell_type": "code",
      "source": [
        "### 3. Generate numbers from `2` to `20` with a step of `3` using `range()` and print them."
      ],
      "metadata": {
        "id": "THT_z7yw6duJ"
      },
      "execution_count": null,
      "outputs": []
    },
    {
      "cell_type": "code",
      "source": [
        "for i in range(2, 21, 3):\n",
        "    print(i)\n"
      ],
      "metadata": {
        "colab": {
          "base_uri": "https://localhost:8080/"
        },
        "id": "lc9MKzL66eg8",
        "outputId": "bb124d31-5de3-4b5f-ed99-16851b5aa556"
      },
      "execution_count": 2,
      "outputs": [
        {
          "output_type": "stream",
          "name": "stdout",
          "text": [
            "2\n",
            "5\n",
            "8\n",
            "11\n",
            "14\n",
            "17\n",
            "20\n"
          ]
        }
      ]
    },
    {
      "cell_type": "code",
      "source": [
        "### 4. Write a loop that prints numbers in reverse from `10` to `1` using `range()`"
      ],
      "metadata": {
        "id": "98K2jl6u6non"
      },
      "execution_count": null,
      "outputs": []
    },
    {
      "cell_type": "code",
      "source": [
        "for i in range(10, 0, -1):\n",
        "    print(i)\n"
      ],
      "metadata": {
        "colab": {
          "base_uri": "https://localhost:8080/"
        },
        "id": "guw_ucba6qYo",
        "outputId": "897a58d7-96a5-4cbf-e1b3-8c0f34c98c3a"
      },
      "execution_count": 3,
      "outputs": [
        {
          "output_type": "stream",
          "name": "stdout",
          "text": [
            "10\n",
            "9\n",
            "8\n",
            "7\n",
            "6\n",
            "5\n",
            "4\n",
            "3\n",
            "2\n",
            "1\n"
          ]
        }
      ]
    },
    {
      "cell_type": "code",
      "source": [
        "### 5. Convert `range(1, 6)` into a list and print it."
      ],
      "metadata": {
        "id": "1WEi3gd76tZy"
      },
      "execution_count": null,
      "outputs": []
    },
    {
      "cell_type": "code",
      "source": [
        "numbers = list(range(1, 6))\n",
        "print(numbers)\n"
      ],
      "metadata": {
        "colab": {
          "base_uri": "https://localhost:8080/"
        },
        "id": "2SZsWk7O6wvl",
        "outputId": "e0680341-bb4d-4678-bb25-e9b802fbaf21"
      },
      "execution_count": 5,
      "outputs": [
        {
          "output_type": "stream",
          "name": "stdout",
          "text": [
            "[1, 2, 3, 4, 5]\n"
          ]
        }
      ]
    },
    {
      "cell_type": "code",
      "source": [
        "### 6. Use `range()` in a `for` loop to print only even numbers between `1` and `10`"
      ],
      "metadata": {
        "id": "Im3nYewh63mp"
      },
      "execution_count": null,
      "outputs": []
    },
    {
      "cell_type": "code",
      "source": [
        "for i in range(2, 11, 2):\n",
        "    print(i)\n"
      ],
      "metadata": {
        "colab": {
          "base_uri": "https://localhost:8080/"
        },
        "id": "jv8S_OKN7JnP",
        "outputId": "851749de-f8b2-4ff5-b4dd-d166bdb218d1"
      },
      "execution_count": 6,
      "outputs": [
        {
          "output_type": "stream",
          "name": "stdout",
          "text": [
            "2\n",
            "4\n",
            "6\n",
            "8\n",
            "10\n"
          ]
        }
      ]
    },
    {
      "cell_type": "code",
      "source": [
        "### 7. Create a loop using `range()` that prints `\"Python\"` five times."
      ],
      "metadata": {
        "id": "pveN0HQG7KF3"
      },
      "execution_count": null,
      "outputs": []
    },
    {
      "cell_type": "code",
      "source": [
        "for i in range(5):\n",
        "    print(\"Python\")\n"
      ],
      "metadata": {
        "colab": {
          "base_uri": "https://localhost:8080/"
        },
        "id": "mbu9lSKi7Pfl",
        "outputId": "4eddc167-f343-48ff-f26c-71d890ffe82a"
      },
      "execution_count": 7,
      "outputs": [
        {
          "output_type": "stream",
          "name": "stdout",
          "text": [
            "Python\n",
            "Python\n",
            "Python\n",
            "Python\n",
            "Python\n"
          ]
        }
      ]
    },
    {
      "cell_type": "code",
      "source": [
        "## 8. Use `range()` to generate numbers from `-10` to `-1` and print them."
      ],
      "metadata": {
        "id": "7aQIeQBu7PpJ"
      },
      "execution_count": null,
      "outputs": []
    },
    {
      "cell_type": "code",
      "source": [
        "for i in range(-10, 0):\n",
        "    print(i)\n"
      ],
      "metadata": {
        "colab": {
          "base_uri": "https://localhost:8080/"
        },
        "id": "3wO-huyo7ZiG",
        "outputId": "fc2efe28-08b5-4375-e4b0-a9e56d780e81"
      },
      "execution_count": 8,
      "outputs": [
        {
          "output_type": "stream",
          "name": "stdout",
          "text": [
            "-10\n",
            "-9\n",
            "-8\n",
            "-7\n",
            "-6\n",
            "-5\n",
            "-4\n",
            "-3\n",
            "-2\n",
            "-1\n"
          ]
        }
      ]
    },
    {
      "cell_type": "code",
      "source": [
        "### 9. Generate numbers from `50` to `30` with a step of `-5` using `range()` and print them.\n"
      ],
      "metadata": {
        "id": "g0wIBMMO7KlV"
      },
      "execution_count": null,
      "outputs": []
    },
    {
      "cell_type": "code",
      "source": [
        "for i in range(50, 29, -5):\n",
        "    print(i)\n"
      ],
      "metadata": {
        "colab": {
          "base_uri": "https://localhost:8080/"
        },
        "id": "IUDSTgF47qqM",
        "outputId": "ebb0dfc4-667e-4eeb-f404-873a65d470be"
      },
      "execution_count": 9,
      "outputs": [
        {
          "output_type": "stream",
          "name": "stdout",
          "text": [
            "50\n",
            "45\n",
            "40\n",
            "35\n",
            "30\n"
          ]
        }
      ]
    },
    {
      "cell_type": "code",
      "source": [],
      "metadata": {
        "id": "RRRQcyjy7t-y"
      },
      "execution_count": null,
      "outputs": []
    },
    {
      "cell_type": "code",
      "source": [
        "### 10. Write a program using `range()` that calculates the sum of numbers from `1` to `100`."
      ],
      "metadata": {
        "id": "aFlBtmyI7vO2"
      },
      "execution_count": null,
      "outputs": []
    },
    {
      "cell_type": "code",
      "source": [
        "total = 0\n",
        "for i in range(1, 101):\n",
        "    total += i\n",
        "\n",
        "print(\"Sum from 1 to 100 is:\", total)\n"
      ],
      "metadata": {
        "colab": {
          "base_uri": "https://localhost:8080/"
        },
        "id": "NX632m9C748u",
        "outputId": "0a5761a7-c69e-4bd1-a64b-b4d874194a21"
      },
      "execution_count": 10,
      "outputs": [
        {
          "output_type": "stream",
          "name": "stdout",
          "text": [
            "Sum from 1 to 100 is: 5050\n"
          ]
        }
      ]
    },
    {
      "cell_type": "code",
      "source": [],
      "metadata": {
        "id": "431bvMqA794D"
      },
      "execution_count": null,
      "outputs": []
    }
  ]
}