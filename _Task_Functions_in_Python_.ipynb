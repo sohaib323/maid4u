{
  "nbformat": 4,
  "nbformat_minor": 0,
  "metadata": {
    "colab": {
      "provenance": [],
      "authorship_tag": "ABX9TyPXocrXiPZFBsL2qUnwpEVw",
      "include_colab_link": true
    },
    "kernelspec": {
      "name": "python3",
      "display_name": "Python 3"
    },
    "language_info": {
      "name": "python"
    }
  },
  "cells": [
    {
      "cell_type": "markdown",
      "metadata": {
        "id": "view-in-github",
        "colab_type": "text"
      },
      "source": [
        "<a href=\"https://colab.research.google.com/github/sohaib323/maid4u/blob/main/_Task_Functions_in_Python_.ipynb\" target=\"_parent\"><img src=\"https://colab.research.google.com/assets/colab-badge.svg\" alt=\"Open In Colab\"/></a>"
      ]
    },
    {
      "cell_type": "code",
      "execution_count": null,
      "metadata": {
        "id": "msEwy-2o0mvG"
      },
      "outputs": [],
      "source": [
        "### **Task: Functions in Python**"
      ]
    },
    {
      "cell_type": "code",
      "source": [
        "#### 1 Write a function `greet()` that prints `\"Hello, Welcome to Python!\"` when called."
      ],
      "metadata": {
        "id": "OC8uB_Nw0qER"
      },
      "execution_count": null,
      "outputs": []
    },
    {
      "cell_type": "code",
      "source": [
        "def gree():\n",
        "  print(\"Hello ,welcome to python\")"
      ],
      "metadata": {
        "id": "28xBcA8w0vIc"
      },
      "execution_count": 1,
      "outputs": []
    },
    {
      "cell_type": "code",
      "source": [
        "### 2. Create a function `add(a, b)` that takes two numbers as parameters and returns their sum."
      ],
      "metadata": {
        "id": "AvNMmjcd0vJ9"
      },
      "execution_count": null,
      "outputs": []
    },
    {
      "cell_type": "code",
      "source": [
        "def subbu(a,b):\n",
        "  return a +b\n",
        "\n",
        "print(subbu(3,4))"
      ],
      "metadata": {
        "colab": {
          "base_uri": "https://localhost:8080/"
        },
        "id": "9KtS3hQa08g0",
        "outputId": "ec0cfbfb-7d82-4931-aa6c-e8e8b9873ece"
      },
      "execution_count": 4,
      "outputs": [
        {
          "output_type": "stream",
          "name": "stdout",
          "text": [
            "7\n"
          ]
        }
      ]
    },
    {
      "cell_type": "code",
      "source": [
        "### 3. Define a function `square(n)` that returns the square of a given number.\n"
      ],
      "metadata": {
        "id": "Wdyz4mnU1H3B"
      },
      "execution_count": null,
      "outputs": []
    },
    {
      "cell_type": "code",
      "source": [
        "def subbu(square):\n",
        "  return square **2\n",
        "\n",
        "print(subbu(2))"
      ],
      "metadata": {
        "colab": {
          "base_uri": "https://localhost:8080/"
        },
        "id": "e5TEQMAj1SvF",
        "outputId": "b35e41b5-e5e2-42f5-bfd2-0aec167b746e"
      },
      "execution_count": 6,
      "outputs": [
        {
          "output_type": "stream",
          "name": "stdout",
          "text": [
            "4\n"
          ]
        }
      ]
    },
    {
      "cell_type": "code",
      "source": [
        "### 4. Write a function `is_even(n)` that returns `True` if a number is even, otherwise `False`."
      ],
      "metadata": {
        "id": "q60wnuJ81bz2"
      },
      "execution_count": null,
      "outputs": []
    },
    {
      "cell_type": "code",
      "source": [
        "def is_even(num):\n",
        "  return num % 2 == 0\n",
        "\n",
        "print(is_even(2\n",
        "              ))\n"
      ],
      "metadata": {
        "colab": {
          "base_uri": "https://localhost:8080/"
        },
        "id": "7QF2he3Y1jlx",
        "outputId": "8e3d2148-1bab-4e50-ba5b-88c5c2ad65a4"
      },
      "execution_count": 11,
      "outputs": [
        {
          "output_type": "stream",
          "name": "stdout",
          "text": [
            "True\n"
          ]
        }
      ]
    },
    {
      "cell_type": "code",
      "source": [
        "### 5. Create a function `greet_user(name=\"Guest\")` that prints `\"Hello, [name]!\"`, using `\"Guest\"` as the default value."
      ],
      "metadata": {
        "id": "0sDyvBjs1-7C"
      },
      "execution_count": null,
      "outputs": []
    },
    {
      "cell_type": "code",
      "source": [
        "def greet_user(name):\n",
        "  print(\"this is subbu\",name)\n",
        "\n",
        "greet_user(\"ok\")"
      ],
      "metadata": {
        "colab": {
          "base_uri": "https://localhost:8080/"
        },
        "id": "fSZ7KMeu2i4V",
        "outputId": "56be6fba-5187-4f6b-edb1-48e17508befa"
      },
      "execution_count": 12,
      "outputs": [
        {
          "output_type": "stream",
          "name": "stdout",
          "text": [
            "this is subbu ok\n"
          ]
        }
      ]
    },
    {
      "cell_type": "code",
      "source": [
        "### 6 Implement a function `multiply(a, b=2)` that multiplies two numbers but has a default value of `2` for `b`."
      ],
      "metadata": {
        "id": "ee35yLVi2tuD"
      },
      "execution_count": null,
      "outputs": []
    },
    {
      "cell_type": "code",
      "source": [
        "def multiply(a, b=2):\n",
        "    return a * b\n",
        "\n",
        "\n",
        "print(multiply(4))\n"
      ],
      "metadata": {
        "colab": {
          "base_uri": "https://localhost:8080/"
        },
        "id": "Hl2vyocq28I8",
        "outputId": "f8859049-0573-4ba1-a7c2-233a27bb30ec"
      },
      "execution_count": 16,
      "outputs": [
        {
          "output_type": "stream",
          "name": "stdout",
          "text": [
            "8\n"
          ]
        }
      ]
    },
    {
      "cell_type": "code",
      "source": [
        "###  7. Write a function `factorial(n)` that calculates the factorial of a given number using a loop."
      ],
      "metadata": {
        "id": "-Igm3nTK28KB"
      },
      "execution_count": null,
      "outputs": []
    },
    {
      "cell_type": "code",
      "source": [
        "def factorial(n):\n",
        "    result = 1\n",
        "    for i in range(2, n + 1):\n",
        "        result *= i\n",
        "    return result\n",
        "\n",
        "print(factorial(5))"
      ],
      "metadata": {
        "colab": {
          "base_uri": "https://localhost:8080/"
        },
        "id": "byuhrxHp3Ssf",
        "outputId": "ff22aa77-f6b6-42f4-d00d-94ba3afbb128"
      },
      "execution_count": 26,
      "outputs": [
        {
          "output_type": "stream",
          "name": "stdout",
          "text": [
            "120\n"
          ]
        }
      ]
    },
    {
      "cell_type": "code",
      "source": [
        "###  8. Create a function `count_vowels(text)` that returns the number of vowels in a given string."
      ],
      "metadata": {
        "id": "TGmwa1vO3eFr"
      },
      "execution_count": null,
      "outputs": []
    },
    {
      "cell_type": "code",
      "source": [
        "def count_vowels(text):\n",
        "    vowels = \"aeiouAEIOU\"\n",
        "    count = 0\n",
        "    for char in text:\n",
        "        if char in vowels:\n",
        "            count += 1\n",
        "    return count\n",
        "\n",
        "print(count_vowels(\"Hello, World\"))\n",
        "\n"
      ],
      "metadata": {
        "colab": {
          "base_uri": "https://localhost:8080/"
        },
        "id": "tE_MBiPX4gJC",
        "outputId": "98a1209a-2a84-4cef-c2fc-9896cab0b4ad"
      },
      "execution_count": 32,
      "outputs": [
        {
          "output_type": "stream",
          "name": "stdout",
          "text": [
            "3\n"
          ]
        }
      ]
    },
    {
      "cell_type": "code",
      "source": [
        "## 9 Define a function `reverse_string(text)` that returns the reversed version of a given string."
      ],
      "metadata": {
        "id": "u3IK20F04gmx"
      },
      "execution_count": null,
      "outputs": []
    },
    {
      "cell_type": "code",
      "source": [
        "def reverse_string(num):\n",
        "  return num[::-1]\n",
        "\n",
        "print(reverse_string(\"hello python\"))"
      ],
      "metadata": {
        "colab": {
          "base_uri": "https://localhost:8080/"
        },
        "id": "4tI0q5Mk47GH",
        "outputId": "1b6098c2-e6cf-4abf-b9f7-47d21dbeb630"
      },
      "execution_count": 34,
      "outputs": [
        {
          "output_type": "stream",
          "name": "stdout",
          "text": [
            "nohtyp olleh\n"
          ]
        }
      ]
    },
    {
      "cell_type": "code",
      "source": [
        "### 10. Write a function `is_palindrome(text)` that checks if a string is a palindrome (same forward and backward)."
      ],
      "metadata": {
        "id": "xb-q7ht25Fyj"
      },
      "execution_count": null,
      "outputs": []
    },
    {
      "cell_type": "code",
      "source": [
        "def is_palindrome(text):\n",
        "    cleaned = text.lower().replace(\" \", \"\")\n",
        "    return cleaned == cleaned[::-1]\n",
        "print(is_palindrome(\"Racecar\"))\n",
        "print(is_palindrome(\"Hello\"))\n",
        "\n"
      ],
      "metadata": {
        "colab": {
          "base_uri": "https://localhost:8080/"
        },
        "id": "GwCNJ5sd5jqY",
        "outputId": "2627b631-06cf-4dac-9fc7-592434c6e588"
      },
      "execution_count": 36,
      "outputs": [
        {
          "output_type": "stream",
          "name": "stdout",
          "text": [
            "True\n",
            "False\n",
            "True\n"
          ]
        }
      ]
    },
    {
      "cell_type": "code",
      "source": [],
      "metadata": {
        "id": "b77FdD6d5mps"
      },
      "execution_count": null,
      "outputs": []
    }
  ]
}