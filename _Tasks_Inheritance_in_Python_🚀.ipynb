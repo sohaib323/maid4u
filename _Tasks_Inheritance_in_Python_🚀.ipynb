{
  "nbformat": 4,
  "nbformat_minor": 0,
  "metadata": {
    "colab": {
      "provenance": [],
      "authorship_tag": "ABX9TyOEi672wh56077NnACEU27U",
      "include_colab_link": true
    },
    "kernelspec": {
      "name": "python3",
      "display_name": "Python 3"
    },
    "language_info": {
      "name": "python"
    }
  },
  "cells": [
    {
      "cell_type": "markdown",
      "metadata": {
        "id": "view-in-github",
        "colab_type": "text"
      },
      "source": [
        "<a href=\"https://colab.research.google.com/github/sohaib323/maid4u/blob/main/_Tasks_Inheritance_in_Python_%F0%9F%9A%80.ipynb\" target=\"_parent\"><img src=\"https://colab.research.google.com/assets/colab-badge.svg\" alt=\"Open In Colab\"/></a>"
      ]
    },
    {
      "cell_type": "code",
      "execution_count": null,
      "metadata": {
        "id": "Ojm-EkpO82Hk"
      },
      "outputs": [],
      "source": [
        "### **Tasks : Inheritance in Python** 🚀"
      ]
    },
    {
      "cell_type": "code",
      "source": [
        "### *Task 1: Create a Parent and Child Class (Single Inheritance)**\n",
        "- Create a `Animal` class with a method `make_sound()` that prints `\"Animals make different sounds.\"`\n",
        "- Create a `Dog` class that inherits from `Animal`.\n",
        "- Create an object of `Dog` and call `make_sound()`.\n"
      ],
      "metadata": {
        "id": "yQcpBJpn83Fq"
      },
      "execution_count": null,
      "outputs": []
    },
    {
      "cell_type": "code",
      "source": [
        "\n",
        "class Animal:\n",
        "    def make_sound(self):\n",
        "        print(\"Animals make different sounds.\")\n",
        "\n",
        "\n",
        "class Dog(Animal):\n",
        "    pass\n",
        "\n",
        "my_dog = Dog()\n",
        "my_dog.make_sound()\n"
      ],
      "metadata": {
        "colab": {
          "base_uri": "https://localhost:8080/"
        },
        "id": "YJEQws5X87HF",
        "outputId": "6251566a-3c27-4d51-eefe-73ccc69ce3ad"
      },
      "execution_count": 2,
      "outputs": [
        {
          "output_type": "stream",
          "name": "stdout",
          "text": [
            "Animals make different sounds.\n"
          ]
        }
      ]
    },
    {
      "cell_type": "code",
      "source": [
        "### Task 2: Add an Extra Method in Child Class**\n",
        "- Modify the previous `Dog` class and add a method `bark()` that prints `\"Dog barks!\"`.\n",
        "- Create an object of `Dog` and call both `make_sound()` and `bark()`."
      ],
      "metadata": {
        "id": "FfEDd_vn8-89"
      },
      "execution_count": null,
      "outputs": []
    },
    {
      "cell_type": "code",
      "source": [
        "# Parent class\n",
        "class Animal:\n",
        "    def make_sound(self):\n",
        "        print(\"Animals make different sounds.\")\n",
        "\n",
        "\n",
        "class Dog(Animal):\n",
        "    def bark(self):\n",
        "        print(\"Dog barks!\")\n",
        "\n",
        "# Create an object and call both methods\n",
        "my_dog = Dog()\n",
        "my_dog.make_sound()\n",
        "my_dog.bark()\n"
      ],
      "metadata": {
        "id": "u0f1eqKb9Iui"
      },
      "execution_count": null,
      "outputs": []
    },
    {
      "cell_type": "code",
      "source": [
        "### *Task 3: Single Inheritance with Constructor (`__init__`)**\n",
        "- Create a `Person` class with a constructor (`__init__`) that takes `name` and `age`.\n",
        "- Create a `Student` class that inherits from `Person` and adds `grade` attribute.\n",
        "- Create an object of `Student` and print `name`, `age`, and `grade`.\n"
      ],
      "metadata": {
        "id": "7xjIVZ9o9UiR"
      },
      "execution_count": null,
      "outputs": []
    },
    {
      "cell_type": "code",
      "source": [
        "\n",
        "class Person:\n",
        "    def __init__(self, name, age):\n",
        "        self.name = name\n",
        "        self.age = age\n",
        "\n",
        "\n",
        "class Student(Person):\n",
        "    def __init__(self, name, age, grade):\n",
        "        super().__init__(name, age)  # Call the constructor of the parent class\n",
        "        self.grade = grade\n",
        "\n",
        "\n",
        "student1 = Student(\"Aarav\", 16, \"10th Grade\")\n",
        "\n",
        "\n",
        "print(\"Name:\", student1.name)\n",
        "print(\"Age:\", student1.age)\n",
        "print(\"Grade:\", student1.grade)\n"
      ],
      "metadata": {
        "colab": {
          "base_uri": "https://localhost:8080/"
        },
        "id": "MtyOf51B9YNX",
        "outputId": "c38d576b-ad4d-48eb-c5e1-348aa4530b40"
      },
      "execution_count": 3,
      "outputs": [
        {
          "output_type": "stream",
          "name": "stdout",
          "text": [
            "Name: Aarav\n",
            "Age: 16\n",
            "Grade: 10th Grade\n"
          ]
        }
      ]
    },
    {
      "cell_type": "code",
      "source": [
        "## *Task 4: Multiple Inheritance (Two Parents, One Child)**\n",
        "- Create a `Teacher` class with a method `teach()`, which prints `\"Teaching students\"`.\n",
        "- Create a `Writer` class with a method `write()`, which prints `\"Writing a book\"`.\n",
        "- Create a `AuthorTeacher` class that inherits from both `Teacher` and `Writer`.\n",
        "- Create an object of `AuthorTeacher` and call both `teach()` and `write()`.\n"
      ],
      "metadata": {
        "id": "5KptxQu_9hzS"
      },
      "execution_count": null,
      "outputs": []
    },
    {
      "cell_type": "code",
      "source": [
        "\n",
        "class Teacher:\n",
        "    def teach(self):\n",
        "        print(\"Teaching students\")\n",
        "\n",
        "\n",
        "class Writer:\n",
        "    def write(self):\n",
        "        print(\"Writing a book\")\n",
        "\n",
        "\n",
        "class AuthorTeacher(Teacher, Writer):\n",
        "    pass\n",
        "\n",
        "\n",
        "person = AuthorTeacher()\n",
        "person.teach()\n",
        "person.write()\n"
      ],
      "metadata": {
        "colab": {
          "base_uri": "https://localhost:8080/"
        },
        "id": "PrvqptvB9kGR",
        "outputId": "1646ed97-a6bd-4802-ac1e-af5198ca385f"
      },
      "execution_count": 4,
      "outputs": [
        {
          "output_type": "stream",
          "name": "stdout",
          "text": [
            "Teaching students\n",
            "Writing a book\n"
          ]
        }
      ]
    },
    {
      "cell_type": "code",
      "source": [
        "## Task 5: Multilevel Inheritance**\n",
        "- Create a `Grandparent` class with a method `family_wisdom()`.\n",
        "- Create a `Parent` class that inherits from `Grandparent` and adds `job()`.\n",
        "- Create a `Child` class that inherits from `Parent` and adds `play()`.\n",
        "- Call all three methods from a `Child` object."
      ],
      "metadata": {
        "id": "8JhJxGx59cba"
      },
      "execution_count": null,
      "outputs": []
    },
    {
      "cell_type": "code",
      "source": [
        "\n",
        "class Grandparent:\n",
        "    def family_wisdom(self):\n",
        "        print(\"Always be kind and honest.\")\n",
        "\n",
        "class Parent(Grandparent):\n",
        "    def job(self):\n",
        "        print(\"I work as a software engineer.\")\n",
        "\n",
        "class Child(Parent):\n",
        "    def play(self):\n",
        "        print(\"I love to play football!\")\n",
        "\n",
        "kid = Child()\n",
        "kid.family_wisdom()\n",
        "kid.job()\n",
        "kid.play()\n"
      ],
      "metadata": {
        "colab": {
          "base_uri": "https://localhost:8080/"
        },
        "id": "Fsws-UND9x_7",
        "outputId": "f1805b55-e82b-4a6f-920b-281e7173fff8"
      },
      "execution_count": 5,
      "outputs": [
        {
          "output_type": "stream",
          "name": "stdout",
          "text": [
            "Always be kind and honest.\n",
            "I work as a software engineer.\n",
            "I love to play football!\n"
          ]
        }
      ]
    },
    {
      "cell_type": "code",
      "source": [
        "###\n",
        "#### **Task 6: Hierarchical Inheritance (One Parent, Multiple Children)**\n",
        "- Create a `Vehicle` class with a method `engine()`, which prints `\"Vehicle has an engine.\"`\n",
        "- Create two classes: `Car` and `Bike`, both inheriting from `Vehicle`.\n",
        "- Create objects of `Car` and `Bike` and call `engine()`."
      ],
      "metadata": {
        "id": "nGNM_3fP-Amn"
      },
      "execution_count": null,
      "outputs": []
    },
    {
      "cell_type": "code",
      "source": [
        "\n",
        "class Vehicle:\n",
        "    def engine(self):\n",
        "        print(\"Vehicle has an engine.\")\n",
        "\n",
        "class Car(Vehicle):\n",
        "    pass\n",
        "\n",
        "# Child class 2\n",
        "class Bike(Vehicle):\n",
        "    pass\n",
        "\n",
        "car1 = Car()\n",
        "bike1 = Bike()\n",
        "\n",
        "car1.engine()\n",
        "bike1.engine()\n"
      ],
      "metadata": {
        "id": "4U7AAcTz-F2i"
      },
      "execution_count": null,
      "outputs": []
    },
    {
      "cell_type": "code",
      "source": [
        "## Task 7: Method Overriding (Modify Parent Method in Child)**\n",
        "- Create a `Bird` class with a method `sound()` that prints `\"Birds chirp\"`.\n",
        "- Create a `Parrot` class that overrides `sound()` to print `\"Parrots talk!\"`\n",
        "- Call `sound()` from both `Bird` and `Parrot` objects.\n"
      ],
      "metadata": {
        "id": "Y0JgnmAo-OMB"
      },
      "execution_count": null,
      "outputs": []
    },
    {
      "cell_type": "code",
      "source": [
        "\n",
        "class Bird:\n",
        "    def sound(self):\n",
        "        print(\"Birds chirp\")\n",
        "\n",
        "\n",
        "class Parrot(Bird):\n",
        "    def sound(self):\n",
        "        print(\"Parrots talk!\")\n",
        "\n",
        "\n",
        "generic_bird = Bird()\n",
        "talking_parrot = Parrot()\n",
        "\n",
        "\n",
        "generic_bird.sound()\n",
        "talking_parrot.sound()\n",
        "\n"
      ],
      "metadata": {
        "colab": {
          "base_uri": "https://localhost:8080/"
        },
        "id": "KheP1uRn-TBu",
        "outputId": "878584b9-25ac-412a-b2f3-4ff7b134e412"
      },
      "execution_count": 7,
      "outputs": [
        {
          "output_type": "stream",
          "name": "stdout",
          "text": [
            "Birds chirp\n",
            "Parrots talk!\n"
          ]
        }
      ]
    },
    {
      "cell_type": "code",
      "source": [
        "###\n",
        "#### **Task 8: Use `super()` to Call Parent Method**\n",
        "- Modify the previous `Parrot` class so that `sound()` first calls `Bird.sound()` using `super()`, then prints `\"Parrots talk!\"`\n",
        "- Call `sound()` from a `Parrot` object."
      ],
      "metadata": {
        "id": "MMIuLahn-l2H"
      },
      "execution_count": null,
      "outputs": []
    },
    {
      "cell_type": "code",
      "source": [
        "\n",
        "class Bird:\n",
        "    def sound(self):\n",
        "        print(\"Birds chirp\")\n",
        "\n",
        "\n",
        "class Parrot(Bird):\n",
        "    def sound(self):\n",
        "        super().sound()\n",
        "        print(\"Parrots talk!\")\n",
        "\n",
        "talking_parrot = Parrot()\n",
        "talking_parrot.sound()\n"
      ],
      "metadata": {
        "colab": {
          "base_uri": "https://localhost:8080/"
        },
        "id": "QWqGc-tR-qVi",
        "outputId": "b3e92c3c-f765-4f61-face-7377b8cfdd95"
      },
      "execution_count": 8,
      "outputs": [
        {
          "output_type": "stream",
          "name": "stdout",
          "text": [
            "Birds chirp\n",
            "Parrots talk!\n"
          ]
        }
      ]
    },
    {
      "cell_type": "code",
      "source": [
        "## **Task 9: Simple Bank Account using Inheritance**\n",
        "- Create a `BankAccount` class with `balance` and `deposit()` method.\n",
        "- Create a `SavingsAccount` class that inherits from `BankAccount` and adds `add_interest()` method.\n",
        "- Create a `SavingsAccount` object, deposit money, and apply interest."
      ],
      "metadata": {
        "id": "qHdvZG7S-zr3"
      },
      "execution_count": null,
      "outputs": []
    },
    {
      "cell_type": "code",
      "source": [
        "\n",
        "class BankAccount:\n",
        "    def __init__(self, balance=0):\n",
        "        self.balance = balance\n",
        "\n",
        "    def deposit(self, amount):\n",
        "        self.balance += amount\n",
        "        print(f\"Deposited: ₹{amount}\")\n",
        "\n",
        "class SavingsAccount(BankAccount):\n",
        "    def add_interest(self, interest_rate):\n",
        "        interest = self.balance * (interest_rate / 100)\n",
        "        self.balance += interest\n",
        "        print(f\"Interest added: ₹{interest:.2f}\")\n",
        "\n",
        "\n",
        "my_account = SavingsAccount()\n",
        "\n",
        "\n",
        "my_account.deposit(1000)\n",
        "my_account.add_interest(5)\n",
        "\n",
        "print(\"Final Balance: ₹\", my_account.balance)\n"
      ],
      "metadata": {
        "colab": {
          "base_uri": "https://localhost:8080/"
        },
        "id": "3fiR_791-4Bl",
        "outputId": "2c5a22c2-e599-4db3-eb62-5a743d76c865"
      },
      "execution_count": 9,
      "outputs": [
        {
          "output_type": "stream",
          "name": "stdout",
          "text": [
            "Deposited: ₹1000\n",
            "Interest added: ₹50.00\n",
            "Final Balance: ₹ 1050.0\n"
          ]
        }
      ]
    },
    {
      "cell_type": "code",
      "source": [
        "### *Task 10: Demonstrate MRO (Method Resolution Order)**\n",
        "- Create three classes:\n",
        "  - `A` with `show()` printing `\"Class A\"`\n",
        "  - `B` with `show()` printing `\"Class B\"`\n",
        "  - `C` inheriting from both `A` and `B`, but not defining `show()`\n",
        "- Create an object of `C` and call `show()`. Check which method gets executed due to **MRO**."
      ],
      "metadata": {
        "id": "89BEmLSj_B1P"
      },
      "execution_count": null,
      "outputs": []
    },
    {
      "cell_type": "code",
      "source": [
        "class A:\n",
        "    def show(self):\n",
        "        print(\"Class A\")\n",
        "\n",
        "class B:\n",
        "    def show(self):\n",
        "        print(\"Class B\")\n",
        "\n",
        "class C(A, B):\n",
        "    pass\n",
        "\n",
        "\n",
        "obj = C()\n",
        "obj.show()\n"
      ],
      "metadata": {
        "colab": {
          "base_uri": "https://localhost:8080/"
        },
        "id": "dFbAKxv-_M5d",
        "outputId": "077056f3-c5d0-4409-a24a-ecc78e6edb15"
      },
      "execution_count": 11,
      "outputs": [
        {
          "output_type": "stream",
          "name": "stdout",
          "text": [
            "Class A\n"
          ]
        }
      ]
    },
    {
      "cell_type": "code",
      "source": [],
      "metadata": {
        "id": "Ys0F01xH-0a4"
      },
      "execution_count": null,
      "outputs": []
    }
  ]
}