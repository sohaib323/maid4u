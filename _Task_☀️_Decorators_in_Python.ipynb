{
  "nbformat": 4,
  "nbformat_minor": 0,
  "metadata": {
    "colab": {
      "provenance": [],
      "authorship_tag": "ABX9TyPRgrGjn8sW+y1stCL669ZV",
      "include_colab_link": true
    },
    "kernelspec": {
      "name": "python3",
      "display_name": "Python 3"
    },
    "language_info": {
      "name": "python"
    }
  },
  "cells": [
    {
      "cell_type": "markdown",
      "metadata": {
        "id": "view-in-github",
        "colab_type": "text"
      },
      "source": [
        "<a href=\"https://colab.research.google.com/github/sohaib323/maid4u/blob/main/_Task_%E2%98%80%EF%B8%8F_Decorators_in_Python.ipynb\" target=\"_parent\"><img src=\"https://colab.research.google.com/assets/colab-badge.svg\" alt=\"Open In Colab\"/></a>"
      ]
    },
    {
      "cell_type": "code",
      "execution_count": null,
      "metadata": {
        "id": "g3gnlp1b4EtI"
      },
      "outputs": [],
      "source": [
        "### Task 1: Basic Decorator with Print\n",
        "**Question:** Create a decorator that prints “Hello from Decorator” before the function runs.\n",
        "**Requirements:**\n",
        "- Decorate a function `say_hi()`\n",
        "- Function should print “Hi Everyone!”"
      ]
    },
    {
      "cell_type": "code",
      "source": [
        "def my_decorator(func):\n",
        "    def wrapper():\n",
        "        print(\"Hello from Decorator\")\n",
        "        func()\n",
        "    return wrapper\n",
        "\n",
        "@my_decorator\n",
        "def say_hi():\n",
        "    print(\"Hi Everyone!\")\n",
        "\n",
        "\n",
        "say_hi()\n"
      ],
      "metadata": {
        "colab": {
          "base_uri": "https://localhost:8080/"
        },
        "id": "LsmQdsw-4K7k",
        "outputId": "3e689860-4504-4326-c06b-c84caedd7b40"
      },
      "execution_count": 1,
      "outputs": [
        {
          "output_type": "stream",
          "name": "stdout",
          "text": [
            "Hello from Decorator\n",
            "Hi Everyone!\n"
          ]
        }
      ]
    },
    {
      "cell_type": "code",
      "source": [
        "### 2  Task 2: Add Two Numbers\n",
        "**Question:** Write a decorator that prints “Adding Numbers…” before the function runs.\n",
        "**Requirements:**\n",
        "- Decorate a function `add()`\n",
        "- Inside `add()`, print the result of 4 + 6\n"
      ],
      "metadata": {
        "id": "mYqOYL704Pj1"
      },
      "execution_count": null,
      "outputs": []
    },
    {
      "cell_type": "code",
      "source": [
        "def add_decorator(func):\n",
        "    def wrapper():\n",
        "        print(\"Adding Numbers…\")\n",
        "        func()\n",
        "    return wrapper\n",
        "\n",
        "@add_decorator\n",
        "def add():\n",
        "    print(\"Result:\", 4 + 6)\n",
        "\n",
        "add()\n"
      ],
      "metadata": {
        "colab": {
          "base_uri": "https://localhost:8080/"
        },
        "id": "XtbUsP6a4WAh",
        "outputId": "3c712a59-4496-4159-cffc-92eb16cc6ecc"
      },
      "execution_count": 2,
      "outputs": [
        {
          "output_type": "stream",
          "name": "stdout",
          "text": [
            "Adding Numbers…\n",
            "Result: 10\n"
          ]
        }
      ]
    },
    {
      "cell_type": "code",
      "source": [
        "### Task 3: Subtract Two Numbers\n",
        "**Question:** Create a decorator that prints “Subtracting...” before running the function.\n",
        "**Requirements:**\n",
        "- Function `subtract()` should print 10 - 3\n",
        "- Use the decorator to add a message\n"
      ],
      "metadata": {
        "id": "lngjkTpq4bD_"
      },
      "execution_count": null,
      "outputs": []
    },
    {
      "cell_type": "code",
      "source": [
        "def subtract_decorator(func):\n",
        "    def wrapper():\n",
        "        print(\"Subtracting...\")\n",
        "        func()\n",
        "    return wrapper\n",
        "\n",
        "@subtract_decorator\n",
        "def subtract():\n",
        "    print(\"Result:\", 10 - 3)\n",
        "\n",
        "subtract()\n"
      ],
      "metadata": {
        "colab": {
          "base_uri": "https://localhost:8080/"
        },
        "id": "wtBdLvJr4fhy",
        "outputId": "f4fd20f1-1169-49ac-db5a-10d4b551c38b"
      },
      "execution_count": 3,
      "outputs": [
        {
          "output_type": "stream",
          "name": "stdout",
          "text": [
            "Subtracting...\n",
            "Result: 7\n"
          ]
        }
      ]
    },
    {
      "cell_type": "code",
      "source": [
        "###\n",
        "### ⚡ Task 4: Multiply Two Numbers\n",
        "**Question:** Make a decorator that prints “Multiplying Numbers...”\n",
        "**Requirements:**\n",
        "- Decorate a function `multiply()`\n",
        "- Function prints result of 5 × 5"
      ],
      "metadata": {
        "id": "3e5EN6zG4jRv"
      },
      "execution_count": null,
      "outputs": []
    },
    {
      "cell_type": "code",
      "source": [
        "def multiply_decorator(func):\n",
        "    def wrapper():\n",
        "        print(\"Multiplying Numbers...\")\n",
        "        func()\n",
        "    return wrapper\n",
        "\n",
        "@multiply_decorator\n",
        "def multiply():\n",
        "    print(\"Result:\", 5 * 5)\n",
        "\n",
        "multiply()\n",
        "\n"
      ],
      "metadata": {
        "colab": {
          "base_uri": "https://localhost:8080/"
        },
        "id": "BBi66W_v4Z4N",
        "outputId": "7fc0c7ab-a6d6-4fa9-8e9c-4d5c1719aa2e"
      },
      "execution_count": 4,
      "outputs": [
        {
          "output_type": "stream",
          "name": "stdout",
          "text": [
            "Multiplying Numbers...\n",
            "Result: 25\n"
          ]
        }
      ]
    },
    {
      "cell_type": "code",
      "source": [
        "###  Task 5: Divide Two Numbers\n",
        "**Question:** Use a decorator to print “Dividing Numbers...” before the function.\n",
        "**Requirements:**\n",
        "- Function `divide()` prints 20 ÷ 5"
      ],
      "metadata": {
        "id": "eHkZHFBt4uwH"
      },
      "execution_count": null,
      "outputs": []
    },
    {
      "cell_type": "code",
      "source": [
        "def divide_decorator(func):\n",
        "    def wrapper():\n",
        "        print(\"Dividing Numbers...\")\n",
        "        func()\n",
        "    return wrapper\n",
        "\n",
        "@divide_decorator\n",
        "def divide():\n",
        "    print(\"Result:\", 20 / 5)\n",
        "\n",
        "\n",
        "divide()\n"
      ],
      "metadata": {
        "colab": {
          "base_uri": "https://localhost:8080/"
        },
        "id": "4eOfAm5S4yiY",
        "outputId": "56863f45-ede9-4890-a8e4-513055242f09"
      },
      "execution_count": 6,
      "outputs": [
        {
          "output_type": "stream",
          "name": "stdout",
          "text": [
            "Dividing Numbers...\n",
            "Result: 4.0\n"
          ]
        }
      ]
    },
    {
      "cell_type": "code",
      "source": [],
      "metadata": {
        "id": "5vtpmI6t4y-n"
      },
      "execution_count": null,
      "outputs": []
    },
    {
      "cell_type": "code",
      "source": [
        "### Task 6: Logic-Based Function\n",
        "**Question:** Use a decorator to print “Checking even or odd...” before running the function.\n",
        "**Requirements:**\n",
        "- Function prints if number 7 is even or odd (use `%`)"
      ],
      "metadata": {
        "id": "DEXfpk9x42WY"
      },
      "execution_count": null,
      "outputs": []
    },
    {
      "cell_type": "code",
      "source": [
        "def even_odd_decorator(func):\n",
        "    def wrapper():\n",
        "        print(\"Checking even or odd...\")\n",
        "        func()\n",
        "    return wrapper\n",
        "\n",
        "@even_odd_decorator\n",
        "def check_number():\n",
        "    number = 7\n",
        "    if number % 2 == 0:\n",
        "        print(f\"{number} is even.\")\n",
        "    else:\n",
        "        print(f\"{number} is odd.\")\n",
        "\n",
        "\n",
        "check_number()\n"
      ],
      "metadata": {
        "colab": {
          "base_uri": "https://localhost:8080/"
        },
        "id": "SRNY9ZL_46Ef",
        "outputId": "8c469625-f782-4fe4-f976-b6c857bf0085"
      },
      "execution_count": 8,
      "outputs": [
        {
          "output_type": "stream",
          "name": "stdout",
          "text": [
            "Checking even or odd...\n",
            "7 is odd.\n"
          ]
        }
      ]
    },
    {
      "cell_type": "code",
      "source": [
        "## Task 7: Add First, Then Multiply (Two Decorators)\n",
        "**Question:** Create two decorators: one for addition, one for multiplication.\n",
        "**Requirements:**\n",
        "- `@add_decorator`: prints “Doing Addition”\n",
        "- `@multiply_decorator`: prints “Doing Multiplication”\n",
        "- Function prints result: 2 + 3, then 5 × 2\n"
      ],
      "metadata": {
        "id": "kZ9PJm3Z4_HH"
      },
      "execution_count": null,
      "outputs": []
    },
    {
      "cell_type": "code",
      "source": [
        "def add_decorator(func):\n",
        "    def wrapper():\n",
        "        print(\"Doing Addition\")\n",
        "        func()\n",
        "    return wrapper\n",
        "\n",
        "def multiply_decorator(func):\n",
        "    def wrapper():\n",
        "        print(\"Doing Multiplication\")\n",
        "        func()\n",
        "    return wrapper\n",
        "\n",
        "@add_decorator\n",
        "@multiply_decorator\n",
        "def calculate():\n",
        "    result1 = 2 + 3\n",
        "    result2 = result1 * 2\n",
        "    print(f\"2 + 3 = {result1}\")\n",
        "    print(f\"{result1} × 2 = {result2}\")\n",
        "\n",
        "\n",
        "calculate()\n"
      ],
      "metadata": {
        "colab": {
          "base_uri": "https://localhost:8080/"
        },
        "id": "-gTmXSGg5F2u",
        "outputId": "589e22ec-ca4a-40c1-dce0-7592ded38009"
      },
      "execution_count": 9,
      "outputs": [
        {
          "output_type": "stream",
          "name": "stdout",
          "text": [
            "Doing Addition\n",
            "Doing Multiplication\n",
            "2 + 3 = 5\n",
            "5 × 2 = 10\n"
          ]
        }
      ]
    },
    {
      "cell_type": "code",
      "source": [
        "## Task 8: Greet with Border\n",
        "**Question:** Use a decorator to add a line of `----` before and after the greeting.\n",
        "**Requirements:**\n",
        "- Function prints “Welcome to Python!”\n",
        "- Decorator prints lines\n"
      ],
      "metadata": {
        "id": "Pu7Zga__5HkG"
      },
      "execution_count": null,
      "outputs": []
    },
    {
      "cell_type": "code",
      "source": [
        "def border_decorator(func):\n",
        "    def wrapper():\n",
        "        print(\"----\")\n",
        "        func()\n",
        "        print(\"----\")\n",
        "    return wrapper\n",
        "\n",
        "@border_decorator\n",
        "def greet():\n",
        "    print(\"Welcome to Python!\")\n",
        "\n",
        "\n",
        "greet()\n"
      ],
      "metadata": {
        "colab": {
          "base_uri": "https://localhost:8080/"
        },
        "id": "TJg5O1dc5Mwn",
        "outputId": "a0544c27-dc25-4ed2-f49e-b6d728fd34f2"
      },
      "execution_count": 10,
      "outputs": [
        {
          "output_type": "stream",
          "name": "stdout",
          "text": [
            "----\n",
            "Welcome to Python!\n",
            "----\n"
          ]
        }
      ]
    },
    {
      "cell_type": "code",
      "source": [
        "## Task 9: Count from 1 to 5\n",
        "**Question:** Decorator prints “Counting…” before calling a function that prints numbers 1 to 5.\n",
        "**Requirements:**\n",
        "- Use a `for` loop\n",
        "- Decorator prints message before loop"
      ],
      "metadata": {
        "id": "mx4Qp5aR5GTm"
      },
      "execution_count": null,
      "outputs": []
    },
    {
      "cell_type": "code",
      "source": [
        "def count_decorator(func):\n",
        "    def wrapper():\n",
        "        print(\"Counting...\")\n",
        "        func()\n",
        "    return wrapper\n",
        "\n",
        "@count_decorator\n",
        "def print_numbers():\n",
        "    for i in range(1, 6):\n",
        "        print(i)\n",
        "\n",
        "\n",
        "print_numbers()\n"
      ],
      "metadata": {
        "colab": {
          "base_uri": "https://localhost:8080/"
        },
        "id": "pV3sO1qP5VM_",
        "outputId": "02870820-9fd0-41dc-8bea-0a32d8412f8b"
      },
      "execution_count": 12,
      "outputs": [
        {
          "output_type": "stream",
          "name": "stdout",
          "text": [
            "Counting...\n",
            "1\n",
            "2\n",
            "3\n",
            "4\n",
            "5\n"
          ]
        }
      ]
    },
    {
      "cell_type": "code",
      "source": [
        "###  Task 10: Two Decorators – Fancy and Simple\n",
        "**Question:** Use two decorators on a function that prints \"This is Python.\"\n",
        "**Requirements:**\n",
        "- `@fancy`: adds *** before and after\n",
        "- `@simple`: adds “--- Start ---” and “--- End ---”"
      ],
      "metadata": {
        "id": "QHRwDI655YEB"
      },
      "execution_count": null,
      "outputs": []
    },
    {
      "cell_type": "code",
      "source": [
        "def fancy(func):\n",
        "    def wrapper():\n",
        "        print(\"***\")\n",
        "        func()\n",
        "        print(\"***\")\n",
        "    return wrapper\n",
        "\n",
        "def simple(func):\n",
        "    def wrapper():\n",
        "        print(\"--- Start ---\")\n",
        "        func()\n",
        "        print(\"--- End ---\")\n",
        "    return wrapper\n",
        "\n",
        "@fancy\n",
        "@simple\n",
        "def show_message():\n",
        "    print(\"This is Python.\")\n",
        "\n",
        "\n",
        "show_message()\n"
      ],
      "metadata": {
        "colab": {
          "base_uri": "https://localhost:8080/"
        },
        "id": "UGy49ZKS5VpJ",
        "outputId": "b761d533-05bb-4820-97d4-61567a0615f8"
      },
      "execution_count": 13,
      "outputs": [
        {
          "output_type": "stream",
          "name": "stdout",
          "text": [
            "***\n",
            "--- Start ---\n",
            "This is Python.\n",
            "--- End ---\n",
            "***\n"
          ]
        }
      ]
    },
    {
      "cell_type": "code",
      "source": [],
      "metadata": {
        "id": "hHQTpTUJ5ib0"
      },
      "execution_count": null,
      "outputs": []
    }
  ]
}