{
  "nbformat": 4,
  "nbformat_minor": 0,
  "metadata": {
    "colab": {
      "provenance": [],
      "authorship_tag": "ABX9TyMXAF1AkXZx48A1Luiw2+la",
      "include_colab_link": true
    },
    "kernelspec": {
      "name": "python3",
      "display_name": "Python 3"
    },
    "language_info": {
      "name": "python"
    }
  },
  "cells": [
    {
      "cell_type": "markdown",
      "metadata": {
        "id": "view-in-github",
        "colab_type": "text"
      },
      "source": [
        "<a href=\"https://colab.research.google.com/github/sohaib323/maid4u/blob/main/_DAY_%E2%98%80%EF%B8%8F_%60print()%60_Functio.ipynb\" target=\"_parent\"><img src=\"https://colab.research.google.com/assets/colab-badge.svg\" alt=\"Open In Colab\"/></a>"
      ]
    },
    {
      "cell_type": "code",
      "execution_count": null,
      "metadata": {
        "id": "xdfo1SlLQqUJ"
      },
      "outputs": [],
      "source": [
        "## 1 *Basic Output:** Write a program that prints:\n",
        "   ```"
      ]
    },
    {
      "cell_type": "code",
      "source": [
        "print('Hello world')"
      ],
      "metadata": {
        "colab": {
          "base_uri": "https://localhost:8080/"
        },
        "id": "MiIx2krbQ2IW",
        "outputId": "82f11025-3ca3-468b-c49e-3a8d75c6d0aa"
      },
      "execution_count": 1,
      "outputs": [
        {
          "output_type": "stream",
          "name": "stdout",
          "text": [
            "Hello world\n"
          ]
        }
      ]
    },
    {
      "cell_type": "code",
      "source": [
        "## 2. **Printing a Number:** Write a Python program that prints the number `10`.\n"
      ],
      "metadata": {
        "id": "Ppb59zF4Q7VR"
      },
      "execution_count": null,
      "outputs": []
    },
    {
      "cell_type": "code",
      "source": [
        "num = 10\n",
        "print(num)"
      ],
      "metadata": {
        "colab": {
          "base_uri": "https://localhost:8080/"
        },
        "id": "ZxjV2v5OQ_vu",
        "outputId": "4c6d1459-7686-4937-bbae-d17ca5d63d80"
      },
      "execution_count": 2,
      "outputs": [
        {
          "output_type": "stream",
          "name": "stdout",
          "text": [
            "10\n"
          ]
        }
      ]
    },
    {
      "cell_type": "code",
      "source": [
        "## 3. **Using Variables:** Store your name in a variable and print:\n",
        ""
      ],
      "metadata": {
        "id": "N6pPuoqERD6n"
      },
      "execution_count": null,
      "outputs": []
    },
    {
      "cell_type": "code",
      "source": [
        "name = \"sohaib\"\n",
        "print(name)"
      ],
      "metadata": {
        "colab": {
          "base_uri": "https://localhost:8080/"
        },
        "id": "xu64hQDcRMyS",
        "outputId": "55d59674-3fdb-4137-8539-c35a2f954d49"
      },
      "execution_count": 3,
      "outputs": [
        {
          "output_type": "stream",
          "name": "stdout",
          "text": [
            "sohaib\n"
          ]
        }
      ]
    },
    {
      "cell_type": "code",
      "source": [
        "## 4. **Printing Multiple Values:** Use a single `print()` statement to display:\n",
        "   ```"
      ],
      "metadata": {
        "id": "8LQnLX61RS-k"
      },
      "execution_count": null,
      "outputs": []
    },
    {
      "cell_type": "code",
      "source": [
        "print(5**2)"
      ],
      "metadata": {
        "colab": {
          "base_uri": "https://localhost:8080/"
        },
        "id": "wWd6E74CRXJ9",
        "outputId": "58d2ece0-3f02-4288-eaba-c6ac485ab3f1"
      },
      "execution_count": 4,
      "outputs": [
        {
          "output_type": "stream",
          "name": "stdout",
          "text": [
            "25\n"
          ]
        }
      ]
    },
    {
      "cell_type": "code",
      "source": [
        "## 5. **Using `sep`:** Print three words with a `-` between them."
      ],
      "metadata": {
        "id": "Jdv6UCTwRa9a"
      },
      "execution_count": null,
      "outputs": []
    },
    {
      "cell_type": "code",
      "source": [
        "print('apple', 'banana', 'cherry', sep='-')"
      ],
      "metadata": {
        "colab": {
          "base_uri": "https://localhost:8080/"
        },
        "id": "lWOrLpzURghZ",
        "outputId": "596fee06-1b19-4cfd-c55b-739a780f48f1"
      },
      "execution_count": 6,
      "outputs": [
        {
          "output_type": "stream",
          "name": "stdout",
          "text": [
            "apple-banana-cherry\n"
          ]
        }
      ]
    },
    {
      "cell_type": "code",
      "source": [
        "## 6. **Using `end`:** Print two sentences using two `print()` statements, but make sure they appear on the same line."
      ],
      "metadata": {
        "id": "Pp3ZlLoQR1nd"
      },
      "execution_count": null,
      "outputs": []
    },
    {
      "cell_type": "code",
      "source": [
        "name =\"sohaib\"\n",
        "name1 = \"khan\"\n",
        "print(name,name1)"
      ],
      "metadata": {
        "colab": {
          "base_uri": "https://localhost:8080/"
        },
        "id": "jR4OiFSqR_Tv",
        "outputId": "6bb5cf92-ed8d-4a62-8bc6-1ef04835bbc6"
      },
      "execution_count": 7,
      "outputs": [
        {
          "output_type": "stream",
          "name": "stdout",
          "text": [
            "sohaib khan\n"
          ]
        }
      ]
    },
    {
      "cell_type": "code",
      "source": [
        "### 7. Concatenation:** Print a sentence by combining strings using `+`."
      ],
      "metadata": {
        "id": "SYB6M0MjSIKh"
      },
      "execution_count": null,
      "outputs": []
    },
    {
      "cell_type": "code",
      "source": [
        "num = 'sohaib'\n",
        "num1 = 'khan'\n",
        "print(num+num1)"
      ],
      "metadata": {
        "colab": {
          "base_uri": "https://localhost:8080/"
        },
        "id": "mxfG6BEvSPmz",
        "outputId": "bd3c5b10-6029-46e6-900c-5acaf8f052a8"
      },
      "execution_count": 8,
      "outputs": [
        {
          "output_type": "stream",
          "name": "stdout",
          "text": [
            "sohaibkhan\n"
          ]
        }
      ]
    },
    {
      "cell_type": "code",
      "source": [
        "### 8 Printing a Calculation:** Write a program that prints the sum of two numbers.\n"
      ],
      "metadata": {
        "id": "_EHvkwBlSc9i"
      },
      "execution_count": null,
      "outputs": []
    },
    {
      "cell_type": "code",
      "source": [
        "num = 10\n",
        "num1 = 20\n",
        "print(num + num1)"
      ],
      "metadata": {
        "colab": {
          "base_uri": "https://localhost:8080/"
        },
        "id": "8KafsKg2SZvd",
        "outputId": "d76c4986-da3c-40cb-fa8d-186d40951a48"
      },
      "execution_count": 10,
      "outputs": [
        {
          "output_type": "stream",
          "name": "stdout",
          "text": [
            "30\n"
          ]
        }
      ]
    },
    {
      "cell_type": "code",
      "source": [
        "### 9. **Using f-strings:** Print your name and age in the following format:"
      ],
      "metadata": {
        "id": "W3fEkPbHSueG"
      },
      "execution_count": null,
      "outputs": []
    },
    {
      "cell_type": "code",
      "source": [
        "age = 10\n",
        "print(f'my name is sohaib and my age is {age}')"
      ],
      "metadata": {
        "colab": {
          "base_uri": "https://localhost:8080/"
        },
        "id": "Xl88QhOfS3rl",
        "outputId": "5ea872b9-a19f-49c8-c1f7-0e0d4afcdc8c"
      },
      "execution_count": 14,
      "outputs": [
        {
          "output_type": "stream",
          "name": "stdout",
          "text": [
            "my name is sohaib and my age is 10\n"
          ]
        }
      ]
    },
    {
      "cell_type": "code",
      "source": [
        "### 10. **Fun Fact:** Print an interesting fact about Python using the `print()` function."
      ],
      "metadata": {
        "id": "3E7pydaUTAph"
      },
      "execution_count": null,
      "outputs": []
    },
    {
      "cell_type": "code",
      "source": [
        "print(\"Fun Fact: The name 'Python' comes from 'Monty Python', not the snake!\")\n"
      ],
      "metadata": {
        "colab": {
          "base_uri": "https://localhost:8080/"
        },
        "id": "cdzN8IjITNDM",
        "outputId": "3e460297-e010-4247-8822-702d28cc3bfa"
      },
      "execution_count": 17,
      "outputs": [
        {
          "output_type": "stream",
          "name": "stdout",
          "text": [
            "Fun Fact: The name 'Python' comes from 'Monty Python', not the snake!\n"
          ]
        }
      ]
    },
    {
      "cell_type": "code",
      "source": [],
      "metadata": {
        "id": "8nOnrOysTVK7"
      },
      "execution_count": null,
      "outputs": []
    }
  ]
}