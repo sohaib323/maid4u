{
  "nbformat": 4,
  "nbformat_minor": 0,
  "metadata": {
    "colab": {
      "provenance": [],
      "authorship_tag": "ABX9TyPl9jZiaGuqBme9BlY5TZwO",
      "include_colab_link": true
    },
    "kernelspec": {
      "name": "python3",
      "display_name": "Python 3"
    },
    "language_info": {
      "name": "python"
    }
  },
  "cells": [
    {
      "cell_type": "markdown",
      "metadata": {
        "id": "view-in-github",
        "colab_type": "text"
      },
      "source": [
        "<a href=\"https://colab.research.google.com/github/sohaib323/maid4u/blob/main/_Task_Tuple_in_Python_.ipynb\" target=\"_parent\"><img src=\"https://colab.research.google.com/assets/colab-badge.svg\" alt=\"Open In Colab\"/></a>"
      ]
    },
    {
      "cell_type": "code",
      "execution_count": null,
      "metadata": {
        "id": "OtPQXWQt6cUd"
      },
      "outputs": [],
      "source": [
        "### **Task: Tuple in Python**"
      ]
    },
    {
      "cell_type": "code",
      "source": [
        "###1 Create a tuple `fruits` with values `(\"apple\", \"banana\", \"cherry\")` and print it."
      ],
      "metadata": {
        "id": "1AMgOLtw6dXO"
      },
      "execution_count": null,
      "outputs": []
    },
    {
      "cell_type": "code",
      "source": [
        "fruits = (\"apple\", \"banana\", \"cherry\")\n",
        "print(fruits)"
      ],
      "metadata": {
        "colab": {
          "base_uri": "https://localhost:8080/"
        },
        "id": "ygGpNKKZ6gUh",
        "outputId": "5f635855-9710-49da-887e-c6fb4bf7891e"
      },
      "execution_count": null,
      "outputs": [
        {
          "output_type": "stream",
          "name": "stdout",
          "text": [
            "('apple', 'banana', 'cherry')\n"
          ]
        }
      ]
    },
    {
      "cell_type": "code",
      "source": [
        "### 2. Access and print the first and last elements of the `fruits` tuple using indexing."
      ],
      "metadata": {
        "id": "tbhJPDtf6lCd"
      },
      "execution_count": null,
      "outputs": []
    },
    {
      "cell_type": "code",
      "source": [
        "print(fruits[-1])"
      ],
      "metadata": {
        "colab": {
          "base_uri": "https://localhost:8080/"
        },
        "id": "MqkVlMjX6px1",
        "outputId": "18d0017d-81f9-4a2c-b5e7-c5bd19251eff"
      },
      "execution_count": null,
      "outputs": [
        {
          "output_type": "stream",
          "name": "stdout",
          "text": [
            "cherry\n"
          ]
        }
      ]
    },
    {
      "cell_type": "code",
      "source": [
        "### 3   Use slicing to print the first two elements of the `fruits` tuple.\n"
      ],
      "metadata": {
        "id": "nGGvPGQD6tDy"
      },
      "execution_count": null,
      "outputs": []
    },
    {
      "cell_type": "code",
      "source": [
        "print(fruits[0],fruits[1])"
      ],
      "metadata": {
        "colab": {
          "base_uri": "https://localhost:8080/"
        },
        "id": "M1kcDys76yFO",
        "outputId": "a06e9e88-4e09-41fc-c306-5a63253961fc"
      },
      "execution_count": null,
      "outputs": [
        {
          "output_type": "stream",
          "name": "stdout",
          "text": [
            "apple banana\n"
          ]
        }
      ]
    },
    {
      "cell_type": "code",
      "source": [
        "### 4. Create a tuple `numbers` with values `(10, 20, 30, 40)`, and find its length using `len()`."
      ],
      "metadata": {
        "id": "ZgfIqshA63eG"
      },
      "execution_count": null,
      "outputs": []
    },
    {
      "cell_type": "code",
      "source": [
        "num = (10,20,30,40)\n",
        "print(len(num))"
      ],
      "metadata": {
        "colab": {
          "base_uri": "https://localhost:8080/"
        },
        "id": "7-MXpX4W67QH",
        "outputId": "73d25f39-fcdc-4f24-ff14-f00f25fbd9dc"
      },
      "execution_count": null,
      "outputs": [
        {
          "output_type": "stream",
          "name": "stdout",
          "text": [
            "4\n"
          ]
        }
      ]
    },
    {
      "cell_type": "code",
      "source": [
        "### 5. Check how many times `\"apple\"` appears in the tuple `(\"apple\", \"banana\", \"apple\", \"cherry\")` using `count()`."
      ],
      "metadata": {
        "id": "yM-3196L7CVZ"
      },
      "execution_count": null,
      "outputs": []
    },
    {
      "cell_type": "code",
      "source": [
        "print(fruits.count(\"apple\"))"
      ],
      "metadata": {
        "colab": {
          "base_uri": "https://localhost:8080/"
        },
        "id": "0xphf7c27GfV",
        "outputId": "1192592d-fc2c-4fcc-92a6-cb3f5e02882f"
      },
      "execution_count": null,
      "outputs": [
        {
          "output_type": "stream",
          "name": "stdout",
          "text": [
            "1\n"
          ]
        }
      ]
    },
    {
      "cell_type": "code",
      "source": [
        "### 6 Find the index of `\"banana\"` in the tuple `(\"apple\", \"banana\", \"cherry\")` using `index()"
      ],
      "metadata": {
        "id": "9PKId5g17LvH"
      },
      "execution_count": null,
      "outputs": []
    },
    {
      "cell_type": "code",
      "source": [
        "print(fruits.index(\"banana\"))"
      ],
      "metadata": {
        "colab": {
          "base_uri": "https://localhost:8080/"
        },
        "id": "PSzbwI4_7Pjc",
        "outputId": "ee084d5d-0894-4b81-ccaf-1c021b2ba998"
      },
      "execution_count": null,
      "outputs": [
        {
          "output_type": "stream",
          "name": "stdout",
          "text": [
            "1\n"
          ]
        }
      ]
    },
    {
      "cell_type": "code",
      "source": [
        "### 7. Concatenate two tuples `(1, 2, 3)` and `(4, 5, 6)` and print the resulting tuple."
      ],
      "metadata": {
        "id": "TcNDPXpc7VfT"
      },
      "execution_count": null,
      "outputs": []
    },
    {
      "cell_type": "code",
      "source": [
        "name = (1,2,3)\n",
        "name1 = (4,5,6)\n",
        "print(name+name1)"
      ],
      "metadata": {
        "colab": {
          "base_uri": "https://localhost:8080/"
        },
        "id": "Usu3PENp7cyU",
        "outputId": "8b7ac742-be18-40a2-e49d-2c25fc4e70cc"
      },
      "execution_count": null,
      "outputs": [
        {
          "output_type": "stream",
          "name": "stdout",
          "text": [
            "(1, 2, 3, 4, 5, 6)\n"
          ]
        }
      ]
    },
    {
      "cell_type": "code",
      "source": [
        "### 8 Repeat the tuple `(1, 2)` three times and print the result."
      ],
      "metadata": {
        "id": "Ic40g13l7lYo"
      },
      "execution_count": null,
      "outputs": []
    },
    {
      "cell_type": "code",
      "source": [
        "num = (1,2)\n",
        "print(num*3)"
      ],
      "metadata": {
        "colab": {
          "base_uri": "https://localhost:8080/"
        },
        "id": "xGOwRNnX7ogN",
        "outputId": "5e95033b-404d-4e59-c19a-f98ae3f1c14a"
      },
      "execution_count": null,
      "outputs": [
        {
          "output_type": "stream",
          "name": "stdout",
          "text": [
            "(1, 2, 1, 2, 1, 2)\n"
          ]
        }
      ]
    },
    {
      "cell_type": "code",
      "source": [
        "####  9. Convert the tuple `(\"red\", \"green\", \"blue\")` into a list, add `\"yellow\"`, and convert it back into a tuple"
      ],
      "metadata": {
        "id": "F9XINfkO7uU-"
      },
      "execution_count": 1,
      "outputs": []
    },
    {
      "cell_type": "code",
      "source": [
        "subbu = (\"red\",\"green\",\"blue\")\n",
        "subu=list(subbu)\n",
        "subu.append(\"yellow\")\n",
        "subbu=tuple(subu)\n",
        "print(subbu)"
      ],
      "metadata": {
        "colab": {
          "base_uri": "https://localhost:8080/"
        },
        "id": "h1Y1kDHJ77-J",
        "outputId": "0f39d6bd-ef90-4679-fa86-56408ddc8913"
      },
      "execution_count": 8,
      "outputs": [
        {
          "output_type": "stream",
          "name": "stdout",
          "text": [
            "('red', 'green', 'blue', 'yellow')\n"
          ]
        }
      ]
    },
    {
      "cell_type": "code",
      "source": [
        "\"### 10 Write a loop to iterate through the tuple `(\"Python\", \"Java\", \"C++\")` and print each item."
      ],
      "metadata": {
        "id": "Kj_MMbby7ypE"
      },
      "execution_count": null,
      "outputs": []
    },
    {
      "cell_type": "code",
      "source": [
        "name = (\"Python\", \"Java\", \"C++\")\n",
        "for i in name :\n",
        "  print(name)"
      ],
      "metadata": {
        "colab": {
          "base_uri": "https://localhost:8080/"
        },
        "id": "u59RZxez8rpd",
        "outputId": "a37ddb91-efe8-4232-a6e8-1322bcc5919f"
      },
      "execution_count": null,
      "outputs": [
        {
          "output_type": "stream",
          "name": "stdout",
          "text": [
            "('Python', 'Java', 'C++')\n",
            "('Python', 'Java', 'C++')\n",
            "('Python', 'Java', 'C++')\n"
          ]
        }
      ]
    },
    {
      "cell_type": "code",
      "source": [],
      "metadata": {
        "id": "0pxJFbGy8yPe"
      },
      "execution_count": null,
      "outputs": []
    }
  ]
}