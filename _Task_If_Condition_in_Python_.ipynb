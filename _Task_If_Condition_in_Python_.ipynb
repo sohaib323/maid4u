{
  "nbformat": 4,
  "nbformat_minor": 0,
  "metadata": {
    "colab": {
      "provenance": [],
      "authorship_tag": "ABX9TyOkVJ0hmBTIa/b7mcIf6ZUX",
      "include_colab_link": true
    },
    "kernelspec": {
      "name": "python3",
      "display_name": "Python 3"
    },
    "language_info": {
      "name": "python"
    }
  },
  "cells": [
    {
      "cell_type": "markdown",
      "metadata": {
        "id": "view-in-github",
        "colab_type": "text"
      },
      "source": [
        "<a href=\"https://colab.research.google.com/github/sohaib323/maid4u/blob/main/_Task_If_Condition_in_Python_.ipynb\" target=\"_parent\"><img src=\"https://colab.research.google.com/assets/colab-badge.svg\" alt=\"Open In Colab\"/></a>"
      ]
    },
    {
      "cell_type": "code",
      "execution_count": null,
      "metadata": {
        "id": "j97h0g7k7N1g"
      },
      "outputs": [],
      "source": [
        "### **Task: If Condition in Python**\n"
      ]
    },
    {
      "cell_type": "code",
      "source": [
        "### 1. Write a program that checks if a number is positive. If it is, print `\"Positive Number\"`."
      ],
      "metadata": {
        "id": "LiRPOf2W8wOB"
      },
      "execution_count": null,
      "outputs": []
    },
    {
      "cell_type": "code",
      "source": [
        "num = int(input(\"enter a value\"))\n",
        "if num > 0:\n",
        "  print(\"its positive number\")\n",
        "else:\n",
        "  print(\"its negatice number\")\n"
      ],
      "metadata": {
        "colab": {
          "base_uri": "https://localhost:8080/"
        },
        "id": "w6oHoalF80JU",
        "outputId": "1c5b3a2c-0395-42ca-fac6-fbc683d81f66"
      },
      "execution_count": 1,
      "outputs": [
        {
          "output_type": "stream",
          "name": "stdout",
          "text": [
            "enter a value-1\n",
            "its negatice number\n"
          ]
        }
      ]
    },
    {
      "cell_type": "code",
      "source": [
        "### 2. Create an `if-else` statement that checks if a person is eligible to vote (age ≥ 18)."
      ],
      "metadata": {
        "id": "qSGTZ6al9RJd"
      },
      "execution_count": null,
      "outputs": []
    },
    {
      "cell_type": "code",
      "source": [
        "age =int(input(\"enter a value\"))\n",
        "if age >= 18:\n",
        "  print(\"eligible to vote\")\n",
        "else:\n",
        "  print(\"not eligible for vote\")"
      ],
      "metadata": {
        "colab": {
          "base_uri": "https://localhost:8080/"
        },
        "id": "OMdnJHw69aSP",
        "outputId": "59e0826f-7e95-44a2-f503-d839c605f1f1"
      },
      "execution_count": 5,
      "outputs": [
        {
          "output_type": "stream",
          "name": "stdout",
          "text": [
            "enter a value16\n",
            "not eligible for vote\n"
          ]
        }
      ]
    },
    {
      "cell_type": "code",
      "source": [
        "## 3. Write an `if-elif-else` condition to categorize a number as positive, negative, or zero."
      ],
      "metadata": {
        "id": "n7V3hlUf9sLS"
      },
      "execution_count": 4,
      "outputs": []
    },
    {
      "cell_type": "code",
      "source": [
        "num =int(input(\"enter a values\"))\n",
        "if num > 0:\n",
        "    print(\"its positive number\")\n",
        "elif num < 0:\n",
        "    print(\"its negative number\")\n",
        "else:\n",
        "    print(\"its zero\")"
      ],
      "metadata": {
        "colab": {
          "base_uri": "https://localhost:8080/"
        },
        "id": "b_lQXAh4-dkk",
        "outputId": "117a086c-8cd8-409e-bc85-01805ac48e4e"
      },
      "execution_count": 14,
      "outputs": [
        {
          "output_type": "stream",
          "name": "stdout",
          "text": [
            "enter a values-1\n",
            "its negative number\n"
          ]
        }
      ]
    },
    {
      "cell_type": "code",
      "source": [
        "## 4. Create a program that checks if a number is even or odd using `if-else`."
      ],
      "metadata": {
        "id": "AbfVs9HU_LBn"
      },
      "execution_count": 12,
      "outputs": []
    },
    {
      "cell_type": "code",
      "source": [
        "num =int(input(\"enter a value\"))\n",
        "if num % 2==0:\n",
        "  print(\"its even number\")\n",
        "else:\n",
        "  print('its odd number')"
      ],
      "metadata": {
        "colab": {
          "base_uri": "https://localhost:8080/"
        },
        "id": "Z0LPDele_jmi",
        "outputId": "ab9e7fd7-a796-4694-ab3b-1084a8256242"
      },
      "execution_count": 15,
      "outputs": [
        {
          "output_type": "stream",
          "name": "stdout",
          "text": [
            "enter a value5\n",
            "its odd number\n"
          ]
        }
      ]
    },
    {
      "cell_type": "code",
      "source": [
        "### 5. Use a **nested if** condition to check if a number is positive and even."
      ],
      "metadata": {
        "id": "H0MIMdlX_ynX"
      },
      "execution_count": null,
      "outputs": []
    },
    {
      "cell_type": "code",
      "source": [
        "number = 12\n",
        "\n",
        "if number > 0:\n",
        "    if number % 2 == 0:\n",
        "        print(\"The number is positive and even.\")\n",
        "    else:\n",
        "        print(\"The number is positive but not even.\")\n",
        "else:\n",
        "    print(\"The number is not positive.\")\n"
      ],
      "metadata": {
        "colab": {
          "base_uri": "https://localhost:8080/"
        },
        "id": "FFwUMUjj_5Oq",
        "outputId": "eee2eedc-478f-4d8c-d7c9-c22ff3edd728"
      },
      "execution_count": 16,
      "outputs": [
        {
          "output_type": "stream",
          "name": "stdout",
          "text": [
            "The number is positive and even.\n"
          ]
        }
      ]
    },
    {
      "cell_type": "code",
      "source": [
        "## 6. Write a one-line `if` condition to print `\"Python is cool\"` if `x = 10`."
      ],
      "metadata": {
        "id": "zSLt5We5AQt5"
      },
      "execution_count": null,
      "outputs": []
    },
    {
      "cell_type": "code",
      "source": [
        "x = 10\n",
        "if x == 10:\n",
        "  print(\"Python is cool\")\n",
        "else:\n",
        "  print(\"Python is not cool\")"
      ],
      "metadata": {
        "colab": {
          "base_uri": "https://localhost:8080/"
        },
        "id": "-A-kOOGiARya",
        "outputId": "9f58b0ce-dd76-46ce-c962-9a824a0665df"
      },
      "execution_count": 17,
      "outputs": [
        {
          "output_type": "stream",
          "name": "stdout",
          "text": [
            "Python is cool\n"
          ]
        }
      ]
    },
    {
      "cell_type": "code",
      "source": [
        "## .7 Implement a one-line `if-else` condition to print `\"Even\"` if a number is even, otherwise `\"Odd\"`."
      ],
      "metadata": {
        "id": "DvHOQzpKAkwJ"
      },
      "execution_count": null,
      "outputs": []
    },
    {
      "cell_type": "code",
      "source": [
        "num = 8\n",
        "if num % 2==0:\n",
        "  print(\"even\")\n",
        "else:\n",
        "  print(\"odd\")"
      ],
      "metadata": {
        "colab": {
          "base_uri": "https://localhost:8080/"
        },
        "id": "O0tzUMLtAprA",
        "outputId": "a62725dd-b1d2-49b9-8138-f6282d1971f7"
      },
      "execution_count": 26,
      "outputs": [
        {
          "output_type": "stream",
          "name": "stdout",
          "text": [
            "even\n"
          ]
        }
      ]
    },
    {
      "cell_type": "code",
      "source": [
        "## 8 . Write an `if` statement that checks if a given string contains the word `\"Python\"`."
      ],
      "metadata": {
        "id": "6u9xamIUA5Im"
      },
      "execution_count": null,
      "outputs": []
    },
    {
      "cell_type": "code",
      "source": [
        "word = 'subbu'\n",
        "if word == 'python':\n",
        "  print(\"its python\")\n",
        "else:\n",
        "  print(\"no its not python\")"
      ],
      "metadata": {
        "colab": {
          "base_uri": "https://localhost:8080/"
        },
        "id": "0PHo4PnABV71",
        "outputId": "680fb54d-16a0-4f77-821a-5b116ab6b1af"
      },
      "execution_count": 30,
      "outputs": [
        {
          "output_type": "stream",
          "name": "stdout",
          "text": [
            "no its not python\n"
          ]
        }
      ]
    },
    {
      "cell_type": "code",
      "source": [
        "### 9 Check whether a number is divisible by both `3` and `5` using `if-else`."
      ],
      "metadata": {
        "id": "h2cOEBd_Buhj"
      },
      "execution_count": null,
      "outputs": []
    },
    {
      "cell_type": "code",
      "source": [
        "num = int(input(\"enter a value\"))\n",
        "if num % 3 == 0 and num % 5 == 0:\n",
        "  print(\"yes it is divisible\")\n",
        "else:\n",
        "  print(\"its not divisible\")"
      ],
      "metadata": {
        "colab": {
          "base_uri": "https://localhost:8080/"
        },
        "id": "3L--2HpaBi19",
        "outputId": "79e4d5a7-dfe5-4864-af64-2b07f301eb2d"
      },
      "execution_count": 34,
      "outputs": [
        {
          "output_type": "stream",
          "name": "stdout",
          "text": [
            "enter a value15\n",
            "yes it is divisible\n"
          ]
        }
      ]
    },
    {
      "cell_type": "code",
      "source": [
        "### 10  Write an `if` condition that checks whether a year is a leap year (divisible by 4 but not 100, unless also divisible by 400)."
      ],
      "metadata": {
        "id": "7Dk10H00CMME"
      },
      "execution_count": 33,
      "outputs": []
    },
    {
      "cell_type": "code",
      "source": [
        "year = 2024\n",
        "\n",
        "if (year % 4 == 0 and year % 100 != 0) or (year % 400 == 0):\n",
        "    print(f\"{year} is a leap year.\")\n",
        "else:\n",
        "    print(f\"{year} is not a leap year.\")\n"
      ],
      "metadata": {
        "colab": {
          "base_uri": "https://localhost:8080/"
        },
        "id": "yDwpIklyCk92",
        "outputId": "841ab007-0e45-43a4-be83-a9f38c278cce"
      },
      "execution_count": 35,
      "outputs": [
        {
          "output_type": "stream",
          "name": "stdout",
          "text": [
            "2024 is a leap year.\n"
          ]
        }
      ]
    },
    {
      "cell_type": "code",
      "source": [],
      "metadata": {
        "id": "f866vzMkCltN"
      },
      "execution_count": null,
      "outputs": []
    }
  ]
}