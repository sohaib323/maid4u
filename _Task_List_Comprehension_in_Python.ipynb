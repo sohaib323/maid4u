{
  "nbformat": 4,
  "nbformat_minor": 0,
  "metadata": {
    "colab": {
      "provenance": [],
      "authorship_tag": "ABX9TyPpadDYESXb5TcO+gtBwtFC",
      "include_colab_link": true
    },
    "kernelspec": {
      "name": "python3",
      "display_name": "Python 3"
    },
    "language_info": {
      "name": "python"
    }
  },
  "cells": [
    {
      "cell_type": "markdown",
      "metadata": {
        "id": "view-in-github",
        "colab_type": "text"
      },
      "source": [
        "<a href=\"https://colab.research.google.com/github/sohaib323/maid4u/blob/main/_Task_List_Comprehension_in_Python.ipynb\" target=\"_parent\"><img src=\"https://colab.research.google.com/assets/colab-badge.svg\" alt=\"Open In Colab\"/></a>"
      ]
    },
    {
      "cell_type": "code",
      "execution_count": null,
      "metadata": {
        "id": "33E3gRpQUtAC"
      },
      "outputs": [],
      "source": [
        "# Task: List Comprehension in Python"
      ]
    },
    {
      "cell_type": "code",
      "source": [
        "### 1. Create a List of Squares  Write a Python program that generates a list of squares from 1 to 10 using list comprehension.\n"
      ],
      "metadata": {
        "id": "fSHoxhfOUwGp"
      },
      "execution_count": null,
      "outputs": []
    },
    {
      "cell_type": "code",
      "source": [
        "square = [i**2 for i in range(1, 11)]\n",
        "print(square)"
      ],
      "metadata": {
        "colab": {
          "base_uri": "https://localhost:8080/"
        },
        "id": "rrezFeMfU1EV",
        "outputId": "c2f0ba46-9613-463f-b4ec-5f99c237a1fe"
      },
      "execution_count": 3,
      "outputs": [
        {
          "output_type": "stream",
          "name": "stdout",
          "text": [
            "[1, 4, 9, 16, 25, 36, 49, 64, 81, 100]\n"
          ]
        }
      ]
    },
    {
      "cell_type": "code",
      "source": [
        "###  2. Filter Odd Numbers  Generate a list containing only the odd numbers from 1 to 20 using list comprehension.\n"
      ],
      "metadata": {
        "id": "yCMSyRRAVZqv"
      },
      "execution_count": null,
      "outputs": []
    },
    {
      "cell_type": "code",
      "source": [
        "odd_numbers = [num for num in range(1, 21) if num % 2 != 0]\n",
        "print(odd_numbers)\n"
      ],
      "metadata": {
        "colab": {
          "base_uri": "https://localhost:8080/"
        },
        "id": "GewSXOXfVmw1",
        "outputId": "e90d41ac-6d76-4093-973f-40552008e715"
      },
      "execution_count": 4,
      "outputs": [
        {
          "output_type": "stream",
          "name": "stdout",
          "text": [
            "[1, 3, 5, 7, 9, 11, 13, 15, 17, 19]\n"
          ]
        }
      ]
    },
    {
      "cell_type": "code",
      "source": [
        "## 3. Convert Words to Uppercase  Given a list of words, use list comprehension to create a new list where all words are in uppercase."
      ],
      "metadata": {
        "id": "y8t1dOaNVw78"
      },
      "execution_count": null,
      "outputs": []
    },
    {
      "cell_type": "code",
      "source": [
        "words = [\"hello\", \"world\", \"python\", \"rocks\"]\n",
        "uppercase_words = [word.upper() for word in words]\n",
        "print(uppercase_words)\n"
      ],
      "metadata": {
        "colab": {
          "base_uri": "https://localhost:8080/"
        },
        "id": "6mUTKtFaV3Kh",
        "outputId": "cc9b7442-aeea-4bbb-9f48-dcd7299c1e9e"
      },
      "execution_count": 5,
      "outputs": [
        {
          "output_type": "stream",
          "name": "stdout",
          "text": [
            "['HELLO', 'WORLD', 'PYTHON', 'ROCKS']\n"
          ]
        }
      ]
    },
    {
      "cell_type": "code",
      "source": [
        "## 4. Find Multiples of 3  Write a program that generates a list of numbers from 1 to 30 that are divisible by 3 using list comprehension."
      ],
      "metadata": {
        "id": "5zCeMRHSWJqx"
      },
      "execution_count": null,
      "outputs": []
    },
    {
      "cell_type": "code",
      "source": [
        "multiples_of_3 = [num for num in range(1, 31) if num % 3 == 0]\n",
        "print(multiples_of_3)\n"
      ],
      "metadata": {
        "colab": {
          "base_uri": "https://localhost:8080/"
        },
        "id": "5pCCzeBBWVLV",
        "outputId": "6559153d-14d7-4190-e061-73a0c8b3aa1e"
      },
      "execution_count": 6,
      "outputs": [
        {
          "output_type": "stream",
          "name": "stdout",
          "text": [
            "[3, 6, 9, 12, 15, 18, 21, 24, 27, 30]\n"
          ]
        }
      ]
    },
    {
      "cell_type": "code",
      "source": [
        "### 5. Extract Vowels from a String  Take a string input from the user and use list comprehension to create a list of vowels present in the string."
      ],
      "metadata": {
        "id": "gpzoZ4XZWVyX"
      },
      "execution_count": null,
      "outputs": []
    },
    {
      "cell_type": "code",
      "source": [
        "text = input(\"Enter a string: \")\n",
        "vowels = [char for char in text if char.lower() in 'aeiou']\n",
        "print(vowels)\n"
      ],
      "metadata": {
        "colab": {
          "base_uri": "https://localhost:8080/"
        },
        "id": "wrft9icxWkk7",
        "outputId": "d01ef7d6-be13-4ff5-ca98-e10cc985b4f2"
      },
      "execution_count": 7,
      "outputs": [
        {
          "output_type": "stream",
          "name": "stdout",
          "text": [
            "Enter a string: subbu\n",
            "['u', 'u']\n"
          ]
        }
      ]
    },
    {
      "cell_type": "code",
      "source": [
        "###6. Reverse Each Word in a List  Given a list of words, create a new list using list comprehension where each word is reversed.\n"
      ],
      "metadata": {
        "id": "RMUdY3AMWohL"
      },
      "execution_count": null,
      "outputs": []
    },
    {
      "cell_type": "code",
      "source": [
        "words = [\"python\", \"rocks\", \"challenge\", \"accepted\"]\n",
        "reversed_words = [word[::-1] for word in words]\n",
        "print(reversed_words)\n"
      ],
      "metadata": {
        "colab": {
          "base_uri": "https://localhost:8080/"
        },
        "id": "t2e1P9UPW00u",
        "outputId": "a529a2e2-a51d-4958-bf23-f593ee67047b"
      },
      "execution_count": 8,
      "outputs": [
        {
          "output_type": "stream",
          "name": "stdout",
          "text": [
            "['nohtyp', 'skcor', 'egnellahc', 'detpecca']\n"
          ]
        }
      ]
    },
    {
      "cell_type": "code",
      "source": [
        "## 7. Replace Spaces with Hyphens  Write a Python program that takes a sentence and uses list comprehension to replace every space with a hyphen (`-`).\n"
      ],
      "metadata": {
        "id": "xB4ArFvOW3In"
      },
      "execution_count": null,
      "outputs": []
    },
    {
      "cell_type": "code",
      "source": [
        "sentence = input(\"Enter a sentence: \")\n",
        "hyphenated = ''.join([char if char != ' ' else '-' for char in sentence])\n",
        "print(hyphenated)\n",
        "\n"
      ],
      "metadata": {
        "colab": {
          "base_uri": "https://localhost:8080/"
        },
        "id": "WUOV7GexW_lE",
        "outputId": "7bcac490-e3d4-438c-b33c-26f365ccc852"
      },
      "execution_count": 10,
      "outputs": [
        {
          "output_type": "stream",
          "name": "stdout",
          "text": [
            "Enter a sentence: subbu\n",
            "subbu\n"
          ]
        }
      ]
    },
    {
      "cell_type": "code",
      "source": [
        "## 8. Remove Duplicates from a List  Given a list with duplicate values, use list comprehension to create a new list that contains only unique values.\n"
      ],
      "metadata": {
        "id": "KKBakzvUXD19"
      },
      "execution_count": null,
      "outputs": []
    },
    {
      "cell_type": "code",
      "source": [
        "original_list = [1, 2, 2, 3, 4, 4, 5, 1, 6]\n",
        "seen = set()\n",
        "unique_list = [x for x in original_list if not (x in seen or seen.add(x))]\n",
        "print(unique_list)\n"
      ],
      "metadata": {
        "colab": {
          "base_uri": "https://localhost:8080/"
        },
        "id": "T8ptso5sXWPb",
        "outputId": "7414cc26-6f28-40fc-920c-6d3e02fa146c"
      },
      "execution_count": 11,
      "outputs": [
        {
          "output_type": "stream",
          "name": "stdout",
          "text": [
            "[1, 2, 3, 4, 5, 6]\n"
          ]
        }
      ]
    },
    {
      "cell_type": "code",
      "source": [
        "## 9. Create a List of Tuples  Generate a list of tuples where each tuple contains a number and its square for numbers from 1 to 10 using list comprehension.\n"
      ],
      "metadata": {
        "id": "yxHPnrtaXX-f"
      },
      "execution_count": null,
      "outputs": []
    },
    {
      "cell_type": "code",
      "source": [
        "original_list = [1, 2, 2, 3, 4, 4, 5, 1, 6]\n",
        "seen = set()\n",
        "unique_list = [x for x in original_list if not (x in seen or seen.add(x))]\n",
        "print(unique_list)\n"
      ],
      "metadata": {
        "colab": {
          "base_uri": "https://localhost:8080/"
        },
        "id": "QU7MOK_CXetT",
        "outputId": "292b1b4f-d22c-486b-a46c-d285a0e1197d"
      },
      "execution_count": 12,
      "outputs": [
        {
          "output_type": "stream",
          "name": "stdout",
          "text": [
            "[1, 2, 3, 4, 5, 6]\n"
          ]
        }
      ]
    },
    {
      "cell_type": "code",
      "source": [
        "## 10. Conditional Transformation  Given a list of numbers, use list comprehension to replace even numbers with `\"Even\"` and odd numbers with `\"Odd\"`.\n"
      ],
      "metadata": {
        "id": "3BaBIBhOXeu1"
      },
      "execution_count": null,
      "outputs": []
    },
    {
      "cell_type": "code",
      "source": [
        "numbers = [1, 2, 3, 4, 5, 6, 7, 8, 9, 10]\n",
        "transformed = [\"Even\" if num % 2 == 0 else \"Odd\" for num in numbers]\n",
        "print(transformed)\n"
      ],
      "metadata": {
        "colab": {
          "base_uri": "https://localhost:8080/"
        },
        "id": "pkt1rIXPXoz1",
        "outputId": "15953887-2ddb-4ae9-8efc-4dbe0c9d2135"
      },
      "execution_count": 13,
      "outputs": [
        {
          "output_type": "stream",
          "name": "stdout",
          "text": [
            "['Odd', 'Even', 'Odd', 'Even', 'Odd', 'Even', 'Odd', 'Even', 'Odd', 'Even']\n"
          ]
        }
      ]
    },
    {
      "cell_type": "code",
      "source": [],
      "metadata": {
        "id": "CjOu_zVOXq7u"
      },
      "execution_count": null,
      "outputs": []
    }
  ]
}