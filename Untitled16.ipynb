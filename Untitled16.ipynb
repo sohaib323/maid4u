{
  "nbformat": 4,
  "nbformat_minor": 0,
  "metadata": {
    "colab": {
      "provenance": [],
      "authorship_tag": "ABX9TyMeQRo9E7CxZZpgX0vfN1GI",
      "include_colab_link": true
    },
    "kernelspec": {
      "name": "python3",
      "display_name": "Python 3"
    },
    "language_info": {
      "name": "python"
    }
  },
  "cells": [
    {
      "cell_type": "markdown",
      "metadata": {
        "id": "view-in-github",
        "colab_type": "text"
      },
      "source": [
        "<a href=\"https://colab.research.google.com/github/sohaib323/maid4u/blob/main/Untitled16.ipynb\" target=\"_parent\"><img src=\"https://colab.research.google.com/assets/colab-badge.svg\" alt=\"Open In Colab\"/></a>"
      ]
    },
    {
      "cell_type": "code",
      "execution_count": null,
      "metadata": {
        "id": "c6P9WSUx6oHe"
      },
      "outputs": [],
      "source": [
        "### 1. Create an integer variable `x` with the value `10` and print it."
      ]
    },
    {
      "cell_type": "code",
      "source": [
        "x = 10\n",
        "print(x)"
      ],
      "metadata": {
        "colab": {
          "base_uri": "https://localhost:8080/"
        },
        "id": "-uHxHlMb6shu",
        "outputId": "4d858743-b454-4c92-8014-6f5dbc135332"
      },
      "execution_count": 1,
      "outputs": [
        {
          "output_type": "stream",
          "name": "stdout",
          "text": [
            "10\n"
          ]
        }
      ]
    },
    {
      "cell_type": "code",
      "source": [
        "## 2. Assign a decimal number to a variable `y` and print it."
      ],
      "metadata": {
        "id": "PHxVkm_i6vxm"
      },
      "execution_count": null,
      "outputs": []
    },
    {
      "cell_type": "code",
      "source": [
        "y= 5.1\n",
        "print(y)"
      ],
      "metadata": {
        "colab": {
          "base_uri": "https://localhost:8080/"
        },
        "id": "k90k76wS61t8",
        "outputId": "6ab32ce2-5369-40bf-c48e-26ab1b58a71b"
      },
      "execution_count": 2,
      "outputs": [
        {
          "output_type": "stream",
          "name": "stdout",
          "text": [
            "5.1\n"
          ]
        }
      ]
    },
    {
      "cell_type": "code",
      "source": [
        "##33. Store your name in a variable `name` and print it."
      ],
      "metadata": {
        "id": "Z7ri7a8B7BnW"
      },
      "execution_count": null,
      "outputs": []
    },
    {
      "cell_type": "code",
      "source": [],
      "metadata": {
        "id": "c_0a7DoNANiU"
      },
      "execution_count": null,
      "outputs": []
    },
    {
      "cell_type": "code",
      "source": [
        "## 4. Create a boolean variable `is_python_easy` with the value `True` and print it."
      ],
      "metadata": {
        "id": "6uxMPuoL7J_-"
      },
      "execution_count": null,
      "outputs": []
    },
    {
      "cell_type": "code",
      "source": [
        "num = 10\n",
        "count = 5\n",
        " print(num>count)"
      ],
      "metadata": {
        "colab": {
          "base_uri": "https://localhost:8080/",
          "height": 106
        },
        "id": "hH1PiIAm7Oor",
        "outputId": "8213545a-551d-4cd9-c24f-12287af3a2f0"
      },
      "execution_count": 10,
      "outputs": [
        {
          "output_type": "error",
          "ename": "IndentationError",
          "evalue": "unexpected indent (ipython-input-10-4265873147.py, line 3)",
          "traceback": [
            "\u001b[0;36m  File \u001b[0;32m\"/tmp/ipython-input-10-4265873147.py\"\u001b[0;36m, line \u001b[0;32m3\u001b[0m\n\u001b[0;31m    print(num>count)\u001b[0m\n\u001b[0m    ^\u001b[0m\n\u001b[0;31mIndentationError\u001b[0m\u001b[0;31m:\u001b[0m unexpected indent\n"
          ]
        }
      ]
    },
    {
      "cell_type": "code",
      "source": [
        "print(num>count)"
      ],
      "metadata": {
        "colab": {
          "base_uri": "https://localhost:8080/",
          "height": 141
        },
        "id": "oWb_BZA37a79",
        "outputId": "c8a999da-6b1e-4cf0-a098-106df52729f5"
      },
      "execution_count": 9,
      "outputs": [
        {
          "output_type": "error",
          "ename": "NameError",
          "evalue": "name 'count' is not defined",
          "traceback": [
            "\u001b[0;31m---------------------------------------------------------------------------\u001b[0m",
            "\u001b[0;31mNameError\u001b[0m                                 Traceback (most recent call last)",
            "\u001b[0;32m/tmp/ipython-input-9-403715754.py\u001b[0m in \u001b[0;36m<cell line: 0>\u001b[0;34m()\u001b[0m\n\u001b[0;32m----> 1\u001b[0;31m \u001b[0mprint\u001b[0m\u001b[0;34m(\u001b[0m\u001b[0mnum\u001b[0m\u001b[0;34m>\u001b[0m\u001b[0mcount\u001b[0m\u001b[0;34m)\u001b[0m\u001b[0;34m\u001b[0m\u001b[0;34m\u001b[0m\u001b[0m\n\u001b[0m",
            "\u001b[0;31mNameError\u001b[0m: name 'count' is not defined"
          ]
        }
      ]
    },
    {
      "cell_type": "code",
      "source": [
        "##5. Define a list `colors` with values `\"red\", \"green\", \"blue\"` and print the list."
      ],
      "metadata": {
        "id": "DP3YBdcv8aYz"
      },
      "execution_count": null,
      "outputs": []
    },
    {
      "cell_type": "code",
      "source": [
        "name = [\"red\",\"green\",\"blue\"]\n",
        "print(name)"
      ],
      "metadata": {
        "colab": {
          "base_uri": "https://localhost:8080/"
        },
        "id": "d40FiNOX8nqF",
        "outputId": "5f4b17bb-cf76-4884-8698-726b8c9ca83f"
      },
      "execution_count": 11,
      "outputs": [
        {
          "output_type": "stream",
          "name": "stdout",
          "text": [
            "['red', 'green', 'blue']\n"
          ]
        }
      ]
    },
    {
      "cell_type": "code",
      "source": [
        "## 6. Create a tuple `numbers` with values `(1, 2, 3)` and print it."
      ],
      "metadata": {
        "id": "WlFapEEG8uDX"
      },
      "execution_count": null,
      "outputs": []
    },
    {
      "cell_type": "code",
      "source": [
        "name = (1,2,3)\n",
        "print(name)"
      ],
      "metadata": {
        "colab": {
          "base_uri": "https://localhost:8080/"
        },
        "id": "YSX3qVY28yJS",
        "outputId": "9a33b9ec-3d2b-4338-c0fa-8e27462db162"
      },
      "execution_count": 12,
      "outputs": [
        {
          "output_type": "stream",
          "name": "stdout",
          "text": [
            "(1, 2, 3)\n"
          ]
        }
      ]
    },
    {
      "cell_type": "code",
      "source": [
        "### 7. Define a dictionary `person` with keys `\"name\"` and `\"age\"`, assign values, and print it."
      ],
      "metadata": {
        "id": "-YmZ97hC9Err"
      },
      "execution_count": null,
      "outputs": []
    },
    {
      "cell_type": "code",
      "source": [
        "data = {\n",
        " \"name\": [\"sohaib\",\"kunal\"],\n",
        "  \"age\":[45,78],}\n",
        "\n",
        "\n",
        "print(data)"
      ],
      "metadata": {
        "colab": {
          "base_uri": "https://localhost:8080/"
        },
        "id": "xQgQS_pZ9Lxy",
        "outputId": "fb6a1baa-0d28-4221-97c4-243d17f4b0c9"
      },
      "execution_count": 14,
      "outputs": [
        {
          "output_type": "stream",
          "name": "stdout",
          "text": [
            "{'name': ['sohaib', 'kunal'], 'age': [45, 78]}\n"
          ]
        }
      ]
    },
    {
      "cell_type": "code",
      "source": [
        "## 8. Create a set `fruits` with values `\"apple\", \"banana\", \"cherry\"` and print it."
      ],
      "metadata": {
        "colab": {
          "base_uri": "https://localhost:8080/"
        },
        "id": "od7xud1J9aM9",
        "outputId": "5a64a7b3-81ed-49b1-d6ca-d6a663376b07"
      },
      "execution_count": 15,
      "outputs": [
        {
          "output_type": "stream",
          "name": "stdout",
          "text": [
            "[45, 78]\n"
          ]
        }
      ]
    },
    {
      "cell_type": "code",
      "source": [
        "fruits = ['apple','banana','cherry']\n",
        "print(fruits)\n"
      ],
      "metadata": {
        "colab": {
          "base_uri": "https://localhost:8080/"
        },
        "id": "V624MVVc9qDl",
        "outputId": "268b66f6-4ea7-4cca-fac2-c5b2e0c98be7"
      },
      "execution_count": 16,
      "outputs": [
        {
          "output_type": "stream",
          "name": "stdout",
          "text": [
            "['apple', 'banana', 'cherry']\n"
          ]
        }
      ]
    },
    {
      "cell_type": "code",
      "source": [
        "## 9. Use the `type()` function to check the data type of `10` and print the result."
      ],
      "metadata": {
        "id": "mUeYlww99_Ly"
      },
      "execution_count": null,
      "outputs": []
    },
    {
      "cell_type": "code",
      "source": [
        "num = 10\n",
        "print(type(num))"
      ],
      "metadata": {
        "colab": {
          "base_uri": "https://localhost:8080/"
        },
        "id": "7nXRjwFD-ECq",
        "outputId": "9151a1e5-a2d6-4ec3-f50e-69cc2be85363"
      },
      "execution_count": 17,
      "outputs": [
        {
          "output_type": "stream",
          "name": "stdout",
          "text": [
            "<class 'int'>\n"
          ]
        }
      ]
    },
    {
      "cell_type": "code",
      "source": [
        "### 10. Convert the integer `10` into a string and print the new value.\n",
        "\n",
        "NUM = 10\n",
        "print(str(NUM))"
      ],
      "metadata": {
        "colab": {
          "base_uri": "https://localhost:8080/"
        },
        "id": "lN1bEyzm-H6T",
        "outputId": "6d55d11c-2d49-4c8a-c90d-254ef7a3d434"
      },
      "execution_count": 19,
      "outputs": [
        {
          "output_type": "stream",
          "name": "stdout",
          "text": [
            "10\n"
          ]
        }
      ]
    },
    {
      "cell_type": "code",
      "source": [],
      "metadata": {
        "colab": {
          "base_uri": "https://localhost:8080/"
        },
        "id": "I3Oi2_6x-XYl",
        "outputId": "4d832652-0911-4c8e-c9d0-18bc3bf685d2"
      },
      "execution_count": 21,
      "outputs": [
        {
          "output_type": "stream",
          "name": "stdout",
          "text": [
            "its error you cants put int into string\n"
          ]
        }
      ]
    },
    {
      "cell_type": "code",
      "source": [
        "name = 'kunal'\n",
        "print(name)"
      ],
      "metadata": {
        "colab": {
          "base_uri": "https://localhost:8080/"
        },
        "id": "ucif9hmg7HCo",
        "outputId": "78e3e38a-0225-4d0c-85cd-61d59c43a946"
      },
      "execution_count": 3,
      "outputs": [
        {
          "output_type": "stream",
          "name": "stdout",
          "text": [
            "kunal\n"
          ]
        }
      ]
    },
    {
      "cell_type": "code",
      "source": [],
      "metadata": {
        "id": "WYQ3uEyOADV6"
      },
      "execution_count": null,
      "outputs": []
    }
  ]
}