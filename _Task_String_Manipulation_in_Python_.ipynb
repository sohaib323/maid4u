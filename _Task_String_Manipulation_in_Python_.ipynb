{
  "nbformat": 4,
  "nbformat_minor": 0,
  "metadata": {
    "colab": {
      "provenance": [],
      "authorship_tag": "ABX9TyMP097dsj/bOSaVCHPURwLZ",
      "include_colab_link": true
    },
    "kernelspec": {
      "name": "python3",
      "display_name": "Python 3"
    },
    "language_info": {
      "name": "python"
    }
  },
  "cells": [
    {
      "cell_type": "markdown",
      "metadata": {
        "id": "view-in-github",
        "colab_type": "text"
      },
      "source": [
        "<a href=\"https://colab.research.google.com/github/sohaib323/maid4u/blob/main/_Task_String_Manipulation_in_Python_.ipynb\" target=\"_parent\"><img src=\"https://colab.research.google.com/assets/colab-badge.svg\" alt=\"Open In Colab\"/></a>"
      ]
    },
    {
      "cell_type": "code",
      "execution_count": null,
      "metadata": {
        "id": "ybEzHuvvL_Vf"
      },
      "outputs": [],
      "source": [
        "### **Task: String Manipulation in Python**"
      ]
    },
    {
      "cell_type": "code",
      "source": [
        "## 1. Create a string variable `text` with the value `\"Hello, Python!\"` and print it."
      ],
      "metadata": {
        "id": "YrGxClPBMLDf"
      },
      "execution_count": null,
      "outputs": []
    },
    {
      "cell_type": "code",
      "source": [
        "print(\"Hello Python\")"
      ],
      "metadata": {
        "colab": {
          "base_uri": "https://localhost:8080/"
        },
        "id": "mwC33blyMPdJ",
        "outputId": "86376ea9-3464-4079-f9f4-f48d86e544e5"
      },
      "execution_count": 3,
      "outputs": [
        {
          "output_type": "stream",
          "name": "stdout",
          "text": [
            "Hello Python\n"
          ]
        }
      ]
    },
    {
      "cell_type": "code",
      "source": [
        "### 2. Convert the string `\"python programming\"` to uppercase and print the result."
      ],
      "metadata": {
        "id": "2DNVaoFFMWsH"
      },
      "execution_count": null,
      "outputs": []
    },
    {
      "cell_type": "code",
      "source": [
        "name = \"python programming\"\n",
        "print(name.upper())"
      ],
      "metadata": {
        "colab": {
          "base_uri": "https://localhost:8080/"
        },
        "id": "ubK5tUvaMil9",
        "outputId": "36e18e38-43aa-43f6-ef34-60a86fd961b6"
      },
      "execution_count": 4,
      "outputs": [
        {
          "output_type": "stream",
          "name": "stdout",
          "text": [
            "PYTHON PROGRAMMING\n"
          ]
        }
      ]
    },
    {
      "cell_type": "code",
      "source": [
        "### 3. Replace `\"Python\"` with `\"Java\"` in the string `\"I love Python\"` and print the modified string."
      ],
      "metadata": {
        "id": "e4JI1TArMqQY"
      },
      "execution_count": null,
      "outputs": []
    },
    {
      "cell_type": "code",
      "source": [
        "name = \"I love Python\"\n",
        "name1 =name.replace(\"Python\",\"Java\")\n",
        "print(name1)\n"
      ],
      "metadata": {
        "colab": {
          "base_uri": "https://localhost:8080/"
        },
        "id": "k9G15vtTMvXc",
        "outputId": "5c9beddc-99ee-4949-ef10-536f5fa00402"
      },
      "execution_count": 7,
      "outputs": [
        {
          "output_type": "stream",
          "name": "stdout",
          "text": [
            "I love Java\n"
          ]
        }
      ]
    },
    {
      "cell_type": "code",
      "source": [
        "### 4. Find and print the length of the string `\"Python is fun!\"` using `len()`."
      ],
      "metadata": {
        "id": "lFEaD3ynNGGH"
      },
      "execution_count": null,
      "outputs": []
    },
    {
      "cell_type": "code",
      "source": [
        "name = \"python is fun\"\n",
        "text = len(name)\n",
        "print(text)"
      ],
      "metadata": {
        "colab": {
          "base_uri": "https://localhost:8080/"
        },
        "id": "FcOGbsP3Ndfo",
        "outputId": "6e881976-ed01-40a9-f9f8-987abd4fccba"
      },
      "execution_count": 12,
      "outputs": [
        {
          "output_type": "stream",
          "name": "stdout",
          "text": [
            "13\n"
          ]
        }
      ]
    },
    {
      "cell_type": "code",
      "source": [
        "##.5 Extract and print the first five characters of `\"Hello, World!\"` using slicing."
      ],
      "metadata": {
        "id": "gXKY-AUZNmZQ"
      },
      "execution_count": null,
      "outputs": []
    },
    {
      "cell_type": "code",
      "source": [
        "name = 'Hello world'\n",
        "print(name[:5])"
      ],
      "metadata": {
        "colab": {
          "base_uri": "https://localhost:8080/"
        },
        "id": "BJ54eRr4OANQ",
        "outputId": "7f4a4445-26e1-4b6d-8397-15630e33e402"
      },
      "execution_count": 16,
      "outputs": [
        {
          "output_type": "stream",
          "name": "stdout",
          "text": [
            "Hello\n"
          ]
        }
      ]
    },
    {
      "cell_type": "code",
      "source": [
        "## 6. Use `split()` to break the string `\"apple,banana,cherry\"` into a list and print the result."
      ],
      "metadata": {
        "id": "jCSCa3FpOGYI"
      },
      "execution_count": null,
      "outputs": []
    },
    {
      "cell_type": "code",
      "source": [
        "text = \"apple,banana,cherry\"\n",
        "fruits = text.split(\"apple\")\n",
        "print(fruits)\n"
      ],
      "metadata": {
        "colab": {
          "base_uri": "https://localhost:8080/"
        },
        "id": "bMAJgmbnOrAQ",
        "outputId": "161e1308-e0db-4a99-b2bc-acdf9665b022"
      },
      "execution_count": 27,
      "outputs": [
        {
          "output_type": "stream",
          "name": "stdout",
          "text": [
            "['', ',banana,cherry']\n"
          ]
        }
      ]
    },
    {
      "cell_type": "code",
      "source": [
        "## 7. Remove spaces from both ends of the string `\"  Python  \"` using `strip()` and print the output."
      ],
      "metadata": {
        "id": "2nxU78KkO3XS"
      },
      "execution_count": null,
      "outputs": []
    },
    {
      "cell_type": "code",
      "source": [
        "name = \" python  \"\n",
        "name1 =name.strip()\n",
        "print(name1)"
      ],
      "metadata": {
        "colab": {
          "base_uri": "https://localhost:8080/"
        },
        "id": "pc9L7EpWPvNO",
        "outputId": "5c6bf331-f613-4c94-d86c-ffac519bf09a"
      },
      "execution_count": 29,
      "outputs": [
        {
          "output_type": "stream",
          "name": "stdout",
          "text": [
            "python\n"
          ]
        }
      ]
    },
    {
      "cell_type": "code",
      "source": [
        "## 8. Reverse the string `\"Python\"` using slicing and print the result."
      ],
      "metadata": {
        "id": "l2C3LKCnP8ae"
      },
      "execution_count": null,
      "outputs": []
    },
    {
      "cell_type": "code",
      "source": [
        "name = \"python\"\n",
        "print(name[::-1])"
      ],
      "metadata": {
        "colab": {
          "base_uri": "https://localhost:8080/"
        },
        "id": "RasXZvtuQIjQ",
        "outputId": "78ab287d-7b07-4697-f144-3d0b5ffa504f"
      },
      "execution_count": 37,
      "outputs": [
        {
          "output_type": "stream",
          "name": "stdout",
          "text": [
            "nohtyp\n"
          ]
        }
      ]
    },
    {
      "cell_type": "code",
      "source": [
        "## 9. Use `join()` to combine the list `[\"Hello\", \"Python\"]` into a single string separated by a space."
      ],
      "metadata": {
        "id": "BYWWHD7RQRXb"
      },
      "execution_count": null,
      "outputs": []
    },
    {
      "cell_type": "code",
      "source": [
        "name = [\"hello\" ,\"python\"]\n",
        "name1 = \" \".join(name)\n",
        "print(name1)"
      ],
      "metadata": {
        "colab": {
          "base_uri": "https://localhost:8080/"
        },
        "id": "kevQmQdcQvn1",
        "outputId": "fdb6a9a1-3e73-4107-d781-dfa9d5aa6eaf"
      },
      "execution_count": 39,
      "outputs": [
        {
          "output_type": "stream",
          "name": "stdout",
          "text": [
            "hello python\n"
          ]
        }
      ]
    },
    {
      "cell_type": "code",
      "source": [
        "### 10. Format a string using f-strings to print `\"My name is John and I am 25 years old.\"` where `\"John\"` and `25` are stored in variables."
      ],
      "metadata": {
        "id": "BRLYeQg3Q8lH"
      },
      "execution_count": null,
      "outputs": []
    },
    {
      "cell_type": "code",
      "source": [
        "name = \"john\"\n",
        "name1 = 25\n",
        "print(f\"my name is {name} I am {name1} years old\")\n"
      ],
      "metadata": {
        "colab": {
          "base_uri": "https://localhost:8080/"
        },
        "id": "GRVR23QiRR3k",
        "outputId": "336f59ae-05f3-4ed4-f4d9-fbb904a24fd8"
      },
      "execution_count": 41,
      "outputs": [
        {
          "output_type": "stream",
          "name": "stdout",
          "text": [
            "my name is john I am 25 years old\n"
          ]
        }
      ]
    },
    {
      "cell_type": "code",
      "source": [
        "|"
      ],
      "metadata": {
        "id": "9bmFGL_TRu0O"
      },
      "execution_count": null,
      "outputs": []
    }
  ]
}