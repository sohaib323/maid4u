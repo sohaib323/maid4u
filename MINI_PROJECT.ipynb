{
  "nbformat": 4,
  "nbformat_minor": 0,
  "metadata": {
    "colab": {
      "provenance": [],
      "authorship_tag": "ABX9TyMxSrfKrsgv3gDc6451pdfX",
      "include_colab_link": true
    },
    "kernelspec": {
      "name": "python3",
      "display_name": "Python 3"
    },
    "language_info": {
      "name": "python"
    }
  },
  "cells": [
    {
      "cell_type": "markdown",
      "metadata": {
        "id": "view-in-github",
        "colab_type": "text"
      },
      "source": [
        "<a href=\"https://colab.research.google.com/github/sohaib323/maid4u/blob/main/MINI_PROJECT.ipynb\" target=\"_parent\"><img src=\"https://colab.research.google.com/assets/colab-badge.svg\" alt=\"Open In Colab\"/></a>"
      ]
    },
    {
      "cell_type": "code",
      "execution_count": null,
      "metadata": {
        "id": "xGobWTK9Cq06"
      },
      "outputs": [],
      "source": [
        "###\n",
        "✅ **Task:**\n",
        "- Develop a **console-based Contact Book** that allows users to **Create, Read, Update, and Delete (CRUD)** contacts.\n",
        "- Each contact should have **Name, Phone Number, Email, and Address** fields.\n",
        "- Store contacts using a suitable **data structure** (e.g., Dictionary or JSON file).\n",
        "- Provide a **menu-driven interface** for user interaction."
      ]
    },
    {
      "cell_type": "code",
      "source": [
        "# contact_book.py\n",
        "\n",
        "contacts = {}\n",
        "\n",
        "def create_contact():\n",
        "    name = input(\"Enter Name: \")\n",
        "    phone = input(\"Enter Phone Number: \")\n",
        "    email = input(\"Enter Email: \")\n",
        "    address = input(\"Enter Address: \")\n",
        "    contacts[name] = {\"Phone\": phone, \"Email\": email, \"Address\": address}\n",
        "    print(f\"{name} added successfully.\\n\")\n",
        "\n",
        "def read_contacts():\n",
        "    if contacts:\n",
        "        for name, details in contacts.items():\n",
        "            print(f\"\\nName: {name}\")\n",
        "            for key, value in details.items():\n",
        "                print(f\"{key}: {value}\")\n",
        "    else:\n",
        "        print(\"No contacts found.\\n\")\n",
        "\n",
        "def update_contact():\n",
        "    name = input(\"Enter the name of the contact to update: \")\n",
        "    if name in contacts:\n",
        "        print(\"Leave blank to keep current value.\")\n",
        "        phone = input(\"New Phone Number: \") or contacts[name][\"Phone\"]\n",
        "        email = input(\"New Email: \") or contacts[name][\"Email\"]\n",
        "        address = input(\"New Address: \") or contacts[name][\"Address\"]\n",
        "        contacts[name] = {\"Phone\": phone, \"Email\": email, \"Address\": address}\n",
        "        print(f\"{name}'s contact updated.\\n\")\n",
        "    else:\n",
        "        print(\"Contact not found.\\n\")\n",
        "\n",
        "def delete_contact():\n",
        "    name = input(\"Enter the name of the contact to delete: \")\n",
        "    if name in contacts:\n",
        "        del contacts[name]\n",
        "        print(f\"{name} deleted successfully.\\n\")\n",
        "    else:\n",
        "        print(\"Contact not found.\\n\")\n",
        "\n",
        "def menu():\n",
        "    while True:\n",
        "        print(\"\\n--- Contact Book Menu ---\")\n",
        "        print(\"1. Create Contact\")\n",
        "        print(\"2. View Contacts\")\n",
        "        print(\"3. Update Contact\")\n",
        "        print(\"4. Delete Contact\")\n",
        "        print(\"5. Exit\")\n",
        "\n",
        "        choice = input(\"Select an option (1-5): \")\n",
        "\n",
        "        if choice == '1':\n",
        "            create_contact()\n",
        "        elif choice == '2':\n",
        "            read_contacts()\n",
        "        elif choice == '3':\n",
        "            update_contact()\n",
        "        elif choice == '4':\n",
        "            delete_contact()\n",
        "        elif choice == '5':\n",
        "            print(\"Goodbye!\")\n",
        "            break\n",
        "        else:\n",
        "            print(\"Invalid choice. Please try again.\\n\")\n",
        "\n",
        "\n",
        "menu()\n"
      ],
      "metadata": {
        "colab": {
          "base_uri": "https://localhost:8080/"
        },
        "id": "StZnxeCnCuxI",
        "outputId": "f566b79e-5f5a-47f1-e9c2-b672cd755e5c"
      },
      "execution_count": 1,
      "outputs": [
        {
          "output_type": "stream",
          "name": "stdout",
          "text": [
            "\n",
            "--- Contact Book Menu ---\n",
            "1. Create Contact\n",
            "2. View Contacts\n",
            "3. Update Contact\n",
            "4. Delete Contact\n",
            "5. Exit\n",
            "Select an option (1-5): 5\n",
            "Goodbye!\n"
          ]
        }
      ]
    }
  ]
}