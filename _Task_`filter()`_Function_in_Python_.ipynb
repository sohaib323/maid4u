{
  "nbformat": 4,
  "nbformat_minor": 0,
  "metadata": {
    "colab": {
      "provenance": [],
      "authorship_tag": "ABX9TyPqRtN/8EJNIeL8Tw3jnhsb",
      "include_colab_link": true
    },
    "kernelspec": {
      "name": "python3",
      "display_name": "Python 3"
    },
    "language_info": {
      "name": "python"
    }
  },
  "cells": [
    {
      "cell_type": "markdown",
      "metadata": {
        "id": "view-in-github",
        "colab_type": "text"
      },
      "source": [
        "<a href=\"https://colab.research.google.com/github/sohaib323/maid4u/blob/main/_Task_%60filter()%60_Function_in_Python_.ipynb\" target=\"_parent\"><img src=\"https://colab.research.google.com/assets/colab-badge.svg\" alt=\"Open In Colab\"/></a>"
      ]
    },
    {
      "cell_type": "code",
      "execution_count": null,
      "metadata": {
        "id": "wymZuABoJcdu"
      },
      "outputs": [],
      "source": [
        "### **Task: `filter()` Function in Python**"
      ]
    },
    {
      "cell_type": "code",
      "source": [
        "## 1. Write a program using `filter()` to extract even numbers from a list `[1, 2, 3, 4, 5, 6, 7, 8, 9, 10]`."
      ],
      "metadata": {
        "id": "tEdwkLAsKkon"
      },
      "execution_count": null,
      "outputs": []
    },
    {
      "cell_type": "code",
      "source": [
        "def subbu(num):\n",
        "  return num %2==0\n",
        "\n",
        "numbers = [1, 2, 3, 4, 5, 6, 7, 8, 9, 10]\n",
        "result = filter(subbu,numbers)\n",
        "print(list(result))\n"
      ],
      "metadata": {
        "colab": {
          "base_uri": "https://localhost:8080/"
        },
        "id": "vUnGxZjtldrP",
        "outputId": "90837fc7-7765-4729-f33a-08db984093db"
      },
      "execution_count": 4,
      "outputs": [
        {
          "output_type": "stream",
          "name": "stdout",
          "text": [
            "[2, 4, 6, 8, 10]\n"
          ]
        }
      ]
    },
    {
      "cell_type": "code",
      "source": [
        "### 2. Use `filter()` to find all numbers greater than `5` in a list `[3, 6, 2, 8, 5, 10]`."
      ],
      "metadata": {
        "id": "TC02P5seK7N1"
      },
      "execution_count": null,
      "outputs": []
    },
    {
      "cell_type": "code",
      "source": [
        "def subbu(num):\n",
        "  return num > 5\n",
        "\n",
        "\n",
        "numbers = [3, 6, 2, 8, 5, 10]\n",
        "result = filter(subbu,numbers)\n",
        "print(list(result))\n",
        "\n"
      ],
      "metadata": {
        "colab": {
          "base_uri": "https://localhost:8080/"
        },
        "id": "Z39XK1o2mvIa",
        "outputId": "a877d088-c1ae-4dbd-e0fa-381846963b4f"
      },
      "execution_count": 5,
      "outputs": [
        {
          "output_type": "stream",
          "name": "stdout",
          "text": [
            "[6, 8, 10]\n"
          ]
        }
      ]
    },
    {
      "cell_type": "code",
      "source": [
        "### 3. Given a list of words `[\"apple\", \"banana\", \"cherry\", \"avocado\", \"grape\"]`, use `filter()` to extract words that start with \"a\"."
      ],
      "metadata": {
        "id": "m7bhYsYBnIKE"
      },
      "execution_count": null,
      "outputs": []
    },
    {
      "cell_type": "code",
      "source": [
        "def subbu(num):\n",
        "  return num.startswith('a')\n",
        "\n",
        "list_no = [\"apple\", \"banana\", \"cherry\", \"avocado\", \"grape\"]\n",
        "result = filter(subbu, list_no)\n",
        "print(list(result))"
      ],
      "metadata": {
        "colab": {
          "base_uri": "https://localhost:8080/"
        },
        "id": "JxOKm75WniV2",
        "outputId": "5c2f2b67-8576-4efe-e648-b65a008e92c0"
      },
      "execution_count": 24,
      "outputs": [
        {
          "output_type": "stream",
          "name": "stdout",
          "text": [
            "['apple', 'avocado']\n"
          ]
        }
      ]
    },
    {
      "cell_type": "code",
      "source": [
        "## 4. Write a program using `filter()` to select only positive numbers from `[-5, -2, 0, 3, 7, -1]`."
      ],
      "metadata": {
        "id": "5L91eztgn99F"
      },
      "execution_count": null,
      "outputs": []
    },
    {
      "cell_type": "code",
      "source": [
        "def subbu(num):\n",
        "  return num >-1\n",
        "\n",
        "numbers =[-5, -2, 0, 3, 7, -1]\n",
        "result = filter(subbu,numbers)\n",
        "print(list(result))"
      ],
      "metadata": {
        "colab": {
          "base_uri": "https://localhost:8080/"
        },
        "id": "WVRcd3wxoh3Y",
        "outputId": "50bc35fc-6f49-47d4-d75d-262c1710619c"
      },
      "execution_count": 11,
      "outputs": [
        {
          "output_type": "stream",
          "name": "stdout",
          "text": [
            "[0, 3, 7]\n"
          ]
        }
      ]
    },
    {
      "cell_type": "code",
      "source": [
        "### 5. Use `filter()` to extract only odd numbers from a list `[10, 15, 20, 25, 30, 35]`."
      ],
      "metadata": {
        "id": "rgRn8xUhpL4O"
      },
      "execution_count": null,
      "outputs": []
    },
    {
      "cell_type": "code",
      "source": [
        "def subbu(num):\n",
        "  return num %2 !=0\n",
        "\n",
        "numbers =  [10, 15, 20, 25, 30, 35]\n",
        "result = filter(subbu,numbers)\n",
        "print(list(result))"
      ],
      "metadata": {
        "colab": {
          "base_uri": "https://localhost:8080/"
        },
        "id": "_0vFlGQFpRdp",
        "outputId": "9a94ef10-2229-4c5e-cde6-14082ba0f6b8"
      },
      "execution_count": 13,
      "outputs": [
        {
          "output_type": "stream",
          "name": "stdout",
          "text": [
            "[15, 25, 35]\n"
          ]
        }
      ]
    },
    {
      "cell_type": "code",
      "source": [
        "### 6. Given a list of strings `[\"Python\", \"\", \"Java\", \" \", \"C++\", \"\"]`, use `filter()` to remove empty strings."
      ],
      "metadata": {
        "id": "8Ya3Q907pjFs"
      },
      "execution_count": null,
      "outputs": []
    },
    {
      "cell_type": "code",
      "source": [
        "def subbu(num):\n",
        "  return num.strip()\n",
        "\n",
        "numbers =   [\"Python\", \"\", \"Java\", \" \", \"C++\", \"\"]\n",
        "result = filter(subbu,numbers)\n",
        "print(list(result))"
      ],
      "metadata": {
        "colab": {
          "base_uri": "https://localhost:8080/"
        },
        "id": "XwHo1VW2pt0p",
        "outputId": "ec49c4bb-3ca6-4bc6-8acd-15dc732921e1"
      },
      "execution_count": 14,
      "outputs": [
        {
          "output_type": "stream",
          "name": "stdout",
          "text": [
            "['Python', 'Java', 'C++']\n"
          ]
        }
      ]
    },
    {
      "cell_type": "code",
      "source": [
        "### 7. Write a function using `filter()` to extract numbers that are divisible by 3 from `[1, 2, 3, 4, 5, 6, 7, 9, 12, 15]`."
      ],
      "metadata": {
        "id": "nXspr_gfp-Zx"
      },
      "execution_count": null,
      "outputs": []
    },
    {
      "cell_type": "code",
      "source": [
        "def subbu(num):\n",
        "  return num //3\n",
        "\n",
        "numbers   = [1, 2, 3, 4, 5, 6, 7, 9, 12, 15]\n",
        "result =filter(subbu,numbers)\n",
        "print(list(result))"
      ],
      "metadata": {
        "colab": {
          "base_uri": "https://localhost:8080/"
        },
        "id": "MhIQyfk0qE_H",
        "outputId": "b4f21d46-d6b4-4266-d323-1c98c4a853ea"
      },
      "execution_count": 15,
      "outputs": [
        {
          "output_type": "stream",
          "name": "stdout",
          "text": [
            "[3, 4, 5, 6, 7, 9, 12, 15]\n"
          ]
        }
      ]
    },
    {
      "cell_type": "code",
      "source": [
        "## 8. Use `filter()` with a lambda function to find words with more than 5 letters from `[\"short\", \"longer\", \"big\", \"small\", \"elephant\"]`."
      ],
      "metadata": {
        "id": "g6-dcoxtqYXH"
      },
      "execution_count": null,
      "outputs": []
    },
    {
      "cell_type": "code",
      "source": [
        "words = [\"short\", \"longer\", \"big\", \"small\", \"elephant\"]\n",
        "long_words = filter(lambda x: len(x) > 5, words)\n",
        "print(list(long_words))\n"
      ],
      "metadata": {
        "colab": {
          "base_uri": "https://localhost:8080/"
        },
        "id": "oBYTDe3uqf9Z",
        "outputId": "73c0ee2c-3e22-4457-eb74-e9e6b1662a11"
      },
      "execution_count": 19,
      "outputs": [
        {
          "output_type": "stream",
          "name": "stdout",
          "text": [
            "['longer', 'elephant']\n"
          ]
        }
      ]
    },
    {
      "cell_type": "code",
      "source": [
        "### 9. Write a program that uses `filter()` to remove negative numbers from a list `[-3, -1, 2, 4, -6, 8]`\n",
        "\n",
        "numbers = [-3, -1, 2, 4, -6, 8]\n",
        "positive_numbers = list(filter(lambda x: x >= 0, numbers))\n",
        "print(positive_numbers)\n",
        "\n",
        "\n"
      ],
      "metadata": {
        "colab": {
          "base_uri": "https://localhost:8080/"
        },
        "id": "wtp82m8Bq-G0",
        "outputId": "5c7dfef9-2469-4260-a82d-ee233fb51d7d"
      },
      "execution_count": 21,
      "outputs": [
        {
          "output_type": "stream",
          "name": "stdout",
          "text": [
            "[2, 4, 8]\n"
          ]
        }
      ]
    },
    {
      "cell_type": "code",
      "source": [
        "## 10 Given a list of names `[\"Alice\", \"Bob\", \"Anna\", \"Charlie\"]`, use `filter()` to extract names that start with \"A\".\n",
        "name = [\"Alice\", \"Bob\", \"Anna\", \"Charlie\"]\n",
        "result filter(lambda x: x.startswith('A'),name)\n",
        "print(result)\n"
      ],
      "metadata": {
        "colab": {
          "base_uri": "https://localhost:8080/"
        },
        "id": "dNjCeJk8rlZQ",
        "outputId": "1dfa7c39-f793-4136-9019-bde549db6c93"
      },
      "execution_count": 23,
      "outputs": [
        {
          "output_type": "stream",
          "name": "stdout",
          "text": [
            "['Alice', 'Anna']\n"
          ]
        }
      ]
    },
    {
      "cell_type": "code",
      "source": [],
      "metadata": {
        "id": "1SD-VDBXsN2K"
      },
      "execution_count": null,
      "outputs": []
    }
  ]
}