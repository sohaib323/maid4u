{
  "nbformat": 4,
  "nbformat_minor": 0,
  "metadata": {
    "colab": {
      "provenance": [],
      "authorship_tag": "ABX9TyN9sG6PuF0UfcC7U1q7Ty91",
      "include_colab_link": true
    },
    "kernelspec": {
      "name": "python3",
      "display_name": "Python 3"
    },
    "language_info": {
      "name": "python"
    }
  },
  "cells": [
    {
      "cell_type": "markdown",
      "metadata": {
        "id": "view-in-github",
        "colab_type": "text"
      },
      "source": [
        "<a href=\"https://colab.research.google.com/github/sohaib323/maid4u/blob/main/_Tasks_Regular_Expressions_(%60re%60)_.ipynb\" target=\"_parent\"><img src=\"https://colab.research.google.com/assets/colab-badge.svg\" alt=\"Open In Colab\"/></a>"
      ]
    },
    {
      "cell_type": "code",
      "execution_count": null,
      "metadata": {
        "id": "bGnXWaZi1imY"
      },
      "outputs": [],
      "source": [
        "###  1 Write a Python program using `re.search()` to check if the string `\"Welcome to Python programming.\"` contains the word `\"Python\"`.\n"
      ]
    },
    {
      "cell_type": "code",
      "source": [
        "import re\n",
        "\n",
        "text = \"Welcome to Python programming.\"\n",
        "pattern = \"Python\"\n",
        "\n",
        "\n",
        "match = re.search(pattern, text)\n",
        "\n",
        "if match:\n",
        "    print(\"The word 'Python' was found in the text.\")\n",
        "else:\n",
        "    print(\"The word 'Python' was not found in the text.\")\n"
      ],
      "metadata": {
        "colab": {
          "base_uri": "https://localhost:8080/"
        },
        "id": "n8xLhqCb1r8U",
        "outputId": "c522a0b3-7e85-42dc-d5b8-d2c16b1f0695"
      },
      "execution_count": 1,
      "outputs": [
        {
          "output_type": "stream",
          "name": "stdout",
          "text": [
            "The word 'Python' was found in the text.\n"
          ]
        }
      ]
    },
    {
      "cell_type": "code",
      "source": [
        "###  * 2 *Extracting Numbers**   Given the text `\"The prices are 250, 499, and 1200.\"`, use `re.findall()` to extract all numbers from the text.\n"
      ],
      "metadata": {
        "id": "RAW8Qmna1yV4"
      },
      "execution_count": null,
      "outputs": []
    },
    {
      "cell_type": "code",
      "source": [
        "import re\n",
        "\n",
        "text = \"The prices are 250, 499, and 1200.\"\n",
        "\n",
        "\n",
        "numbers = re.findall(r'\\d+', text)\n",
        "\n",
        "\n",
        "print(numbers)\n"
      ],
      "metadata": {
        "colab": {
          "base_uri": "https://localhost:8080/"
        },
        "id": "b99BOZ3T15bk",
        "outputId": "e7d337b1-59bd-4cdc-eee5-c3d9cf374f93"
      },
      "execution_count": 2,
      "outputs": [
        {
          "output_type": "stream",
          "name": "stdout",
          "text": [
            "['250', '499', '1200']\n"
          ]
        }
      ]
    },
    {
      "cell_type": "code",
      "source": [
        "### 3. **Email Validation**  Write a regular expression to check if a given email (e.g., `\"example_user@domain.com\"`) is in a valid format.\n"
      ],
      "metadata": {
        "id": "sUYSb1AN2Cea"
      },
      "execution_count": null,
      "outputs": []
    },
    {
      "cell_type": "code",
      "source": [
        "import re\n",
        "\n",
        "def is_valid_email(email):\n",
        "    pattern = r'^[\\w\\.-]+@[\\w\\.-]+\\.\\w{2,}$'\n",
        "    return re.match(pattern, email) is not None\n",
        "\n",
        "# Test the function\n",
        "email = \"example_user@domain.com\"\n",
        "if is_valid_email(email):\n",
        "    print(\"Valid email format.\")\n",
        "else:\n",
        "    print(\"Invalid email format.\")\n"
      ],
      "metadata": {
        "colab": {
          "base_uri": "https://localhost:8080/"
        },
        "id": "W2MF0_xk2HG9",
        "outputId": "b5061627-0770-4dcc-8be8-de073f498eb3"
      },
      "execution_count": 3,
      "outputs": [
        {
          "output_type": "stream",
          "name": "stdout",
          "text": [
            "Valid email format.\n"
          ]
        }
      ]
    },
    {
      "cell_type": "code",
      "source": [
        "### 4. **Phone Number Extraction** Find and extract all 10-digit phone numbers from the text:\n",
        "   `\"You can contact me at 9876543210 or reach my office at 8765432109.\"`\n"
      ],
      "metadata": {
        "id": "2fy1GiwY2KzI"
      },
      "execution_count": null,
      "outputs": []
    },
    {
      "cell_type": "code",
      "source": [
        "import re\n",
        "\n",
        "text = \"You can contact me at 9876543210 or reach my office at 8765432109.\"\n",
        "\n",
        "\n",
        "phone_numbers = re.findall(r'\\b\\d{10}\\b', text)\n",
        "\n",
        "\n",
        "print(phone_numbers)\n"
      ],
      "metadata": {
        "colab": {
          "base_uri": "https://localhost:8080/"
        },
        "id": "PRBhesqr2RNz",
        "outputId": "69792db2-1c86-45d1-c725-f8fe7cb154f7"
      },
      "execution_count": 4,
      "outputs": [
        {
          "output_type": "stream",
          "name": "stdout",
          "text": [
            "['9876543210', '8765432109']\n"
          ]
        }
      ]
    },
    {
      "cell_type": "code",
      "source": [
        "##5. **Replacing Words**  Replace every occurrence of the word `\"dog\"` with `\"cat\"` in the sentence:\n",
        "   `\"The dog is barking. My dog is very friendly.\"`"
      ],
      "metadata": {
        "id": "ua8g_j9s2XTD"
      },
      "execution_count": null,
      "outputs": []
    },
    {
      "cell_type": "code",
      "source": [
        "import re\n",
        "\n",
        "text = \"The dog is barking. My dog is very friendly.\"\n",
        "\n",
        "\n",
        "new_text = re.sub(r'\\bdog\\b', \"cat\", text)\n",
        "\n",
        "print(new_text)\n"
      ],
      "metadata": {
        "colab": {
          "base_uri": "https://localhost:8080/"
        },
        "id": "GhyT2EKW2eQW",
        "outputId": "c9a2cc3c-dce7-44be-a340-76e168c723fb"
      },
      "execution_count": 5,
      "outputs": [
        {
          "output_type": "stream",
          "name": "stdout",
          "text": [
            "The cat is barking. My cat is very friendly.\n"
          ]
        }
      ]
    },
    {
      "cell_type": "code",
      "source": [
        "### 6. **Find All Words Ending with \"ing\"**  Extract all words that end with `\"ing\"` from the text:\n",
        "   `\"He is running, swimming, and jumping every morning.\"`"
      ],
      "metadata": {
        "id": "WHgIr-yl2exg"
      },
      "execution_count": null,
      "outputs": []
    },
    {
      "cell_type": "code",
      "source": [
        "import re\n",
        "\n",
        "text = \"He is running, swimming, and jumping every morning.\"\n",
        "\n",
        "\n",
        "ing_words = re.findall(r'\\b\\w+ing\\b', text)\n",
        "\n",
        "\n",
        "print(ing_words)\n"
      ],
      "metadata": {
        "colab": {
          "base_uri": "https://localhost:8080/"
        },
        "id": "j50J3HCI2nUB",
        "outputId": "35d903d3-05ac-43bc-a0a2-4d7a41d01c6a"
      },
      "execution_count": 6,
      "outputs": [
        {
          "output_type": "stream",
          "name": "stdout",
          "text": [
            "['running', 'swimming', 'jumping', 'morning']\n"
          ]
        }
      ]
    },
    {
      "cell_type": "code",
      "source": [
        "#### 7. **Extract Dates in Different Formats**  Write a regex to find all dates in different formats (e.g., `DD-MM-YYYY`, `YYYY/MM/DD`) in the text:\n",
        "   `\"Important dates: 12-05-2021, 2023/10/07, and 15/08/1947.\"`"
      ],
      "metadata": {
        "id": "D82DN3q52rOg"
      },
      "execution_count": null,
      "outputs": []
    },
    {
      "cell_type": "code",
      "source": [
        "import re\n",
        "\n",
        "text = \"Important dates: 12-05-2021, 2023/10/07, and 15/08/1947.\"\n",
        "\n",
        "\n",
        "date_pattern = r'\\b(?:\\d{2}[-/]\\d{2}[-/]\\d{4}|\\d{4}/\\d{2}/\\d{2})\\b'\n",
        "\n",
        "dates = re.findall(date_pattern, text)\n",
        "\n",
        "\n",
        "print(dates)\n"
      ],
      "metadata": {
        "colab": {
          "base_uri": "https://localhost:8080/"
        },
        "id": "tXM14sPG26CJ",
        "outputId": "fe06e36e-1747-4529-cbda-32748ddb4d78"
      },
      "execution_count": 7,
      "outputs": [
        {
          "output_type": "stream",
          "name": "stdout",
          "text": [
            "['12-05-2021', '2023/10/07', '15/08/1947']\n"
          ]
        }
      ]
    },
    {
      "cell_type": "code",
      "source": [
        "##8. **Extracting Hashtags from a Tweet**  Find and extract all hashtags from the text:\n",
        "   `\"Loving the #PythonCourse! #Coding #Automation\"`\n",
        "\n"
      ],
      "metadata": {
        "id": "zIJ8eL1E3AIj"
      },
      "execution_count": null,
      "outputs": []
    },
    {
      "cell_type": "code",
      "source": [
        "import re\n",
        "\n",
        "text = \"Loving the #PythonCourse! #Coding #Automation\"\n",
        "\n",
        "\n",
        "hashtags = re.findall(r'#\\w+', text)\n",
        "\n",
        "print(hashtags)\n"
      ],
      "metadata": {
        "colab": {
          "base_uri": "https://localhost:8080/"
        },
        "id": "Pv2mMlIu3JQR",
        "outputId": "49b31cbb-033c-46e5-c45a-f889b804e1c1"
      },
      "execution_count": 8,
      "outputs": [
        {
          "output_type": "stream",
          "name": "stdout",
          "text": [
            "['#PythonCourse', '#Coding', '#Automation']\n"
          ]
        }
      ]
    },
    {
      "cell_type": "code",
      "source": [],
      "metadata": {
        "id": "tjX74MKu3ArR"
      },
      "execution_count": null,
      "outputs": []
    },
    {
      "cell_type": "code",
      "source": [
        "### 9. **Checking if a String Starts with a Specific Word**  Write a regex to check if the given string `\"Machine learning is interesting\"` starts with the word `\"Machine\"`."
      ],
      "metadata": {
        "id": "z6jFJQ1M3ORE"
      },
      "execution_count": null,
      "outputs": []
    },
    {
      "cell_type": "code",
      "source": [
        "import re\n",
        "\n",
        "text = \"Machine learning is interesting\"\n",
        "pattern = r'^Machine'\n",
        "\n",
        "\n",
        "if re.match(pattern, text):\n",
        "    print(\"The string starts with 'Machine'.\")\n",
        "else:\n",
        "    print(\"The string does not start with 'Machine'.\")\n"
      ],
      "metadata": {
        "colab": {
          "base_uri": "https://localhost:8080/"
        },
        "id": "GejC2kOC3SLJ",
        "outputId": "d56641e2-e660-4528-8473-93080d360bb2"
      },
      "execution_count": 9,
      "outputs": [
        {
          "output_type": "stream",
          "name": "stdout",
          "text": [
            "The string starts with 'Machine'.\n"
          ]
        }
      ]
    },
    {
      "cell_type": "code",
      "source": [
        "### 10 . **Splitting a String on Multiple Delimiters**  Given the text `\"apple|banana,grape;orange\"`, write a regex pattern to split the text on `|`, `,`, and `;`."
      ],
      "metadata": {
        "id": "3-zVTj0j3W8k"
      },
      "execution_count": null,
      "outputs": []
    },
    {
      "cell_type": "code",
      "source": [
        "import re\n",
        "\n",
        "text = \"apple|banana,grape;orange\"\n",
        "\n",
        "\n",
        "fruits = re.split(r'[|,;]', text)\n",
        "\n",
        "print(fruits)\n"
      ],
      "metadata": {
        "colab": {
          "base_uri": "https://localhost:8080/"
        },
        "id": "5DrUKz4Q3d2w",
        "outputId": "72699c2d-ada8-44d4-93a6-31032aa8aeee"
      },
      "execution_count": 10,
      "outputs": [
        {
          "output_type": "stream",
          "name": "stdout",
          "text": [
            "['apple', 'banana', 'grape', 'orange']\n"
          ]
        }
      ]
    },
    {
      "cell_type": "code",
      "source": [],
      "metadata": {
        "id": "3pAkHXAz3g-o"
      },
      "execution_count": null,
      "outputs": []
    }
  ]
}