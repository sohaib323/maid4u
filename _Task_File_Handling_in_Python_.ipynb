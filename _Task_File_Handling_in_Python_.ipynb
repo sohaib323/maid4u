{
  "nbformat": 4,
  "nbformat_minor": 0,
  "metadata": {
    "colab": {
      "provenance": [],
      "authorship_tag": "ABX9TyOWyeDsZeaCeeyVF+T0h+hR",
      "include_colab_link": true
    },
    "kernelspec": {
      "name": "python3",
      "display_name": "Python 3"
    },
    "language_info": {
      "name": "python"
    }
  },
  "cells": [
    {
      "cell_type": "markdown",
      "metadata": {
        "id": "view-in-github",
        "colab_type": "text"
      },
      "source": [
        "<a href=\"https://colab.research.google.com/github/sohaib323/maid4u/blob/main/_Task_File_Handling_in_Python_.ipynb\" target=\"_parent\"><img src=\"https://colab.research.google.com/assets/colab-badge.svg\" alt=\"Open In Colab\"/></a>"
      ]
    },
    {
      "cell_type": "code",
      "execution_count": null,
      "metadata": {
        "id": "vQlyy0BQTk5v"
      },
      "outputs": [],
      "source": [
        "### 1. Open a file named `\"sample.txt\"` in write mode and write `\"Hello, Python!\"` into it."
      ]
    },
    {
      "cell_type": "code",
      "source": [
        "subbu = open(\"string.txt\", \"r\")\n",
        "content = subbu.read()\n",
        "print(content)\n",
        "file.close()\n",
        "\n"
      ],
      "metadata": {
        "colab": {
          "base_uri": "https://localhost:8080/"
        },
        "id": "mBUHEKjwTxWA",
        "outputId": "20dec850-ed6e-4bca-b333-e331fd8e6223"
      },
      "execution_count": 67,
      "outputs": [
        {
          "output_type": "stream",
          "name": "stdout",
          "text": [
            "hello python\n",
            "\n"
          ]
        }
      ]
    },
    {
      "cell_type": "code",
      "source": [
        "## 2. Read and print the content of `\"sample.txt\"` using the `read()` method."
      ],
      "metadata": {
        "id": "Cd1ceUV9VPDO"
      },
      "execution_count": 92,
      "outputs": []
    },
    {
      "cell_type": "code",
      "source": [
        "subbu = open(\"string.txt\", \"r\")\n",
        "content = subbu.read()\n",
        "print(content)"
      ],
      "metadata": {
        "colab": {
          "base_uri": "https://localhost:8080/"
        },
        "id": "7YPnJdK_XIyC",
        "outputId": "6c6907f4-2425-4088-9712-9fc5272f1a2d"
      },
      "execution_count": 91,
      "outputs": [
        {
          "output_type": "stream",
          "name": "stdout",
          "text": [
            "hello python\n",
            "This is an additional line.\n",
            "This is an additional line.\n",
            "This is an additional line.\n",
            "This is an additional line.\n",
            "This is an additional line.\n",
            "This is an additional line.\n",
            "This is an additional line.\n",
            "This is an additional line.\n",
            "This is an additional line.\n",
            "This is an additional line.\n",
            "This is an additional line.\n",
            "This is an additional line.\n",
            "This is an additional line.\n",
            "This is an additional line.\n",
            "This is an additional line.\n",
            "This is an additional line.\n",
            "This is an additional line.\n",
            "This is an additional line.\n",
            "This is an additional line.\n",
            "This is an additional line.\n",
            "This is an additional line.\n",
            "\n"
          ]
        }
      ]
    },
    {
      "cell_type": "code",
      "source": [
        "####3. Open `\"sample.txt\"` in append mode and add `\"This is an additional line.\"`"
      ],
      "metadata": {
        "id": "KJCFAk8bXVHa"
      },
      "execution_count": null,
      "outputs": []
    },
    {
      "cell_type": "code",
      "source": [
        "subbu = open(\"string.txt\", \"a\")\n",
        "content = subbu.write('This is additional line')\n",
        "print(content)\n",
        "file.close()\n",
        "\n",
        "\n",
        "\n",
        "\n",
        ""
      ],
      "metadata": {
        "id": "F0vA4KUmXZSr",
        "colab": {
          "base_uri": "https://localhost:8080/"
        },
        "outputId": "b9c15521-43e8-4bc4-bbfe-8533d2ea7a47"
      },
      "execution_count": 101,
      "outputs": [
        {
          "output_type": "stream",
          "name": "stdout",
          "text": [
            "23\n"
          ]
        }
      ]
    },
    {
      "cell_type": "code",
      "source": [],
      "metadata": {
        "id": "iaO6fdQ3uBOg"
      },
      "execution_count": null,
      "outputs": []
    },
    {
      "cell_type": "code",
      "source": [],
      "metadata": {
        "id": "HovUrA9wuDks"
      },
      "execution_count": null,
      "outputs": []
    },
    {
      "cell_type": "code",
      "source": [
        "## 4. Read the first **10 characters** from `\"sample.txt\"` using `read(10)`\n",
        "file = open(\"string.txt\",\"r\")\n",
        "content = file.readline(10)\n",
        "print(content)\n",
        "\n"
      ],
      "metadata": {
        "id": "gDmnN6-_XzBt",
        "colab": {
          "base_uri": "https://localhost:8080/"
        },
        "outputId": "d1b7ae40-77ef-4b7b-c19d-5e0b434e0d52"
      },
      "execution_count": 95,
      "outputs": [
        {
          "output_type": "stream",
          "name": "stdout",
          "text": [
            "hello pyth\n"
          ]
        }
      ]
    },
    {
      "cell_type": "code",
      "source": [
        "## 5. Use `readline()` to print the first line of `\"sample.txt\"`."
      ],
      "metadata": {
        "id": "D8mFOD8LtO9X"
      },
      "execution_count": null,
      "outputs": []
    },
    {
      "cell_type": "code",
      "source": [
        "subbu = open(\"string.txt\", \"r\")\n",
        "content = subbu.readline()\n",
        "print(content)\n",
        "file.close()"
      ],
      "metadata": {
        "colab": {
          "base_uri": "https://localhost:8080/"
        },
        "id": "sDJ8mmYUtVZv",
        "outputId": "b4bd027f-58b5-4ecc-973d-4b4cf5d15aab"
      },
      "execution_count": 99,
      "outputs": [
        {
          "output_type": "stream",
          "name": "stdout",
          "text": [
            "hello python\n",
            "\n"
          ]
        }
      ]
    },
    {
      "cell_type": "code",
      "source": [
        "### 6. Read all lines from `\"sample.txt\"` and store them in a list using `readlines()`, then print the list."
      ],
      "metadata": {
        "id": "XxaOiyGQtmRe"
      },
      "execution_count": null,
      "outputs": []
    },
    {
      "cell_type": "code",
      "source": [
        "with open(\"sample.txt\", \"r\") as file:\n",
        "    lines = file.readlines()\n",
        "    print(lines)\n"
      ],
      "metadata": {
        "colab": {
          "base_uri": "https://localhost:8080/"
        },
        "id": "zRRlZYgYt9Iw",
        "outputId": "45df4162-0572-42b7-92a8-025ab89b4292"
      },
      "execution_count": 100,
      "outputs": [
        {
          "output_type": "stream",
          "name": "stdout",
          "text": [
            "['This is an additional line.\\n']\n"
          ]
        }
      ]
    },
    {
      "cell_type": "code",
      "source": [
        "### 7. Open a file using the `with` statement and print its content."
      ],
      "metadata": {
        "id": "ujDuvk8GuEhk"
      },
      "execution_count": null,
      "outputs": []
    },
    {
      "cell_type": "code",
      "source": [
        "with open(\"sample.txt\", \"r\") as file:\n",
        "    content = file.read()\n",
        "    print(content)\n"
      ],
      "metadata": {
        "colab": {
          "base_uri": "https://localhost:8080/"
        },
        "id": "c6Hh3vgXuKOX",
        "outputId": "dc155844-fced-45de-9281-e8de573aacdb"
      },
      "execution_count": 103,
      "outputs": [
        {
          "output_type": "stream",
          "name": "stdout",
          "text": [
            "This is an additional line.\n",
            "\n"
          ]
        }
      ]
    },
    {
      "cell_type": "code",
      "source": [
        "## 8. Check if a file exists before reading it using `os.path.exists(\"sample.txt\")`\n",
        "\n",
        "import os\n",
        "\n",
        "if os.path.exists(\"string.txt\"):\n",
        "    with open(\"string.txt\", \"r\") as file:\n",
        "        content = file.read()\n",
        "        print(content)\n",
        "else:\n",
        "    print(\"File does not exist.\")"
      ],
      "metadata": {
        "colab": {
          "base_uri": "https://localhost:8080/"
        },
        "id": "mCbJ_PfAuOHO",
        "outputId": "4d87d2a1-a082-455b-fcfd-c4cdae39769c"
      },
      "execution_count": 109,
      "outputs": [
        {
          "output_type": "stream",
          "name": "stdout",
          "text": [
            "hello python\n",
            "This is an additional line.\n",
            "This is an additional line.\n",
            "This is an additional line.\n",
            "This is an additional line.\n",
            "This is an additional line.\n",
            "This is an additional line.\n",
            "This is an additional line.\n",
            "This is an additional line.\n",
            "This is an additional line.\n",
            "This is an additional line.\n",
            "This is an additional line.\n",
            "This is an additional line.\n",
            "This is an additional line.\n",
            "This is an additional line.\n",
            "This is an additional line.\n",
            "This is an additional line.\n",
            "This is an additional line.\n",
            "This is an additional line.\n",
            "This is an additional line.\n",
            "This is an additional line.\n",
            "This is an additional line.\n",
            "This is an additional line.\n",
            "This is additional line\n"
          ]
        }
      ]
    },
    {
      "cell_type": "code",
      "source": [
        "### 9 Write a program that takes user input and saves it into `\"user_input.txt\"`."
      ],
      "metadata": {
        "id": "T8bivmySuxJY"
      },
      "execution_count": null,
      "outputs": []
    },
    {
      "cell_type": "code",
      "source": [
        "text = input(\"enter a text here\")\n",
        "\n",
        "with open(\"subbu.txt\",\"w\") as file:\n",
        "    file.write(text)\n"
      ],
      "metadata": {
        "colab": {
          "base_uri": "https://localhost:8080/"
        },
        "id": "OWeHF6WUu-WM",
        "outputId": "e375641c-0d92-4e1d-d565-7535c6411d95"
      },
      "execution_count": 134,
      "outputs": [
        {
          "name": "stdout",
          "output_type": "stream",
          "text": [
            "enter a text hereHello python how are you dear\n"
          ]
        }
      ]
    },
    {
      "cell_type": "code",
      "source": [
        "### 10. Write a Python script that copies the contents of `\"sample.txt\"` into a new file `\"copy.txt\"`."
      ],
      "metadata": {
        "id": "5UNgjCoMyDn7"
      },
      "execution_count": null,
      "outputs": []
    },
    {
      "cell_type": "code",
      "source": [
        "with open(\"string.txt\", \"r\") as source_file:\n",
        "    content = source_file.read()\n",
        "\n",
        "with open(\"copy.txt\", \"w\") as destination_file:\n",
        "    destination_file.write(content)\n",
        "\n",
        "print(\"Contents copied from 'sample.txt' to 'copy.txt'.\")\n"
      ],
      "metadata": {
        "colab": {
          "base_uri": "https://localhost:8080/"
        },
        "id": "PgBZ2FnNyirv",
        "outputId": "1faa2610-e62d-4131-bb3a-edab8602e9be"
      },
      "execution_count": 135,
      "outputs": [
        {
          "output_type": "stream",
          "name": "stdout",
          "text": [
            "Contents copied from 'sample.txt' to 'copy.txt'.\n"
          ]
        }
      ]
    }
  ]
}