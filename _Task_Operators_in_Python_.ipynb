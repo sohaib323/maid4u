{
  "nbformat": 4,
  "nbformat_minor": 0,
  "metadata": {
    "colab": {
      "provenance": [],
      "authorship_tag": "ABX9TyNTdXgDVaPUMIBtMeA6LaSY",
      "include_colab_link": true
    },
    "kernelspec": {
      "name": "python3",
      "display_name": "Python 3"
    },
    "language_info": {
      "name": "python"
    }
  },
  "cells": [
    {
      "cell_type": "markdown",
      "metadata": {
        "id": "view-in-github",
        "colab_type": "text"
      },
      "source": [
        "<a href=\"https://colab.research.google.com/github/sohaib323/maid4u/blob/main/_Task_Operators_in_Python_.ipynb\" target=\"_parent\"><img src=\"https://colab.research.google.com/assets/colab-badge.svg\" alt=\"Open In Colab\"/></a>"
      ]
    },
    {
      "cell_type": "code",
      "execution_count": null,
      "metadata": {
        "id": "OjnFNf-YYTyb"
      },
      "outputs": [],
      "source": [
        "### 1. Write a Python program that adds two numbers using the `+` operator and prints the result."
      ]
    },
    {
      "cell_type": "code",
      "source": [
        "num1 = 7\n",
        "num2 = 5\n",
        "sum_result = num1 + num2\n",
        "print(\"The sum is:\", sum_result)\n"
      ],
      "metadata": {
        "id": "XSyRQqPMYXQk"
      },
      "execution_count": null,
      "outputs": []
    },
    {
      "cell_type": "code",
      "source": [
        "### 2 . Create a program that takes two numbers and finds their remainder using the `%` operator."
      ],
      "metadata": {
        "id": "OF8Btt6dYjSd"
      },
      "execution_count": null,
      "outputs": []
    },
    {
      "cell_type": "code",
      "source": [
        "\n",
        "num1 = int(input(\"Enter the first number: \"))\n",
        "num2 = int(input(\"Enter the second number: \"))\n",
        "\n",
        "\n",
        "remainder = num1 % num2\n",
        "\n",
        "print(\"The remainder is:\", remainder)\n"
      ],
      "metadata": {
        "colab": {
          "base_uri": "https://localhost:8080/"
        },
        "id": "6lp5FoQWYxGJ",
        "outputId": "71e54519-bc1b-4a5f-a8ea-5398358546b5"
      },
      "execution_count": 1,
      "outputs": [
        {
          "output_type": "stream",
          "name": "stdout",
          "text": [
            "Enter the first number: 5\n",
            "Enter the second number: 7\n",
            "The remainder is: 5\n"
          ]
        }
      ]
    },
    {
      "cell_type": "code",
      "source": [
        "### 3. Use a comparison operator to check if `10` is greater than `5` and print the result"
      ],
      "metadata": {
        "id": "ucLfpGEHYxsm"
      },
      "execution_count": null,
      "outputs": []
    },
    {
      "cell_type": "code",
      "source": [
        "\n",
        "result = 10 > 5\n",
        "print(\"Is 10 greater than 5?\", result)\n"
      ],
      "metadata": {
        "colab": {
          "base_uri": "https://localhost:8080/"
        },
        "id": "qZs9vq5PZLwi",
        "outputId": "76bd59fb-45c6-4b8d-9165-6fe9476051fe"
      },
      "execution_count": 2,
      "outputs": [
        {
          "output_type": "stream",
          "name": "stdout",
          "text": [
            "Is 10 greater than 5? True\n"
          ]
        }
      ]
    },
    {
      "cell_type": "code",
      "source": [
        "### 4 a program that checks if two variables have the same value using the `==` operator.\n",
        ""
      ],
      "metadata": {
        "id": "jQkj6tTKZRGr"
      },
      "execution_count": null,
      "outputs": []
    },
    {
      "cell_type": "code",
      "source": [
        "\n",
        "a = 10\n",
        "b = 10\n",
        "\n",
        "\n",
        "if a == b:\n",
        "    print(\"The variables have the same value.\")\n",
        "else:\n",
        "    print(\"The variables have different values.\")\n"
      ],
      "metadata": {
        "colab": {
          "base_uri": "https://localhost:8080/"
        },
        "id": "bIkOG_yRZf8R",
        "outputId": "23a9f480-d5fb-4f14-a573-41085f96382b"
      },
      "execution_count": 4,
      "outputs": [
        {
          "output_type": "stream",
          "name": "stdout",
          "text": [
            "The variables have the same value.\n"
          ]
        }
      ]
    },
    {
      "cell_type": "code",
      "source": [
        "### 5. Implement a program that uses the `and` logical operator to check if both conditions `10 > 5` and `20 > 15` are `True`."
      ],
      "metadata": {
        "id": "xSSBqxrrZYMY"
      },
      "execution_count": null,
      "outputs": []
    },
    {
      "cell_type": "code",
      "source": [
        "\n",
        "if 10 > 5 and 20 > 15:\n",
        "    print(\"Both conditions are True!\")\n",
        "else:\n",
        "    print(\"At least one condition is False.\")\n"
      ],
      "metadata": {
        "colab": {
          "base_uri": "https://localhost:8080/"
        },
        "id": "m_MVligYZspz",
        "outputId": "1978741d-6846-4708-e6a4-a77f65006d71"
      },
      "execution_count": 5,
      "outputs": [
        {
          "output_type": "stream",
          "name": "stdout",
          "text": [
            "Both conditions are True!\n"
          ]
        }
      ]
    },
    {
      "cell_type": "code",
      "source": [
        "#### 6 Use an assignment operator to increase the value of `x = 10` by `5` using `+=`."
      ],
      "metadata": {
        "id": "EijnPAmwZwha"
      },
      "execution_count": null,
      "outputs": []
    },
    {
      "cell_type": "code",
      "source": [
        "x = 10\n",
        "x += 5\n",
        "print(x)\n"
      ],
      "metadata": {
        "colab": {
          "base_uri": "https://localhost:8080/"
        },
        "id": "sNEX75_4Z5l6",
        "outputId": "ab6738fe-8058-4a54-98fe-1092faf00de6"
      },
      "execution_count": 6,
      "outputs": [
        {
          "output_type": "stream",
          "name": "stdout",
          "text": [
            "15\n"
          ]
        }
      ]
    },
    {
      "cell_type": "code",
      "source": [
        "###7. Write a program that checks if a number is **not** greater than `100` using the `not` operator"
      ],
      "metadata": {
        "id": "P_u-DSjUZ826"
      },
      "execution_count": null,
      "outputs": []
    },
    {
      "cell_type": "code",
      "source": [
        "num = int(input(\"Enter a number: \"))\n",
        "\n",
        "if not num > 100:\n",
        "    print(\"The number is not greater than 100.\")\n",
        "else:\n",
        "    print(\"The number is greater than 100.\")\n"
      ],
      "metadata": {
        "colab": {
          "base_uri": "https://localhost:8080/"
        },
        "id": "59x4MDchaFug",
        "outputId": "e15fad7b-a166-4d41-8a29-dfcbc5dd0497"
      },
      "execution_count": 7,
      "outputs": [
        {
          "output_type": "stream",
          "name": "stdout",
          "text": [
            "Enter a number: 101\n",
            "The number is greater than 100.\n"
          ]
        }
      ]
    },
    {
      "cell_type": "code",
      "source": [
        "###5 Use `range()` and the `*` multiplication operator to print the first 10 multiples of `5`."
      ],
      "metadata": {
        "id": "Z-ii6ZQiaGLO"
      },
      "execution_count": null,
      "outputs": []
    },
    {
      "cell_type": "code",
      "source": [
        "for i in range(1, 11):\n",
        "    print(i * 5)\n",
        "\n"
      ],
      "metadata": {
        "colab": {
          "base_uri": "https://localhost:8080/"
        },
        "id": "I4uBcaqyaNPs",
        "outputId": "b56787ef-23a2-423c-8068-e462b5a2e4f3"
      },
      "execution_count": 8,
      "outputs": [
        {
          "output_type": "stream",
          "name": "stdout",
          "text": [
            "5\n",
            "10\n",
            "15\n",
            "20\n",
            "25\n",
            "30\n",
            "35\n",
            "40\n",
            "45\n",
            "50\n"
          ]
        }
      ]
    },
    {
      "cell_type": "code",
      "source": [
        "###9  Create a program that asks the user for two numbers and finds their quotient using the `/` operator."
      ],
      "metadata": {
        "id": "K-5CmjPxaRvv"
      },
      "execution_count": null,
      "outputs": []
    },
    {
      "cell_type": "code",
      "source": [
        "\n",
        "num1 = float(input(\"Enter the first number: \"))\n",
        "num2 = float(input(\"Enter the second number: \"))\n",
        "\n",
        "\n",
        "if num2 != 0:\n",
        "    quotient = num1 / num2\n",
        "    print(\"The quotient is:\", quotient)\n",
        "else:\n",
        "    print(\"Cannot divide by zero!\")\n"
      ],
      "metadata": {
        "colab": {
          "base_uri": "https://localhost:8080/"
        },
        "id": "s9owwkJ-aZmY",
        "outputId": "61f8b953-8b6b-47ad-a695-3026544f2ec6"
      },
      "execution_count": 9,
      "outputs": [
        {
          "output_type": "stream",
          "name": "stdout",
          "text": [
            "Enter the first number: 5\n",
            "Enter the second number: 2\n",
            "The quotient is: 2.5\n"
          ]
        }
      ]
    },
    {
      "cell_type": "code",
      "source": [
        "### 10. Implement a program that swaps two numbers using a mathematical operator without using a temporary variable."
      ],
      "metadata": {
        "id": "AnzhBwpHadDD"
      },
      "execution_count": null,
      "outputs": []
    },
    {
      "cell_type": "code",
      "source": [
        "\n",
        "a = 5\n",
        "b = 10\n",
        "\n",
        "\n",
        "a = a + b\n",
        "b = a - b\n",
        "a = a -b\n",
        "\n",
        "\n",
        "\n",
        "print(\"After swapping:\")\n",
        "print(\"a =\", a)\n",
        "print(\"b =\", b)\n",
        "\n"
      ],
      "metadata": {
        "colab": {
          "base_uri": "https://localhost:8080/"
        },
        "id": "nSiT4EaGalnL",
        "outputId": "fe5aadb6-b2b3-40ff-a4f4-b0e87ce0aa76"
      },
      "execution_count": 14,
      "outputs": [
        {
          "output_type": "stream",
          "name": "stdout",
          "text": [
            "After swapping:\n",
            "a = 10\n",
            "b = 5\n"
          ]
        }
      ]
    },
    {
      "cell_type": "code",
      "source": [
        "\n"
      ],
      "metadata": {
        "id": "nEN70abqalo7"
      },
      "execution_count": null,
      "outputs": []
    }
  ]
}