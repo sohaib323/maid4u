{
  "nbformat": 4,
  "nbformat_minor": 0,
  "metadata": {
    "colab": {
      "provenance": [],
      "authorship_tag": "ABX9TyMWOyWFds3sfcy/BWoucscj",
      "include_colab_link": true
    },
    "kernelspec": {
      "name": "python3",
      "display_name": "Python 3"
    },
    "language_info": {
      "name": "python"
    }
  },
  "cells": [
    {
      "cell_type": "markdown",
      "metadata": {
        "id": "view-in-github",
        "colab_type": "text"
      },
      "source": [
        "<a href=\"https://colab.research.google.com/github/sohaib323/maid4u/blob/main/_Task_Break_Statement_in_Python_.ipynb\" target=\"_parent\"><img src=\"https://colab.research.google.com/assets/colab-badge.svg\" alt=\"Open In Colab\"/></a>"
      ]
    },
    {
      "cell_type": "code",
      "execution_count": null,
      "metadata": {
        "id": "0ity8r9TANZn"
      },
      "outputs": [],
      "source": [
        "### **Task: Break Statement in Python**"
      ]
    },
    {
      "cell_type": "code",
      "source": [
        "### 1. Write a `for` loop that prints numbers from `1` to `10` but stops when it reaches `5`."
      ],
      "metadata": {
        "id": "MVKxBrbSAUfG"
      },
      "execution_count": null,
      "outputs": []
    },
    {
      "cell_type": "code",
      "source": [
        "for i in range(1,10):\n",
        "  if i == 5:\n",
        "     break\n",
        "  print(i)\n"
      ],
      "metadata": {
        "colab": {
          "base_uri": "https://localhost:8080/"
        },
        "id": "7GXmIMXGAXi7",
        "outputId": "edb33686-5019-47c9-ddc1-778965e3e48a"
      },
      "execution_count": 5,
      "outputs": [
        {
          "output_type": "stream",
          "name": "stdout",
          "text": [
            "1\n",
            "2\n",
            "3\n",
            "4\n"
          ]
        }
      ]
    },
    {
      "cell_type": "code",
      "source": [
        "## 2. Create a `while` loop that prints numbers starting from `1` and stops when the number is `7`."
      ],
      "metadata": {
        "id": "86VkkITBAeBO"
      },
      "execution_count": null,
      "outputs": []
    },
    {
      "cell_type": "code",
      "source": [
        "num = 1\n",
        "while num < 10:\n",
        "  if num ==7:\n",
        "     break\n",
        "  print(num)\n",
        "  num +=1"
      ],
      "metadata": {
        "colab": {
          "base_uri": "https://localhost:8080/"
        },
        "id": "HN6T__KJBAuc",
        "outputId": "c2a3dae7-8e43-4b96-e4a6-6587222faedb"
      },
      "execution_count": 8,
      "outputs": [
        {
          "output_type": "stream",
          "name": "stdout",
          "text": [
            "1\n",
            "2\n",
            "3\n",
            "4\n",
            "5\n",
            "6\n"
          ]
        }
      ]
    },
    {
      "cell_type": "code",
      "source": [],
      "metadata": {
        "id": "mquBsVqJBKS2"
      },
      "execution_count": null,
      "outputs": []
    },
    {
      "cell_type": "code",
      "source": [
        "### 3. Write a program where a user enters numbers continuously, but the loop breaks when they enter `0`.\n",
        "\n",
        "\n",
        "while True:\n",
        "  num = int(input(\"enter a value\"))\n",
        "  if num == 0:\n",
        "    print(\"loop is ended\")\n",
        "    break\n",
        "  print(num)"
      ],
      "metadata": {
        "colab": {
          "base_uri": "https://localhost:8080/"
        },
        "id": "6fhci-o4Bi9u",
        "outputId": "3308d4b9-f30b-4d9e-dc88-c17f0e076d4c"
      },
      "execution_count": 33,
      "outputs": [
        {
          "output_type": "stream",
          "name": "stdout",
          "text": [
            "enter a value0\n",
            "loop is ended\n"
          ]
        }
      ]
    },
    {
      "cell_type": "code",
      "source": [
        "0\n",
        "## 4. Use a `for` loop with `break` to stop printing even numbers when `8` is reached in the list `[2, 4, 6, 8, 10]`."
      ],
      "metadata": {
        "id": "RPWP-lC-DQmA"
      },
      "execution_count": 31,
      "outputs": []
    },
    {
      "cell_type": "code",
      "source": [
        "num = [2,4,6,8]\n",
        "for number in num:\n",
        "  if number == 8:\n",
        "    break\n",
        "  print(number)"
      ],
      "metadata": {
        "colab": {
          "base_uri": "https://localhost:8080/"
        },
        "id": "JeYxKoAyD583",
        "outputId": "98eb5fee-a5df-41e6-85bf-4233a3b19fb0"
      },
      "execution_count": 28,
      "outputs": [
        {
          "output_type": "stream",
          "name": "stdout",
          "text": [
            "2\n",
            "4\n",
            "6\n"
          ]
        }
      ]
    },
    {
      "cell_type": "code",
      "source": [
        "### 5. Implement a `while` loop that generates random numbers between `1` and `100` and stops when it generates `50`."
      ],
      "metadata": {
        "id": "jHU3wUE3D6AP"
      },
      "execution_count": null,
      "outputs": []
    },
    {
      "cell_type": "code",
      "source": [
        "num = 1\n",
        "while num < 100:\n",
        "  if num == 50:\n",
        "    break\n",
        "  num +=1\n",
        "  print(num)"
      ],
      "metadata": {
        "colab": {
          "base_uri": "https://localhost:8080/"
        },
        "id": "QoBplYUaFrys",
        "outputId": "dc455030-7204-40bb-ff0c-48e1d4ea32da"
      },
      "execution_count": 40,
      "outputs": [
        {
          "output_type": "stream",
          "name": "stdout",
          "text": [
            "2\n",
            "3\n",
            "4\n",
            "5\n",
            "6\n",
            "7\n",
            "8\n",
            "9\n",
            "10\n",
            "11\n",
            "12\n",
            "13\n",
            "14\n",
            "15\n",
            "16\n",
            "17\n",
            "18\n",
            "19\n",
            "20\n",
            "21\n",
            "22\n",
            "23\n",
            "24\n",
            "25\n",
            "26\n",
            "27\n",
            "28\n",
            "29\n",
            "30\n",
            "31\n",
            "32\n",
            "33\n",
            "34\n",
            "35\n",
            "36\n",
            "37\n",
            "38\n",
            "39\n",
            "40\n",
            "41\n",
            "42\n",
            "43\n",
            "44\n",
            "45\n",
            "46\n",
            "47\n",
            "48\n",
            "49\n",
            "50\n"
          ]
        }
      ]
    },
    {
      "cell_type": "code",
      "source": [
        "## 6. Write a program that iterates over a string `\"Python\"` but stops printing when it encounters the letter `\"o\"`."
      ],
      "metadata": {
        "id": "trowSlrJF9z8"
      },
      "execution_count": null,
      "outputs": []
    },
    {
      "cell_type": "code",
      "source": [
        "# 6. Write a program that iterates over a string `\"Python\"` but stops printing when it encounters the letter `\"o\"`.\n",
        "\n",
        "while True:\n",
        "  name = 'python'\n",
        "  for i in name:\n",
        "    if i =='o':\n",
        "      break\n",
        "    print(i)\n",
        "  break"
      ],
      "metadata": {
        "colab": {
          "base_uri": "https://localhost:8080/"
        },
        "id": "q7UzY_H8IEyV",
        "outputId": "81195c4f-6e3e-4c43-acd9-f9aec3b5fccd"
      },
      "execution_count": 47,
      "outputs": [
        {
          "output_type": "stream",
          "name": "stdout",
          "text": [
            "p\n",
            "y\n",
            "t\n",
            "h\n"
          ]
        }
      ]
    },
    {
      "cell_type": "code",
      "source": [
        "## 7. Create a loop that iterates over a list of names but exits when it finds `\"John\"`."
      ],
      "metadata": {
        "id": "Vq1vCaqkHEtz"
      },
      "execution_count": null,
      "outputs": []
    },
    {
      "cell_type": "code",
      "source": [
        "names = [\"Alice\", \"Bob\", \"Charlie\", \"John\", \"Diana\", \"Eve\"]\n",
        "\n",
        "for name in names:\n",
        "    if name == \"John\":\n",
        "        print(\"Found John! Exiting the loop.\")\n",
        "        break\n",
        "    print(f\"Current name: {name}\")\n"
      ],
      "metadata": {
        "colab": {
          "base_uri": "https://localhost:8080/"
        },
        "id": "wfg3ar4OH2YC",
        "outputId": "fcbce279-eae6-4e78-b7ee-755da93ff097"
      },
      "execution_count": 46,
      "outputs": [
        {
          "output_type": "stream",
          "name": "stdout",
          "text": [
            "Current name: Alice\n",
            "Current name: Bob\n",
            "Current name: Charlie\n",
            "Found John! Exiting the loop.\n"
          ]
        }
      ]
    },
    {
      "cell_type": "code",
      "source": [
        "#### 8. Use a nested loop to print pairs `(i, j)` where `i` and `j` range from `1` to `3`, but break out of the inner loop when `j == 2`."
      ],
      "metadata": {
        "id": "NdG0oRJOIN5g"
      },
      "execution_count": null,
      "outputs": []
    },
    {
      "cell_type": "code",
      "source": [
        "# 8. Use a nested loop to print pairs (i, j) where i and j range from 1 to 3, but break out of the inner loop when j == 2.\n",
        "for i in range(1,4):\n",
        "  for j in range(1,4):\n",
        "    if j == 2:\n",
        "      break\n",
        "    print(f\"{i},{j}\")"
      ],
      "metadata": {
        "colab": {
          "base_uri": "https://localhost:8080/"
        },
        "id": "JD49VVerJ3-G",
        "outputId": "c6b32688-19e2-4757-9d35-69286d5acd8f"
      },
      "execution_count": 52,
      "outputs": [
        {
          "output_type": "stream",
          "name": "stdout",
          "text": [
            "1,1\n",
            "2,1\n",
            "3,1\n"
          ]
        }
      ]
    },
    {
      "cell_type": "code",
      "source": [
        "## 9. Write a program that simulates a guessing game where the user keeps guessing until they enter the correct number, using `break`."
      ],
      "metadata": {
        "id": "IOizqYheJ5xN"
      },
      "execution_count": null,
      "outputs": []
    },
    {
      "cell_type": "code",
      "source": [
        "secret_number = 7  # You can change this to any number you like!\n",
        "\n",
        "while True:\n",
        "    guess = int(input(\"Guess the number: \"))\n",
        "    if guess == secret_number:\n",
        "        print(\"Congratulations! You guessed it right.\")\n",
        "        break\n",
        "    else:\n",
        "        print(\"Oops! Try again.\")\n"
      ],
      "metadata": {
        "colab": {
          "base_uri": "https://localhost:8080/"
        },
        "id": "d3PBEzTYKUzd",
        "outputId": "28d8311b-52b2-41a4-b202-2bd5301bd959"
      },
      "execution_count": 53,
      "outputs": [
        {
          "output_type": "stream",
          "name": "stdout",
          "text": [
            "Guess the number: 5\n",
            "Oops! Try again.\n",
            "Guess the number: 7\n",
            "Congratulations! You guessed it right.\n"
          ]
        }
      ]
    },
    {
      "cell_type": "code",
      "source": [
        "## 10. Implement a loop that reads a file line by line but stops reading when it finds a specific keyword like `\"STOP\"`"
      ],
      "metadata": {
        "id": "TbGRCe2_KWC-"
      },
      "execution_count": null,
      "outputs": []
    },
    {
      "cell_type": "code",
      "source": [
        "with open(\"sample.txt\", \"r\") as file:\n",
        "    for line in file:\n",
        "        if \"STOP\" in line:\n",
        "            print(\"Found 'STOP'. Ending the loop.\")\n",
        "            break\n",
        "        print(line.strip())\n"
      ],
      "metadata": {
        "colab": {
          "base_uri": "https://localhost:8080/",
          "height": 211
        },
        "id": "_jD7n4cuKq9a",
        "outputId": "2c93fb9f-26d6-4007-8aa2-b2c5029a282a"
      },
      "execution_count": 54,
      "outputs": [
        {
          "output_type": "error",
          "ename": "FileNotFoundError",
          "evalue": "[Errno 2] No such file or directory: 'sample.txt'",
          "traceback": [
            "\u001b[0;31m---------------------------------------------------------------------------\u001b[0m",
            "\u001b[0;31mFileNotFoundError\u001b[0m                         Traceback (most recent call last)",
            "\u001b[0;32m/tmp/ipython-input-54-1687002686.py\u001b[0m in \u001b[0;36m<cell line: 0>\u001b[0;34m()\u001b[0m\n\u001b[0;32m----> 1\u001b[0;31m \u001b[0;32mwith\u001b[0m \u001b[0mopen\u001b[0m\u001b[0;34m(\u001b[0m\u001b[0;34m\"sample.txt\"\u001b[0m\u001b[0;34m,\u001b[0m \u001b[0;34m\"r\"\u001b[0m\u001b[0;34m)\u001b[0m \u001b[0;32mas\u001b[0m \u001b[0mfile\u001b[0m\u001b[0;34m:\u001b[0m\u001b[0;34m\u001b[0m\u001b[0;34m\u001b[0m\u001b[0m\n\u001b[0m\u001b[1;32m      2\u001b[0m     \u001b[0;32mfor\u001b[0m \u001b[0mline\u001b[0m \u001b[0;32min\u001b[0m \u001b[0mfile\u001b[0m\u001b[0;34m:\u001b[0m\u001b[0;34m\u001b[0m\u001b[0;34m\u001b[0m\u001b[0m\n\u001b[1;32m      3\u001b[0m         \u001b[0;32mif\u001b[0m \u001b[0;34m\"STOP\"\u001b[0m \u001b[0;32min\u001b[0m \u001b[0mline\u001b[0m\u001b[0;34m:\u001b[0m\u001b[0;34m\u001b[0m\u001b[0;34m\u001b[0m\u001b[0m\n\u001b[1;32m      4\u001b[0m             \u001b[0mprint\u001b[0m\u001b[0;34m(\u001b[0m\u001b[0;34m\"Found 'STOP'. Ending the loop.\"\u001b[0m\u001b[0;34m)\u001b[0m\u001b[0;34m\u001b[0m\u001b[0;34m\u001b[0m\u001b[0m\n\u001b[1;32m      5\u001b[0m             \u001b[0;32mbreak\u001b[0m\u001b[0;34m\u001b[0m\u001b[0;34m\u001b[0m\u001b[0m\n",
            "\u001b[0;31mFileNotFoundError\u001b[0m: [Errno 2] No such file or directory: 'sample.txt'"
          ]
        }
      ]
    }
  ]
}