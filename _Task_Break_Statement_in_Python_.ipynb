{
  "cells": [
    {
      "cell_type": "markdown",
      "metadata": {
        "id": "view-in-github",
        "colab_type": "text"
      },
      "source": [
        "<a href=\"https://colab.research.google.com/github/sohaib323/maid4u/blob/main/_Task_Break_Statement_in_Python_.ipynb\" target=\"_parent\"><img src=\"https://colab.research.google.com/assets/colab-badge.svg\" alt=\"Open In Colab\"/></a>"
      ]
    },
    {
      "cell_type": "code",
      "execution_count": null,
      "metadata": {
        "id": "0ity8r9TANZn"
      },
      "outputs": [],
      "source": [
        "### **Task: Break Statement in Python**"
      ]
    },
    {
      "cell_type": "code",
      "execution_count": null,
      "metadata": {
        "id": "MVKxBrbSAUfG"
      },
      "outputs": [],
      "source": [
        "### 1. Write a `for` loop that prints numbers from `1` to `10` but stops when it reaches `5`."
      ]
    },
    {
      "cell_type": "code",
      "execution_count": null,
      "metadata": {
        "colab": {
          "base_uri": "https://localhost:8080/"
        },
        "id": "7GXmIMXGAXi7",
        "outputId": "edb33686-5019-47c9-ddc1-778965e3e48a"
      },
      "outputs": [
        {
          "name": "stdout",
          "output_type": "stream",
          "text": [
            "1\n",
            "2\n",
            "3\n",
            "4\n"
          ]
        }
      ],
      "source": [
        "for i in range(1,10):\n",
        "  if i == 5:\n",
        "     break\n",
        "  print(i)\n"
      ]
    },
    {
      "cell_type": "code",
      "execution_count": null,
      "metadata": {
        "id": "86VkkITBAeBO"
      },
      "outputs": [],
      "source": [
        "## 2. Create a `while` loop that prints numbers starting from `1` and stops when the number is `7`."
      ]
    },
    {
      "cell_type": "code",
      "execution_count": null,
      "metadata": {
        "colab": {
          "base_uri": "https://localhost:8080/"
        },
        "id": "HN6T__KJBAuc",
        "outputId": "c2a3dae7-8e43-4b96-e4a6-6587222faedb"
      },
      "outputs": [
        {
          "name": "stdout",
          "output_type": "stream",
          "text": [
            "1\n",
            "2\n",
            "3\n",
            "4\n",
            "5\n",
            "6\n"
          ]
        }
      ],
      "source": [
        "num = 1\n",
        "while num < 10:\n",
        "  if num ==7:\n",
        "     break\n",
        "  print(num)\n",
        "  num +=1"
      ]
    },
    {
      "cell_type": "code",
      "execution_count": null,
      "metadata": {
        "id": "mquBsVqJBKS2"
      },
      "outputs": [],
      "source": []
    },
    {
      "cell_type": "code",
      "execution_count": null,
      "metadata": {
        "colab": {
          "base_uri": "https://localhost:8080/"
        },
        "id": "6fhci-o4Bi9u",
        "outputId": "5d9f9a7c-eb7c-4b02-f31e-b50c9b641ed9"
      },
      "outputs": [
        {
          "name": "stdout",
          "output_type": "stream",
          "text": [
            "enetr a value here5\n",
            "enetr a value here0\n"
          ]
        }
      ],
      "source": [
        "### 3. Write a program where a user enters numbers continuously, but the loop breaks when they enter `0`.\n",
        "\n",
        "while True:\n",
        "  num = int(input(\"enetr a value here\"))\n",
        "  if num == 0:\n",
        "       break\n",
        "       print(num)\n"
      ]
    },
    {
      "cell_type": "code",
      "execution_count": null,
      "metadata": {
        "id": "RPWP-lC-DQmA"
      },
      "outputs": [],
      "source": [
        "## 4. Use a `for` loop with `break` to stop printing even numbers when `8` is reached in the list `[2, 4, 6, 8, 10]`."
      ]
    },
    {
      "cell_type": "code",
      "execution_count": 5,
      "metadata": {
        "id": "JeYxKoAyD583",
        "colab": {
          "base_uri": "https://localhost:8080/"
        },
        "outputId": "e74f64c3-4bc6-4370-dc7b-c5eb1d038960"
      },
      "outputs": [
        {
          "output_type": "stream",
          "name": "stdout",
          "text": [
            "2\n",
            "4\n",
            "6\n"
          ]
        }
      ],
      "source": [
        "num = [2,4,6,8]\n",
        "for number in num:\n",
        "  if number == 8:\n",
        "    break\n",
        "  print(number)"
      ]
    },
    {
      "cell_type": "code",
      "execution_count": null,
      "metadata": {
        "id": "jHU3wUE3D6AP"
      },
      "outputs": [],
      "source": [
        "### 5. Implement a `while` loop that generates random numbers between `1` and `100` and stops when it generates `50`."
      ]
    },
    {
      "cell_type": "code",
      "execution_count": 38,
      "metadata": {
        "id": "SOUzv9L7mg4o",
        "colab": {
          "base_uri": "https://localhost:8080/"
        },
        "outputId": "20d89317-0dc9-4bef-f97c-848662308272"
      },
      "outputs": [
        {
          "output_type": "stream",
          "name": "stdout",
          "text": [
            "1\n",
            "2\n",
            "3\n",
            "4\n",
            "5\n",
            "6\n",
            "7\n",
            "8\n",
            "9\n",
            "10\n",
            "11\n",
            "12\n",
            "13\n",
            "14\n",
            "15\n",
            "16\n",
            "17\n",
            "18\n",
            "19\n",
            "20\n",
            "21\n",
            "22\n",
            "23\n",
            "24\n",
            "25\n",
            "26\n",
            "27\n",
            "28\n",
            "29\n",
            "30\n",
            "31\n",
            "32\n",
            "33\n",
            "34\n",
            "35\n",
            "36\n",
            "37\n",
            "38\n",
            "39\n",
            "40\n",
            "41\n",
            "42\n",
            "43\n",
            "44\n",
            "45\n",
            "46\n",
            "47\n",
            "48\n",
            "49\n",
            "50\n"
          ]
        }
      ],
      "source": [
        "num = 0\n",
        "while num < 100:\n",
        "  if num == 50:\n",
        "    break\n",
        "  num +=1\n",
        "  print(num)\n"
      ]
    },
    {
      "cell_type": "code",
      "execution_count": null,
      "metadata": {
        "id": "kPTbpE2KngM5"
      },
      "outputs": [],
      "source": [
        "### 6. Write a program that iterates over a string `\"Python\"` but stops printing when it encounters the letter `\"o\"`."
      ]
    },
    {
      "cell_type": "code",
      "source": [
        "data =\"python\"\n",
        "for name in data :\n",
        "    if name == \"o\":\n",
        "       break\n",
        "    print(name)\n",
        "\n"
      ],
      "metadata": {
        "colab": {
          "base_uri": "https://localhost:8080/"
        },
        "id": "Wa-XsIoEw17j",
        "outputId": "9e66f3c3-411a-49f7-f4d5-905ef99fddf0"
      },
      "execution_count": 10,
      "outputs": [
        {
          "output_type": "stream",
          "name": "stdout",
          "text": [
            "p\n",
            "y\n",
            "t\n",
            "h\n"
          ]
        }
      ]
    },
    {
      "cell_type": "code",
      "source": [
        "###7. Create a loop that iterates over a list of names but exits when it finds `\"John\"`."
      ],
      "metadata": {
        "id": "MjostUN22a3p"
      },
      "execution_count": 11,
      "outputs": []
    },
    {
      "cell_type": "code",
      "source": [
        "name = [\"sohiab\",'faraz',\"John\",\"subbu\",\"mohit\"]\n",
        "\n",
        "for name in name :\n",
        "  if name == \"John\":\n",
        "    break\n",
        "  print(name)"
      ],
      "metadata": {
        "colab": {
          "base_uri": "https://localhost:8080/"
        },
        "id": "Na2J__P025zw",
        "outputId": "367edf23-0a8b-40c1-ee07-8ea09bc4e014"
      },
      "execution_count": 12,
      "outputs": [
        {
          "output_type": "stream",
          "name": "stdout",
          "text": [
            "sohiab\n",
            "faraz\n"
          ]
        }
      ]
    },
    {
      "cell_type": "code",
      "source": [
        "### 8. Use a nested loop to print pairs `(i, j)` where `i` and `j` range from `1` to `3`, but break out of the inner loop when `j == 2`."
      ],
      "metadata": {
        "id": "HFo7oaJN3aya"
      },
      "execution_count": null,
      "outputs": []
    },
    {
      "cell_type": "code",
      "source": [
        "for i in range(1, 4):\n",
        "    for j in range(1, 4):\n",
        "        if j == 2:\n",
        "            break\n",
        "        print(j)\n"
      ],
      "metadata": {
        "colab": {
          "base_uri": "https://localhost:8080/"
        },
        "id": "MAm0Auom4Ylo",
        "outputId": "ac312064-8e6f-4939-9dcf-e7f26039f3ac"
      },
      "execution_count": 15,
      "outputs": [
        {
          "output_type": "stream",
          "name": "stdout",
          "text": [
            "1\n",
            "1\n",
            "1\n"
          ]
        }
      ]
    },
    {
      "cell_type": "code",
      "source": [
        "### 9. Write a program that simulates a guessing game where the user keeps guessing until they enter the correct number, using `break`.\n",
        "\n",
        "\n",
        "secret_number = 8\n",
        "\n",
        "\n",
        "while True:\n",
        "    guess = int(input(\"🎯 Guess the secret number: \"))\n",
        "\n",
        "    if guess == secret_number:\n",
        "        print(\"You got it.\")\n",
        "        break\n",
        "    else:\n",
        "        print(\" Try again...\")\n",
        "\n",
        "\n"
      ],
      "metadata": {
        "colab": {
          "base_uri": "https://localhost:8080/"
        },
        "id": "7S4oH_9Y5c1z",
        "outputId": "d76ef7fc-d2b1-4169-9e05-39a1e708c3db"
      },
      "execution_count": 24,
      "outputs": [
        {
          "output_type": "stream",
          "name": "stdout",
          "text": [
            "🎯 Guess the secret number: 8\n",
            "You got it.\n"
          ]
        }
      ]
    },
    {
      "cell_type": "code",
      "source": [
        "### 10. Implement a loop that reads a file line by line but stops reading when it finds a specific keyword like `\"STOP\"`"
      ],
      "metadata": {
        "id": "Z_SkGoB865Q1"
      },
      "execution_count": null,
      "outputs": []
    },
    {
      "cell_type": "code",
      "source": [
        "# Open the file in read mode\n",
        "with open(\"/content/pyhton.txt\", \"r\") as file:\n",
        "    for line in file:\n",
        "        line = line.strip()\n",
        "\n",
        "\n",
        "        if line == \"stope here no matter how much hard it is\":\n",
        "            print(\"🛑 Found the stopping phrase. Ending read.\")\n",
        "            break\n",
        "\n",
        "        print(line)\n",
        "\n"
      ],
      "metadata": {
        "colab": {
          "base_uri": "https://localhost:8080/"
        },
        "id": "5LRyXxyi7qvC",
        "outputId": "bf45350b-2bb4-42af-d62c-44c26cda6bb8"
      },
      "execution_count": 36,
      "outputs": [
        {
          "output_type": "stream",
          "name": "stdout",
          "text": [
            "this is subbu ,i am data analyst stope here no matter how much hard it is\n"
          ]
        }
      ]
    },
    {
      "cell_type": "code",
      "source": [],
      "metadata": {
        "id": "mfbLVelS7wRT"
      },
      "execution_count": null,
      "outputs": []
    }
  ],
  "metadata": {
    "colab": {
      "provenance": [],
      "authorship_tag": "ABX9TyNk01TncsLP904CkAWFzK2L",
      "include_colab_link": true
    },
    "kernelspec": {
      "display_name": "Python 3",
      "name": "python3"
    },
    "language_info": {
      "name": "python"
    }
  },
  "nbformat": 4,
  "nbformat_minor": 0
}