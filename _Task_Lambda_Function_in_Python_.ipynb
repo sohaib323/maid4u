{
  "nbformat": 4,
  "nbformat_minor": 0,
  "metadata": {
    "colab": {
      "provenance": [],
      "authorship_tag": "ABX9TyNfnhfJdJIyPYReIbh32y1L",
      "include_colab_link": true
    },
    "kernelspec": {
      "name": "python3",
      "display_name": "Python 3"
    },
    "language_info": {
      "name": "python"
    }
  },
  "cells": [
    {
      "cell_type": "markdown",
      "metadata": {
        "id": "view-in-github",
        "colab_type": "text"
      },
      "source": [
        "<a href=\"https://colab.research.google.com/github/sohaib323/maid4u/blob/main/_Task_Lambda_Function_in_Python_.ipynb\" target=\"_parent\"><img src=\"https://colab.research.google.com/assets/colab-badge.svg\" alt=\"Open In Colab\"/></a>"
      ]
    },
    {
      "cell_type": "code",
      "execution_count": null,
      "metadata": {
        "id": "SX2hgGTyBnil"
      },
      "outputs": [],
      "source": [
        "### **Task: Lambda Function in Python**"
      ]
    },
    {
      "cell_type": "code",
      "source": [
        "### 1. Write a lambda function to add two numbers and print the result.\n"
      ],
      "metadata": {
        "id": "hAPLM9mTBwsR"
      },
      "execution_count": null,
      "outputs": []
    },
    {
      "cell_type": "code",
      "source": [
        "num = lambda x,y : x+y\n",
        "print(num(2,3))"
      ],
      "metadata": {
        "colab": {
          "base_uri": "https://localhost:8080/"
        },
        "id": "8tRrkYybB0JA",
        "outputId": "129970eb-d496-409f-ec6c-4f94cb66f91b"
      },
      "execution_count": 1,
      "outputs": [
        {
          "output_type": "stream",
          "name": "stdout",
          "text": [
            "5\n"
          ]
        }
      ]
    },
    {
      "cell_type": "code",
      "source": [
        "### 2 Create a lambda function to find the square of a given number."
      ],
      "metadata": {
        "id": "kiUVGr6BB8YP"
      },
      "execution_count": null,
      "outputs": []
    },
    {
      "cell_type": "code",
      "source": [
        "num = lambda x: x**2\n",
        "print(num(5))"
      ],
      "metadata": {
        "colab": {
          "base_uri": "https://localhost:8080/"
        },
        "id": "DAkhPSiaCAZ_",
        "outputId": "4f019dd5-4202-42ed-844d-36f0987efa59"
      },
      "execution_count": 4,
      "outputs": [
        {
          "output_type": "stream",
          "name": "stdout",
          "text": [
            "25\n"
          ]
        }
      ]
    },
    {
      "cell_type": "code",
      "source": [
        "### 3  Write a lambda function to check if a number is even or odd."
      ],
      "metadata": {
        "id": "ICGfTtYQCOdw"
      },
      "execution_count": null,
      "outputs": []
    },
    {
      "cell_type": "code",
      "source": [
        "num = lambda x: \"even\" if x % 2 == 0 else \"odd\"\n",
        "print(num(2))\n"
      ],
      "metadata": {
        "colab": {
          "base_uri": "https://localhost:8080/"
        },
        "id": "27neP6y2CVmr",
        "outputId": "6f8e3fb4-d100-4387-c809-50bbec17b3fd"
      },
      "execution_count": 8,
      "outputs": [
        {
          "output_type": "stream",
          "name": "stdout",
          "text": [
            "even\n"
          ]
        }
      ]
    },
    {
      "cell_type": "code",
      "source": [
        "## 4 . Define a lambda function that returns the larger of two numbers.\n"
      ],
      "metadata": {
        "id": "EU_CBspECr6X"
      },
      "execution_count": null,
      "outputs": []
    },
    {
      "cell_type": "code",
      "source": [
        "num = lambda x,y : x if x >y else y\n",
        "print(num(2,3))"
      ],
      "metadata": {
        "colab": {
          "base_uri": "https://localhost:8080/"
        },
        "id": "iq8fFWvvDRdB",
        "outputId": "b20c321a-bbc1-4aea-e42f-8f00e7f6bfa8"
      },
      "execution_count": 9,
      "outputs": [
        {
          "output_type": "stream",
          "name": "stdout",
          "text": [
            "3\n"
          ]
        }
      ]
    },
    {
      "cell_type": "code",
      "source": [
        "## 5. Use a lambda function to concatenate two strings with a space in between."
      ],
      "metadata": {
        "id": "ziyZRNMMDb-O"
      },
      "execution_count": null,
      "outputs": []
    },
    {
      "cell_type": "code",
      "source": [
        "num = lambda x, y: x + \" \"  + y\n",
        "print(num(\"hello\", \"world\"))"
      ],
      "metadata": {
        "colab": {
          "base_uri": "https://localhost:8080/"
        },
        "id": "A8lfH-KsDgtc",
        "outputId": "46acab7e-b0b1-4e36-e802-77352416a13d"
      },
      "execution_count": 13,
      "outputs": [
        {
          "output_type": "stream",
          "name": "stdout",
          "text": [
            "hello world\n"
          ]
        }
      ]
    },
    {
      "cell_type": "code",
      "source": [
        "## 6. Create a lambda function that takes a number and returns `\"Positive\"` if it is greater than zero, otherwise `\"Negative\"`."
      ],
      "metadata": {
        "id": "5UqwtzIFDzX8"
      },
      "execution_count": null,
      "outputs": []
    },
    {
      "cell_type": "code",
      "source": [
        "num = lambda x: \"Positive\" if x > 0 else \"Negative\"\n",
        "print(num(1))"
      ],
      "metadata": {
        "colab": {
          "base_uri": "https://localhost:8080/"
        },
        "id": "eHvx8d_DEDmH",
        "outputId": "27c424bc-e9b5-4035-ef86-cf54c8f0d051"
      },
      "execution_count": 19,
      "outputs": [
        {
          "output_type": "stream",
          "name": "stdout",
          "text": [
            "Positive\n"
          ]
        }
      ]
    },
    {
      "cell_type": "code",
      "source": [
        "### 8. Use a lambda function inside `filter()` to get only even numbers from a list `[10, 15, 20, 25, 30]`."
      ],
      "metadata": {
        "id": "XfrhVGZQFGjO"
      },
      "execution_count": null,
      "outputs": []
    },
    {
      "cell_type": "code",
      "source": [
        "numbers = [10, 15, 20, 25, 30]\n",
        "even_numbers = filter(lambda x: x % 2 == 0, numbers)\n",
        "print(list(even_numbers))"
      ],
      "metadata": {
        "colab": {
          "base_uri": "https://localhost:8080/"
        },
        "id": "ajbBfFHiFHod",
        "outputId": "a4822a60-c3b6-47b4-a444-396b336a7206"
      },
      "execution_count": 21,
      "outputs": [
        {
          "output_type": "stream",
          "name": "stdout",
          "text": [
            "[10, 20, 30]\n"
          ]
        }
      ]
    },
    {
      "cell_type": "code",
      "source": [
        "### 9 Write a lambda function inside `sorted()` to sort a list of tuples based on the second value: `[(1, 5), (2, 3), (4, 1)]`."
      ],
      "metadata": {
        "id": "LiWvz8n-EfFz"
      },
      "execution_count": null,
      "outputs": []
    },
    {
      "cell_type": "code",
      "source": [
        "num = [(1, 5), (2, 3), (4, 1)]\n",
        "res = sorted(num, key=lambda x: x[1])\n",
        "print(res)"
      ],
      "metadata": {
        "colab": {
          "base_uri": "https://localhost:8080/"
        },
        "id": "NiIxAn-IFj02",
        "outputId": "12eb805a-83d1-453b-a85b-05c7da5b2d96"
      },
      "execution_count": 23,
      "outputs": [
        {
          "output_type": "stream",
          "name": "stdout",
          "text": [
            "[(4, 1), (2, 3), (1, 5)]\n"
          ]
        }
      ]
    },
    {
      "cell_type": "code",
      "source": [
        "### 10. Create a lambda function that returns the length of a given string."
      ],
      "metadata": {
        "id": "TzhaysXPF7xc"
      },
      "execution_count": null,
      "outputs": []
    },
    {
      "cell_type": "code",
      "source": [
        "num = lambda x: len(x)\n",
        "print(num(\"hello\"))"
      ],
      "metadata": {
        "colab": {
          "base_uri": "https://localhost:8080/"
        },
        "id": "pOWJkzpCGGnN",
        "outputId": "cdc03ec0-d4d8-46da-95ee-22407e5312af"
      },
      "execution_count": 26,
      "outputs": [
        {
          "output_type": "stream",
          "name": "stdout",
          "text": [
            "5\n"
          ]
        }
      ]
    },
    {
      "cell_type": "code",
      "source": [],
      "metadata": {
        "id": "bnI7dX_tGN5p"
      },
      "execution_count": null,
      "outputs": []
    }
  ]
}