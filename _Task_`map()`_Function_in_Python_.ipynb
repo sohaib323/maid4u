{
  "nbformat": 4,
  "nbformat_minor": 0,
  "metadata": {
    "colab": {
      "provenance": [],
      "authorship_tag": "ABX9TyPxcezQx071JAeSWi4u2DBt",
      "include_colab_link": true
    },
    "kernelspec": {
      "name": "python3",
      "display_name": "Python 3"
    },
    "language_info": {
      "name": "python"
    }
  },
  "cells": [
    {
      "cell_type": "markdown",
      "metadata": {
        "id": "view-in-github",
        "colab_type": "text"
      },
      "source": [
        "<a href=\"https://colab.research.google.com/github/sohaib323/maid4u/blob/main/_Task_%60map()%60_Function_in_Python_.ipynb\" target=\"_parent\"><img src=\"https://colab.research.google.com/assets/colab-badge.svg\" alt=\"Open In Colab\"/></a>"
      ]
    },
    {
      "cell_type": "code",
      "execution_count": null,
      "metadata": {
        "id": "SuxWTWON6JM4"
      },
      "outputs": [],
      "source": [
        "### **Task: `map()` Function in Python**"
      ]
    },
    {
      "cell_type": "code",
      "source": [
        "### 1. Write a program using `map()` to convert a list of integers `[1, 2, 3, 4, 5]` into their squares."
      ],
      "metadata": {
        "id": "6hhnLKz_6Koy"
      },
      "execution_count": null,
      "outputs": []
    },
    {
      "cell_type": "code",
      "source": [
        "num = [1,2,3,4,5,]\n",
        "result = map(lambda x: x**2,num)\n",
        "print(tuple(result))"
      ],
      "metadata": {
        "colab": {
          "base_uri": "https://localhost:8080/"
        },
        "id": "gUdlp0X86N8x",
        "outputId": "eeb28cb5-b2e3-4375-fdcd-5ba122464757"
      },
      "execution_count": 6,
      "outputs": [
        {
          "output_type": "stream",
          "name": "stdout",
          "text": [
            "(1, 4, 9, 16, 25)\n"
          ]
        }
      ]
    },
    {
      "cell_type": "code",
      "source": [
        "### 2. Use `map()` to convert a list of temperatures in Celsius `[0, 10, 20, 30, 40]` to Fahrenheit."
      ],
      "metadata": {
        "id": "erkZEGGt6c-H"
      },
      "execution_count": null,
      "outputs": []
    },
    {
      "cell_type": "code",
      "source": [
        "\n",
        "celsius = [0, 10, 20, 30, 40]\n",
        "\n",
        "fahrenheit = list(map(lambda c: (c * 9/5) + 32, celsius))\n",
        "\n",
        "print(fahrenheit)\n"
      ],
      "metadata": {
        "colab": {
          "base_uri": "https://localhost:8080/"
        },
        "id": "WgD67-NA6g4J",
        "outputId": "49d877a0-85d9-4458-d5bb-ee0b19153235"
      },
      "execution_count": 9,
      "outputs": [
        {
          "output_type": "stream",
          "name": "stdout",
          "text": [
            "[32.0, 50.0, 68.0, 86.0, 104.0]\n"
          ]
        }
      ]
    },
    {
      "cell_type": "code",
      "source": [
        "## 3. Given a list of names `[\"alice\", \"bob\", \"charlie\"]`, use `map()` to capitalize each name."
      ],
      "metadata": {
        "id": "jJQPWEoh7LKP"
      },
      "execution_count": null,
      "outputs": []
    },
    {
      "cell_type": "code",
      "source": [
        "name = ['alice','bob','charlie']\n",
        "res = map(lambda x: x.upper(),name)\n",
        "print(tuple(res))"
      ],
      "metadata": {
        "colab": {
          "base_uri": "https://localhost:8080/"
        },
        "id": "UCQfAt6g7YwG",
        "outputId": "c2efea4e-47fd-4012-af1a-9fb768fad246"
      },
      "execution_count": 10,
      "outputs": [
        {
          "output_type": "stream",
          "name": "stdout",
          "text": [
            "('ALICE', 'BOB', 'CHARLIE')\n"
          ]
        }
      ]
    },
    {
      "cell_type": "code",
      "source": [
        "### 4 ite a program using `map()` to convert a list of numbers `[1, 2, 3, 4, 5]` into their string representations."
      ],
      "metadata": {
        "id": "UF4UhQ7s7ltd"
      },
      "execution_count": null,
      "outputs": []
    },
    {
      "cell_type": "code",
      "source": [
        "num = [1,2,3,4,5]\n",
        "res = map(lambda x: str(x),num)\n",
        "print(tuple(res))"
      ],
      "metadata": {
        "colab": {
          "base_uri": "https://localhost:8080/"
        },
        "id": "xL4xxUsZ7pZV",
        "outputId": "4a89808a-42e4-4950-a631-cbd362a84b6c"
      },
      "execution_count": 11,
      "outputs": [
        {
          "output_type": "stream",
          "name": "stdout",
          "text": [
            "('1', '2', '3', '4', '5')\n"
          ]
        }
      ]
    },
    {
      "cell_type": "code",
      "source": [
        "### 5 . Use `map()` to add corresponding elements of two lists `[1, 2, 3]` and `[4, 5, 6]`."
      ],
      "metadata": {
        "id": "ldXcxPXc74Hu"
      },
      "execution_count": null,
      "outputs": []
    },
    {
      "cell_type": "code",
      "source": [
        "num =[1,2,3]\n",
        "num1 = [4,5,6]\n",
        "res = map(lambda x,y: x+y,num,num1)\n",
        "print(tuple(res))"
      ],
      "metadata": {
        "colab": {
          "base_uri": "https://localhost:8080/"
        },
        "id": "Lj43TrFj8QO9",
        "outputId": "239b79a6-db4e-409a-d259-23c675831b54"
      },
      "execution_count": 21,
      "outputs": [
        {
          "output_type": "stream",
          "name": "stdout",
          "text": [
            "(5, 7, 9)\n"
          ]
        }
      ]
    },
    {
      "cell_type": "code",
      "source": [
        "## 6 Write a program that uses `map()` with `lambda` to multiply each element in a list `[2, 4, 6, 8]` by 3."
      ],
      "metadata": {
        "id": "J97x1UG89Dsm"
      },
      "execution_count": null,
      "outputs": []
    },
    {
      "cell_type": "code",
      "source": [
        "num =[2,4,6,8]\n",
        "res = map(lambda x: x*2, num)\n",
        "print(list(res))"
      ],
      "metadata": {
        "colab": {
          "base_uri": "https://localhost:8080/"
        },
        "id": "vcBBG0j39LBU",
        "outputId": "dd98e954-482f-41d6-bd69-662780218a36"
      },
      "execution_count": 22,
      "outputs": [
        {
          "output_type": "stream",
          "name": "stdout",
          "text": [
            "[4, 8, 12, 16]\n"
          ]
        }
      ]
    },
    {
      "cell_type": "code",
      "source": [
        "### 7 Convert a list of words `[\"hello\", \"world\", \"python\"]` into their lengths using `map()`."
      ],
      "metadata": {
        "id": "7455EOob9YJ6"
      },
      "execution_count": null,
      "outputs": []
    },
    {
      "cell_type": "code",
      "source": [
        "name = [\"hello\", \"world\", \"python\"]\n",
        "res = map(lambda x: len(x),name)\n",
        "print(tuple(res))"
      ],
      "metadata": {
        "colab": {
          "base_uri": "https://localhost:8080/"
        },
        "id": "Tsm8vebo9guo",
        "outputId": "31a815b1-b053-409e-87db-ac228eb1ea9b"
      },
      "execution_count": 23,
      "outputs": [
        {
          "output_type": "stream",
          "name": "stdout",
          "text": [
            "(5, 5, 6)\n"
          ]
        }
      ]
    },
    {
      "cell_type": "code",
      "source": [],
      "metadata": {
        "id": "hIjMAqNx9urw"
      },
      "execution_count": null,
      "outputs": []
    },
    {
      "cell_type": "code",
      "source": [
        "## 8. Given a list of mixed data types `[1, \"2\", \"three\", 4, \"5\"]`, use `map()` to convert only numeric values to integers."
      ],
      "metadata": {
        "id": "3gSB_oAD9voe"
      },
      "execution_count": null,
      "outputs": []
    },
    {
      "cell_type": "code",
      "source": [
        "num = [1, \"2\", \"three\", 4, \"5\"]\n",
        "res = map(lambda x: int(x) if isinstance(x, str) and x.isdigit() else x,num)\n",
        "print(list(res))\n"
      ],
      "metadata": {
        "colab": {
          "base_uri": "https://localhost:8080/"
        },
        "id": "kHgnFm4w91iv",
        "outputId": "0717dd08-c09f-4941-9694-498cfe8ced75"
      },
      "execution_count": 32,
      "outputs": [
        {
          "output_type": "stream",
          "name": "stdout",
          "text": [
            "[1, 2, 'three', 4, 5]\n"
          ]
        }
      ]
    },
    {
      "cell_type": "code",
      "source": [
        "## 9. Use `map()` to compute the cube of each number in a list `[1, 2, 3, 4, 5]`"
      ],
      "metadata": {
        "id": "JiKcT319-JrL"
      },
      "execution_count": null,
      "outputs": []
    },
    {
      "cell_type": "code",
      "source": [
        "num = [1,2,3,4,5]\n",
        "res = map(lambda x: x**2 ,num)\n",
        "print(tuple(res))"
      ],
      "metadata": {
        "colab": {
          "base_uri": "https://localhost:8080/"
        },
        "id": "aA0kZV3K_xpz",
        "outputId": "d9c0cd58-a1cf-4325-853b-00cf5a9d6d3c"
      },
      "execution_count": 33,
      "outputs": [
        {
          "output_type": "stream",
          "name": "stdout",
          "text": [
            "(1, 4, 9, 16, 25)\n"
          ]
        }
      ]
    },
    {
      "cell_type": "code",
      "source": [
        "###  10. Write a function that takes a sentence and uses `map()` to convert each word to uppercase."
      ],
      "metadata": {
        "id": "oNQM8ZKSAx_i"
      },
      "execution_count": null,
      "outputs": []
    },
    {
      "cell_type": "code",
      "source": [
        "words = ['apple','mango',\"orange\"]\n",
        "res = map(lambda x: x.upper(),words)\n",
        "print(tuple(res))"
      ],
      "metadata": {
        "colab": {
          "base_uri": "https://localhost:8080/"
        },
        "id": "vjPR70mCA4Pb",
        "outputId": "eccce3fd-1123-43b2-b2a8-fb26412bc05f"
      },
      "execution_count": 35,
      "outputs": [
        {
          "output_type": "stream",
          "name": "stdout",
          "text": [
            "('APPLE', 'MANGO', 'ORANGE')\n"
          ]
        }
      ]
    },
    {
      "cell_type": "code",
      "source": [],
      "metadata": {
        "id": "E0gL9UzoBHRq"
      },
      "execution_count": null,
      "outputs": []
    }
  ]
}