{
  "nbformat": 4,
  "nbformat_minor": 0,
  "metadata": {
    "colab": {
      "provenance": [],
      "authorship_tag": "ABX9TyPoBjYBZZcaqAN+LvYxI1cH",
      "include_colab_link": true
    },
    "kernelspec": {
      "name": "python3",
      "display_name": "Python 3"
    },
    "language_info": {
      "name": "python"
    }
  },
  "cells": [
    {
      "cell_type": "markdown",
      "metadata": {
        "id": "view-in-github",
        "colab_type": "text"
      },
      "source": [
        "<a href=\"https://colab.research.google.com/github/sohaib323/maid4u/blob/main/_Task_%60reduce()%60_Function_in_Python_.ipynb\" target=\"_parent\"><img src=\"https://colab.research.google.com/assets/colab-badge.svg\" alt=\"Open In Colab\"/></a>"
      ]
    },
    {
      "cell_type": "code",
      "execution_count": null,
      "metadata": {
        "id": "CvpWgFRJhIQX"
      },
      "outputs": [],
      "source": [
        "### **Task: `reduce()` Function in Python**"
      ]
    },
    {
      "cell_type": "code",
      "source": [
        "## 1. Write a program using `reduce()` to calculate the sum of all numbers in a list `[10, 20, 30, 40, 50]`."
      ],
      "metadata": {
        "id": "QZt4xOv8hMxE"
      },
      "execution_count": null,
      "outputs": []
    },
    {
      "cell_type": "code",
      "source": [
        "\n",
        "num =[10, 20, 30, 40, 50]\n",
        "count =reduce(lambda x,y:x+y,num)\n",
        "print(count)"
      ],
      "metadata": {
        "colab": {
          "base_uri": "https://localhost:8080/"
        },
        "id": "2-MOInJrhWmR",
        "outputId": "69f89bf6-92e1-4047-c46b-65a668789ee1"
      },
      "execution_count": 9,
      "outputs": [
        {
          "output_type": "stream",
          "name": "stdout",
          "text": [
            "150\n"
          ]
        }
      ]
    },
    {
      "cell_type": "code",
      "source": [
        "## 2. Use `reduce()` to find the maximum number in the list `[12, 45, 78, 34, 89, 23]`.\n",
        "\n",
        "\n",
        "num =[12, 45, 78, 34, 89, 23]\n",
        "count = reduce(lambda x,y: x if x>y else y,num)\n",
        "print(count)"
      ],
      "metadata": {
        "colab": {
          "base_uri": "https://localhost:8080/"
        },
        "id": "0K3Zm4wUhdWs",
        "outputId": "fdb1a3dc-40e2-4ec9-93cd-97f494801afd"
      },
      "execution_count": 12,
      "outputs": [
        {
          "output_type": "stream",
          "name": "stdout",
          "text": [
            "89\n"
          ]
        }
      ]
    },
    {
      "cell_type": "code",
      "source": [
        "## 3. Write a program that uses `reduce()` to multiply all elements in `[2, 3, 5, 7]`.\n",
        "num = [2, 3, 5, 7]\n",
        "count =reduce(lambda x,y: x*y,num)\n",
        "print(count)"
      ],
      "metadata": {
        "colab": {
          "base_uri": "https://localhost:8080/"
        },
        "id": "ZeKTjKABiM99",
        "outputId": "ebca9651-fa18-4066-bf45-05d26f13606d"
      },
      "execution_count": 13,
      "outputs": [
        {
          "output_type": "stream",
          "name": "stdout",
          "text": [
            "210\n"
          ]
        }
      ]
    },
    {
      "cell_type": "code",
      "source": [
        "## 4. Use `reduce()` to concatenate all strings in `[\"Hello\", \" \", \"World\", \"!\"]`."
      ],
      "metadata": {
        "id": "skRLHsDLirD3"
      },
      "execution_count": null,
      "outputs": []
    },
    {
      "cell_type": "code",
      "source": [
        "name =[\"Hello\", \" \", \"World\", \"!\"]\n",
        "count =reduce(lambda x,y: x+y,name)\n",
        "print(count)"
      ],
      "metadata": {
        "colab": {
          "base_uri": "https://localhost:8080/"
        },
        "id": "U5Uvz7-Uiu6U",
        "outputId": "1b49b7d3-84de-49e2-df74-4f8726ecb41e"
      },
      "execution_count": 14,
      "outputs": [
        {
          "output_type": "stream",
          "name": "stdout",
          "text": [
            "Hello World!\n"
          ]
        }
      ]
    },
    {
      "cell_type": "code",
      "source": [
        "## 5. Given a list `[3, 6, 9, 12, 15]`, use `reduce()` to find the greatest common divisor (GCD)."
      ],
      "metadata": {
        "id": "Q0Jiu3dDi86K"
      },
      "execution_count": null,
      "outputs": []
    },
    {
      "cell_type": "code",
      "source": [
        "num =[3, 6, 9, 12, 15]\n",
        "count =reduce(lambda x,y: x if x>y else y,num)\n",
        "print(count)"
      ],
      "metadata": {
        "colab": {
          "base_uri": "https://localhost:8080/"
        },
        "id": "-Y303UtcjC_e",
        "outputId": "a5944adc-b890-4d2a-862a-c04dbe1349d8"
      },
      "execution_count": 15,
      "outputs": [
        {
          "output_type": "stream",
          "name": "stdout",
          "text": [
            "15\n"
          ]
        }
      ]
    },
    {
      "cell_type": "code",
      "source": [
        "## 6. Write a program using `reduce()` to compute the factorial of `5` using the list `[1, 2, 3, 4, 5]`."
      ],
      "metadata": {
        "id": "z2m353eNjRVM"
      },
      "execution_count": null,
      "outputs": []
    },
    {
      "cell_type": "code",
      "source": [
        "num = [1, 2, 3, 4, 5]\n",
        "count =reduce(lambda x,y: x*y,num)\n",
        "print(count)"
      ],
      "metadata": {
        "colab": {
          "base_uri": "https://localhost:8080/"
        },
        "id": "-VRm8gYkjUcM",
        "outputId": "dccd5b94-70b4-4f7b-b759-0a1f8a4517eb"
      },
      "execution_count": 16,
      "outputs": [
        {
          "output_type": "stream",
          "name": "stdout",
          "text": [
            "120\n"
          ]
        }
      ]
    },
    {
      "cell_type": "code",
      "source": [
        "## 7. Use `reduce()` to calculate the product of all even numbers in `[1, 2, 3, 4, 5, 6, 8, 10]`."
      ],
      "metadata": {
        "id": "f-RW1EJqjhJ4"
      },
      "execution_count": null,
      "outputs": []
    },
    {
      "cell_type": "code",
      "source": [
        "\n",
        "\n",
        "numbers = [1, 2, 3, 4, 5, 6, 8, 10]\n",
        "even_numbers = [number for number in numbers if number % 2 == 0]\n",
        "product = reduce(lambda x, y: x +y, even_numbers)\n",
        "\n",
        "print(product)\n",
        "\n"
      ],
      "metadata": {
        "colab": {
          "base_uri": "https://localhost:8080/"
        },
        "id": "vgH_Wzqljrfa",
        "outputId": "a70a9bad-37a9-4e08-85f4-9ed990a76e3f"
      },
      "execution_count": 35,
      "outputs": [
        {
          "output_type": "stream",
          "name": "stdout",
          "text": [
            "30\n"
          ]
        }
      ]
    },
    {
      "cell_type": "code",
      "source": [
        "## 8. Write a function using `reduce()` to compute the sum of squares of `[2, 4, 6, 8]`."
      ],
      "metadata": {
        "id": "hY09PxaHj-s4"
      },
      "execution_count": null,
      "outputs": []
    },
    {
      "cell_type": "code",
      "source": [
        "num = [2, 4, 6, 8]\n",
        "subbu =map(lambda x: x**2,num)\n",
        "count =reduce(lambda x,y: x+y,subbu)\n",
        "print(count)"
      ],
      "metadata": {
        "colab": {
          "base_uri": "https://localhost:8080/"
        },
        "id": "Vkh3MwPLmpbr",
        "outputId": "b2c461ba-f894-4342-c4bd-1cd997833065"
      },
      "execution_count": 38,
      "outputs": [
        {
          "output_type": "stream",
          "name": "stdout",
          "text": [
            "120\n"
          ]
        }
      ]
    },
    {
      "cell_type": "code",
      "source": [
        "### 9. Use `reduce()` to find the longest word in `[\"apple\", \"banana\", \"cherry\", \"avocado\"]`."
      ],
      "metadata": {
        "id": "Dmls-1BknNxb"
      },
      "execution_count": null,
      "outputs": []
    },
    {
      "cell_type": "code",
      "source": [
        "from functools import reduce\n",
        "\n",
        "words = [\"apple\", \"banana\", \"cherry\", \"avocado\"]\n",
        "longest_word = reduce(lambda a,b: a if len(a)>len(b) else b ,words)\n",
        "print(longest_word)\n"
      ],
      "metadata": {
        "colab": {
          "base_uri": "https://localhost:8080/"
        },
        "id": "tRcs_1sGnu87",
        "outputId": "69de8547-16e2-493c-be16-1ea76f4d2093"
      },
      "execution_count": 40,
      "outputs": [
        {
          "output_type": "stream",
          "name": "stdout",
          "text": [
            "avocado\n"
          ]
        }
      ]
    },
    {
      "cell_type": "code",
      "source": [
        "### 10. Given a list `[100, 50, 25, 5]`, use `reduce()` to perform a **cumulative division** (i.e., `100 / 50 / 25 / 5`)."
      ],
      "metadata": {
        "id": "1qR131PWoe55"
      },
      "execution_count": null,
      "outputs": []
    },
    {
      "cell_type": "code",
      "source": [
        "count =[100, 50, 25, 5]\n",
        "subbu1 =reduce(lambda x,y: x/y,count)\n",
        "print(subbu1)"
      ],
      "metadata": {
        "colab": {
          "base_uri": "https://localhost:8080/"
        },
        "id": "ZclMstR9pPTi",
        "outputId": "6cbe0783-0573-48f1-cce3-10fdbb4c92fb"
      },
      "execution_count": 41,
      "outputs": [
        {
          "output_type": "stream",
          "name": "stdout",
          "text": [
            "0.016\n"
          ]
        }
      ]
    },
    {
      "cell_type": "code",
      "source": [],
      "metadata": {
        "id": "vLFNy_4YpgFk"
      },
      "execution_count": null,
      "outputs": []
    }
  ]
}