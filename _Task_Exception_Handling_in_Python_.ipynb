{
  "nbformat": 4,
  "nbformat_minor": 0,
  "metadata": {
    "colab": {
      "provenance": [],
      "authorship_tag": "ABX9TyPtYaq5L3VzqVMVPztSQTY4",
      "include_colab_link": true
    },
    "kernelspec": {
      "name": "python3",
      "display_name": "Python 3"
    },
    "language_info": {
      "name": "python"
    }
  },
  "cells": [
    {
      "cell_type": "markdown",
      "metadata": {
        "id": "view-in-github",
        "colab_type": "text"
      },
      "source": [
        "<a href=\"https://colab.research.google.com/github/sohaib323/maid4u/blob/main/_Task_Exception_Handling_in_Python_.ipynb\" target=\"_parent\"><img src=\"https://colab.research.google.com/assets/colab-badge.svg\" alt=\"Open In Colab\"/></a>"
      ]
    },
    {
      "cell_type": "markdown",
      "source": [],
      "metadata": {
        "id": "1hyaWWUuL42g"
      }
    },
    {
      "cell_type": "code",
      "execution_count": null,
      "metadata": {
        "id": "KVGOjZrTLv5d"
      },
      "outputs": [],
      "source": [
        "## ### **Task: Exception Handling in Python**\n"
      ]
    },
    {
      "cell_type": "code",
      "source": [
        "## 1. Write a program that handles a `ZeroDivisionError` when dividing a number by zero.\n",
        "try:\n",
        " NUM = 10/0\n",
        "except ZeroDivisionError:\n",
        "\n",
        "\n",
        " print('CANT DIVIDE BY ZERO')"
      ],
      "metadata": {
        "colab": {
          "base_uri": "https://localhost:8080/"
        },
        "id": "IRwz0nQzL0Mx",
        "outputId": "8afa4f60-a96c-4ceb-ed6f-9f640aea0ec4"
      },
      "execution_count": 6,
      "outputs": [
        {
          "output_type": "stream",
          "name": "stdout",
          "text": [
            "CANT DIVIDE BY ZERO\n"
          ]
        }
      ]
    },
    {
      "cell_type": "code",
      "source": [
        "## 2. Create a program that asks the user for a number and handles a `ValueError` if the input is not a valid integer."
      ],
      "metadata": {
        "id": "2wxfgcL1MB6T"
      },
      "execution_count": null,
      "outputs": []
    },
    {
      "cell_type": "code",
      "source": [
        "try:\n",
        "  NUM = int(\"enter a text\")\n",
        "except ValueError:\n",
        " print(\"this is text\")\n"
      ],
      "metadata": {
        "colab": {
          "base_uri": "https://localhost:8080/"
        },
        "id": "ZxmN1FPjNCqN",
        "outputId": "f44a4bef-30b2-4082-eed0-51b316078156"
      },
      "execution_count": 7,
      "outputs": [
        {
          "output_type": "stream",
          "name": "stdout",
          "text": [
            "this is text\n"
          ]
        }
      ]
    },
    {
      "cell_type": "code",
      "source": [
        "## 33. Write a program that tries to open a file `\"data.txt\"`, handles a `FileNotFoundError` if the file does not exist, and prints `\"File not found!\"`."
      ],
      "metadata": {
        "id": "xfb0xkACNYtA"
      },
      "execution_count": null,
      "outputs": []
    },
    {
      "cell_type": "code",
      "source": [
        "try:\n",
        "  file = open(\"data.text\")\n",
        "  content = file.read()\n",
        "except FileNotFoundError:\n",
        "    print(\"file not found\")\n"
      ],
      "metadata": {
        "colab": {
          "base_uri": "https://localhost:8080/"
        },
        "id": "-oQrYZaYNjPB",
        "outputId": "5b8d921c-489a-476a-dc1c-59e925b6ca0f"
      },
      "execution_count": 11,
      "outputs": [
        {
          "output_type": "stream",
          "name": "stdout",
          "text": [
            "file not found\n"
          ]
        }
      ]
    },
    {
      "cell_type": "code",
      "source": [
        "## 4. Implement a `try-except` block that catches a `TypeError` when adding a string and an integer."
      ],
      "metadata": {
        "id": "j-zQtxnVOBBW"
      },
      "execution_count": null,
      "outputs": []
    },
    {
      "cell_type": "code",
      "source": [
        "try:\n",
        "  name = \"10\" + 10\n",
        "except TypeError:\n",
        "  print(\"there is type error kindly write here correct word\")"
      ],
      "metadata": {
        "colab": {
          "base_uri": "https://localhost:8080/"
        },
        "id": "hPrkXfGHOKFK",
        "outputId": "5eca97c7-31e0-4af2-cdaa-32d97a1323de"
      },
      "execution_count": 15,
      "outputs": [
        {
          "output_type": "stream",
          "name": "stdout",
          "text": [
            "there is type error kindly write here correct word\n"
          ]
        }
      ]
    },
    {
      "cell_type": "code",
      "source": [
        "## 5. Create a dictionary and attempt to access a key that does not exist, handling the `KeyError`."
      ],
      "metadata": {
        "id": "rs5EPT15OidK"
      },
      "execution_count": null,
      "outputs": []
    },
    {
      "cell_type": "code",
      "source": [
        "my_dict = {\"name\": \"Alice\", \"age\": 30}\n",
        "\n",
        "try:\n",
        "    value = my_dict[\"city\"]  # This key doesn't exist\n",
        "except KeyError as e:\n",
        "    print(f\"KeyError caught: The key '{e.args[0]}' is not in the dictionary.\")\n"
      ],
      "metadata": {
        "colab": {
          "base_uri": "https://localhost:8080/"
        },
        "id": "HEOva7CUPaFA",
        "outputId": "cb8af703-86eb-4f32-841a-9977f5327b29"
      },
      "execution_count": 16,
      "outputs": [
        {
          "output_type": "stream",
          "name": "stdout",
          "text": [
            "KeyError caught: The key 'city' is not in the dictionary.\n"
          ]
        }
      ]
    },
    {
      "cell_type": "code",
      "source": [
        "try :\n",
        "  name = {\"name\":\"sohaib\",\"surname\":\"khan\"}\n",
        "\n",
        "  value =name[\"kunal\"]\n",
        "\n",
        "\n",
        "\n",
        "except KeyError:\n",
        "\n",
        "  print(\"there is key error found\")\n"
      ],
      "metadata": {
        "colab": {
          "base_uri": "https://localhost:8080/"
        },
        "id": "gmgwON08O6Ol",
        "outputId": "4c6c7bfa-1654-4000-8750-3f8b0b2ee891"
      },
      "execution_count": 24,
      "outputs": [
        {
          "output_type": "stream",
          "name": "stdout",
          "text": [
            "there is key error found\n"
          ]
        }
      ]
    },
    {
      "cell_type": "code",
      "source": [
        "## 6. Use a `try-except-else` structure where the `else` block prints `\"No error occurred\"` if no exceptions happen.\n",
        "\n"
      ],
      "metadata": {
        "id": "GFnoaNHOQBzO"
      },
      "execution_count": null,
      "outputs": []
    },
    {
      "cell_type": "code",
      "source": [
        "try :\n",
        "  name = {\"name\":\"sohaib\",\"surname\":\"khan\"}\n",
        "except TypeError:\n",
        "  print(\"there is type error\")\n",
        "else:\n",
        "  print(\"no error dictionary is ok\")"
      ],
      "metadata": {
        "colab": {
          "base_uri": "https://localhost:8080/"
        },
        "id": "Sb4ll2ujRF_2",
        "outputId": "8e8650c3-1c59-4a51-ccab-1d87e0619ffd"
      },
      "execution_count": 25,
      "outputs": [
        {
          "output_type": "stream",
          "name": "stdout",
          "text": [
            "no error dictionary is ok\n"
          ]
        }
      ]
    },
    {
      "cell_type": "code",
      "source": [
        "## 7. Write a `try-except-finally` block where the `finally` block prints `\"Execution complete\"` whether an exception occurs or not."
      ],
      "metadata": {
        "id": "HrnayyP3R0Jp"
      },
      "execution_count": null,
      "outputs": []
    },
    {
      "cell_type": "code",
      "source": [
        "try:\n",
        "    name = {\"name\": \"sohaib\", \"surname\": \"khan\"}\n",
        "    result = name + 5  # This will raise a TypeError\n",
        "except TypeError:\n",
        "    print(\"There is a TypeError!\")\n",
        "else:\n",
        "    print(\"No error, the dictionary is okay.\")\n"
      ],
      "metadata": {
        "colab": {
          "base_uri": "https://localhost:8080/"
        },
        "id": "jug5Ox1pR3t6",
        "outputId": "e5099eb4-eb53-425b-d285-9fabc60e6614"
      },
      "execution_count": 26,
      "outputs": [
        {
          "output_type": "stream",
          "name": "stdout",
          "text": [
            "There is a TypeError!\n"
          ]
        }
      ]
    },
    {
      "cell_type": "code",
      "source": [
        "## 8. Create a program that asks the user for an index and safely accesses a list element, handling an `IndexError`.  try:\n",
        "try:\n",
        " num= [10,11,15,20]\n",
        " print(num[10])\n",
        "except IndexError:\n",
        " print(\"there is index error\")"
      ],
      "metadata": {
        "colab": {
          "base_uri": "https://localhost:8080/"
        },
        "id": "RFeNi0C5Sa6e",
        "outputId": "ba45a4bf-4ccd-4b5d-8f39-c184f7f6c744"
      },
      "execution_count": 31,
      "outputs": [
        {
          "output_type": "stream",
          "name": "stdout",
          "text": [
            "there is index error\n"
          ]
        }
      ]
    },
    {
      "cell_type": "code",
      "source": [
        "## 9. Write a function that catches any general exception using `except Exception as e:` and prints the error message."
      ],
      "metadata": {
        "id": "VfYxOZc6TGfo"
      },
      "execution_count": null,
      "outputs": []
    },
    {
      "cell_type": "code",
      "source": [
        "try:\n",
        "    name = {\"name\": \"sohaib\", \"surname\": \"khan\"}\n",
        "    result = name + 5  # This will raise a TypeError\n",
        "except Exception as e:\n",
        "    print(\"exception error we found\")\n",
        "else:\n",
        "    print(\"No error, the dictionary is okay.\")"
      ],
      "metadata": {
        "colab": {
          "base_uri": "https://localhost:8080/"
        },
        "id": "tWdfmxY8TtXP",
        "outputId": "20efc728-1b8b-4ae7-ea4d-0eb206962d49"
      },
      "execution_count": 34,
      "outputs": [
        {
          "output_type": "stream",
          "name": "stdout",
          "text": [
            "exception error we found\n"
          ]
        }
      ]
    },
    {
      "cell_type": "code",
      "source": [
        "## 10. Implement nested exception handling where an outer `try-except` block catches errors that the inner `try-except` block does not handle.\n",
        "try:\n",
        "    # Attempt to access a key that might not exist\n",
        "    name = {\"name\": \"sohaib\", \"surname\": \"khan\"}\n",
        "    value = name[\"kunal\"]\n",
        "except KeyError:\n",
        "    print(\"there is key error found\")\n",
        "\n",
        "try:\n",
        "    # Attempt a division by zero\n",
        "    num = 10 / 0\n",
        "except ZeroDivisionError:\n",
        "    print(\"cant divide by zero\")\n",
        "\n",
        ""
      ],
      "metadata": {
        "colab": {
          "base_uri": "https://localhost:8080/"
        },
        "id": "y8mEjzruUHLI",
        "outputId": "bc6ccc39-47b0-42d6-f259-63e141395ff0"
      },
      "execution_count": 38,
      "outputs": [
        {
          "output_type": "stream",
          "name": "stdout",
          "text": [
            "there is key error found\n",
            "cant divide by zero\n"
          ]
        }
      ]
    },
    {
      "cell_type": "code",
      "source": [],
      "metadata": {
        "id": "qU_YKWPJVZSV"
      },
      "execution_count": null,
      "outputs": []
    }
  ]
}