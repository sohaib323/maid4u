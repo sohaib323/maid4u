{
  "nbformat": 4,
  "nbformat_minor": 0,
  "metadata": {
    "colab": {
      "provenance": [],
      "authorship_tag": "ABX9TyMn8ctWdr2z2pNhCHuR2DIl",
      "include_colab_link": true
    },
    "kernelspec": {
      "name": "python3",
      "display_name": "Python 3"
    },
    "language_info": {
      "name": "python"
    }
  },
  "cells": [
    {
      "cell_type": "markdown",
      "metadata": {
        "id": "view-in-github",
        "colab_type": "text"
      },
      "source": [
        "<a href=\"https://colab.research.google.com/github/sohaib323/maid4u/blob/main/python_dictionary.ipynb\" target=\"_parent\"><img src=\"https://colab.research.google.com/assets/colab-badge.svg\" alt=\"Open In Colab\"/></a>"
      ]
    },
    {
      "cell_type": "code",
      "execution_count": null,
      "metadata": {
        "colab": {
          "base_uri": "https://localhost:8080/"
        },
        "id": "6ijW-C8C1-OI",
        "outputId": "4ef67b01-5af0-4078-805e-373e5df601d8"
      },
      "outputs": [
        {
          "output_type": "stream",
          "name": "stdout",
          "text": [
            "dict_keys(['name', 'age', 'grade'])\n"
          ]
        }
      ],
      "source": [
        "## question 1. with all functions of dictionary\n",
        "#### Create a dictionary `student` with keys `\"name\"`, `\"age\"`, and `\"grade\"` and print it.\n",
        "\n",
        "\n",
        "student = {\n",
        "    \"name\": [\"sohaib\",\"khan\",\"akram\",\"hussain\"],\n",
        "    'age':[78,45,65,24],\n",
        "    'grade': [\"a+\",\"b\",\"c\",\"d\"],\n",
        "\n",
        "}\n",
        "print(student.keys())"
      ]
    },
    {
      "cell_type": "code",
      "source": [
        "print(student.get('name'))"
      ],
      "metadata": {
        "colab": {
          "base_uri": "https://localhost:8080/"
        },
        "id": "xaUZscht2yDq",
        "outputId": "cc2b1e04-e8d8-4cf6-cfb2-b778da9dd78b"
      },
      "execution_count": null,
      "outputs": [
        {
          "output_type": "stream",
          "name": "stdout",
          "text": [
            "['sohaib', 'khan', 'akram', 'hussain']\n"
          ]
        }
      ]
    },
    {
      "cell_type": "code",
      "source": [
        "print(student.items())"
      ],
      "metadata": {
        "colab": {
          "base_uri": "https://localhost:8080/"
        },
        "id": "yPUKbSE33F6I",
        "outputId": "df7e05fd-abeb-4bc0-ff5a-53388f175ed2"
      },
      "execution_count": null,
      "outputs": [
        {
          "output_type": "stream",
          "name": "stdout",
          "text": [
            "dict_items([('name', ['sohaib', 'khan', 'akram', 'hussain']), ('age', [78, 45, 65, 24]), ('grade', ['a+', 'b', 'c', 'd'])])\n"
          ]
        }
      ]
    },
    {
      "cell_type": "code",
      "source": [
        "print(student.pop(\"grade\"))"
      ],
      "metadata": {
        "colab": {
          "base_uri": "https://localhost:8080/"
        },
        "id": "pBfG-K-V3Ios",
        "outputId": "9ff9cc60-c384-43f1-b3cd-92ad64c66aee"
      },
      "execution_count": null,
      "outputs": [
        {
          "output_type": "stream",
          "name": "stdout",
          "text": [
            "['a+', 'b', 'c', 'd']\n"
          ]
        }
      ]
    },
    {
      "cell_type": "code",
      "source": [
        "print(student)"
      ],
      "metadata": {
        "colab": {
          "base_uri": "https://localhost:8080/"
        },
        "id": "4vSEWcUH3meH",
        "outputId": "6998f61c-b063-4c66-db39-f55508f5576d"
      },
      "execution_count": null,
      "outputs": [
        {
          "output_type": "stream",
          "name": "stdout",
          "text": [
            "{'name': ['sohaib', 'khan', 'akram', 'hussain'], 'age': [78, 45, 65, 24]}\n"
          ]
        }
      ]
    },
    {
      "cell_type": "code",
      "source": [
        "del student[\"age\"]"
      ],
      "metadata": {
        "id": "hpV-Z0zc3qVw"
      },
      "execution_count": null,
      "outputs": []
    },
    {
      "cell_type": "code",
      "source": [
        "print(student)"
      ],
      "metadata": {
        "colab": {
          "base_uri": "https://localhost:8080/"
        },
        "id": "L7XkWSSI3uUI",
        "outputId": "f950e95f-bf63-43eb-f5ca-08db792b7fe5"
      },
      "execution_count": null,
      "outputs": [
        {
          "output_type": "stream",
          "name": "stdout",
          "text": [
            "{'name': ['sohaib', 'khan', 'akram', 'hussain']}\n"
          ]
        }
      ]
    },
    {
      "cell_type": "code",
      "source": [
        "### question 2. Access and print the value of the `\"name\"` key from the `student` dictionary.\n",
        "\n",
        "student = {\n",
        "    \"name\": [\"sohaib\",\"khan\",\"akram\",\"hussain\"],\n",
        "    'age':[78,45,65,24],\n",
        "    'grade': [\"a+\",\"b\",\"c\",\"d\"],\n",
        "\n",
        "}\n",
        "print(student.get(\"name\"))\n",
        "\n"
      ],
      "metadata": {
        "colab": {
          "base_uri": "https://localhost:8080/"
        },
        "id": "_ONrf2gD3w2S",
        "outputId": "d9d26f9f-8800-4cbf-af04-9f09fa5c5f63"
      },
      "execution_count": null,
      "outputs": [
        {
          "output_type": "stream",
          "name": "stdout",
          "text": [
            "['sohaib', 'khan', 'akram', 'hussain']\n"
          ]
        }
      ]
    },
    {
      "cell_type": "code",
      "source": [],
      "metadata": {
        "colab": {
          "base_uri": "https://localhost:8080/"
        },
        "id": "TlyIeVvt3___",
        "outputId": "99c013a9-ca9f-45ed-f0c4-cb06c8dd1793"
      },
      "execution_count": null,
      "outputs": [
        {
          "output_type": "stream",
          "name": "stdout",
          "text": [
            "dict_items([('name', ['sohaib', 'khan', 'akram', 'hussain']), ('age', [78, 45, 65, 24]), ('grade', ['a+', 'b', 'c', 'd'])])\n"
          ]
        }
      ]
    },
    {
      "cell_type": "code",
      "source": [
        "### question 3. Use the `get()` method to access the `\"age\"` key safely and print its value.\n",
        "\n",
        "\n",
        "student = {\n",
        "    \"name\": [\"sohaib\",\"khan\",\"akram\",\"hussain\"],\n",
        "    'age':[78,45,65,24],\n",
        "    'grade': [\"a+\",\"b\",\"c\",\"d\"],\n",
        "\n",
        "}\n",
        "print(student.get(\"age\"))"
      ],
      "metadata": {
        "colab": {
          "base_uri": "https://localhost:8080/"
        },
        "id": "0JokdTCY4HBd",
        "outputId": "7137c76f-bbec-4236-f276-b7b7f8df43c4"
      },
      "execution_count": null,
      "outputs": [
        {
          "output_type": "stream",
          "name": "stdout",
          "text": [
            "[78, 45, 65, 24]\n"
          ]
        }
      ]
    },
    {
      "cell_type": "code",
      "source": [
        "### question 4. Add a new key-value pair `\"city\": \"Bangalore\"` to the `student` dictionary and print the updated dictionary.\n",
        "\n",
        "student = {\n",
        "    \"name\": [\"sohaib\",\"khan\",\"akram\",\"hussain\"],\n",
        "    'age':[78,45,65,24],\n",
        "    'grade': [\"a+\",\"b\",\"c\",\"d\"],\n",
        "\n",
        "}\n",
        "\n",
        "student.update({'city':['banglore','Delhi']})\n",
        "print(student)"
      ],
      "metadata": {
        "colab": {
          "base_uri": "https://localhost:8080/"
        },
        "id": "gKSRL70K4vDG",
        "outputId": "95be2207-6735-4c6a-9e9b-7fa1095d06e2"
      },
      "execution_count": null,
      "outputs": [
        {
          "output_type": "stream",
          "name": "stdout",
          "text": [
            "{'name': ['sohaib', 'khan', 'akram', 'hussain'], 'age': [78, 45, 65, 24], 'grade': ['a+', 'b', 'c', 'd'], 'city': ['banglore', 'Delhi']}\n"
          ]
        }
      ]
    },
    {
      "cell_type": "code",
      "source": [
        "### question 5 Modify the `\"grade\"` value in the `student` dictionary to `\"A+\"` and print the dictionary.\n",
        "\n",
        "\n",
        "student = {\n",
        "    \"name\": [\"sohaib\",\"khan\",\"akram\",\"hussain\"],\n",
        "    'age':[78,45,65,24],\n",
        "    'grade': [\"a+\",\"b\",\"c\",\"d\"],\n",
        "\n",
        "}\n",
        "student['grade']=\"A+\",\"b+\",\"c\",\"d\"\n",
        "print(student)\n",
        "\n"
      ],
      "metadata": {
        "colab": {
          "base_uri": "https://localhost:8080/"
        },
        "id": "hf1DUf4S5Mav",
        "outputId": "27acc5ad-2bf2-4291-aa49-260bc5b8ab96"
      },
      "execution_count": null,
      "outputs": [
        {
          "output_type": "stream",
          "name": "stdout",
          "text": [
            "{'name': ['sohaib', 'khan', 'akram', 'hussain'], 'age': [78, 45, 65, 24], 'grade': ('A+', 'b+', 'c', 'd')}\n"
          ]
        }
      ]
    },
    {
      "cell_type": "code",
      "source": [
        "### QUESTION 6.Remove the `\"age\"` key from the `student` dictionary using `pop()` and print the updated dictionary.\n",
        "\n",
        "student = {\n",
        "    \"name\": [\"sohaib\",\"khan\",\"akram\",\"hussain\"],\n",
        "    'age':[78,45,65,24],\n",
        "    'grade': [\"a+\",\"b\",\"c\",\"d\"],\n",
        "\n",
        "}\n",
        "\n",
        "print(student.pop('age'))"
      ],
      "metadata": {
        "colab": {
          "base_uri": "https://localhost:8080/"
        },
        "id": "QHm9LHIv6e_a",
        "outputId": "585cddbe-03b5-4710-85bc-0bc00d6132b4"
      },
      "execution_count": null,
      "outputs": [
        {
          "output_type": "stream",
          "name": "stdout",
          "text": [
            "[78, 45, 65, 24]\n"
          ]
        }
      ]
    },
    {
      "cell_type": "code",
      "source": [
        "print(student)"
      ],
      "metadata": {
        "colab": {
          "base_uri": "https://localhost:8080/"
        },
        "id": "rXJZlLCy7QhB",
        "outputId": "d73ddbe3-b7c2-4657-c892-6c5b7f3c91d1"
      },
      "execution_count": null,
      "outputs": [
        {
          "output_type": "stream",
          "name": "stdout",
          "text": [
            "{'name': ['sohaib', 'khan', 'akram', 'hussain'], 'grade': ['a+', 'b', 'c', 'd']}\n"
          ]
        }
      ]
    },
    {
      "cell_type": "code",
      "source": [
        "### question 7. Write a loop to print all keys and values from the `student` dictionary.\n",
        "student = {\n",
        "    \"name\": [\"sohaib\",\"khan\",\"akram\",\"hussain\"],\n",
        "    'age':[78,45,65,24],\n",
        "    'grade': [\"a+\",\"b\",\"c\",\"d\"],\n",
        "\n",
        "}\n",
        "\n",
        "for key,value in student.items():\n",
        "    print(key,value)\n",
        "\n"
      ],
      "metadata": {
        "colab": {
          "base_uri": "https://localhost:8080/"
        },
        "id": "ed9N8Fya7Ux9",
        "outputId": "393c0061-5eca-4e76-8c7e-6d82fe8a20e1"
      },
      "execution_count": null,
      "outputs": [
        {
          "output_type": "stream",
          "name": "stdout",
          "text": [
            "name ['sohaib', 'khan', 'akram', 'hussain']\n",
            "age [78, 45, 65, 24]\n",
            "grade ['a+', 'b', 'c', 'd']\n"
          ]
        }
      ]
    },
    {
      "cell_type": "code",
      "source": [
        "fruits = 'mango','banana','grapes'\n",
        "for fruits in fruits:\n",
        "  print(fruits)"
      ],
      "metadata": {
        "colab": {
          "base_uri": "https://localhost:8080/"
        },
        "id": "Z1zKn0iZ7qe6",
        "outputId": "922e79f0-1ef3-48de-9999-e4652b307d66"
      },
      "execution_count": null,
      "outputs": [
        {
          "output_type": "stream",
          "name": "stdout",
          "text": [
            "mango\n",
            "banana\n",
            "grapes\n"
          ]
        }
      ]
    },
    {
      "cell_type": "code",
      "source": [
        "### question 8.Check if the key `\"email\"` exists in the dictionary before accessing it.\n",
        "\n",
        "\n",
        "student = {\n",
        "    \"name\": [\"sohaib\",\"khan\",\"akram\",\"hussain\"],\n",
        "    'age':[78,45,65,24],\n",
        "    'grade': [\"a+\",\"b\",\"c\",\"d\"],\n",
        "\n",
        "}\n",
        "\n",
        "key = \"name\"\n",
        "print(key in student)\n",
        "\n",
        "key =\"email\"\n",
        "print(key in student)"
      ],
      "metadata": {
        "colab": {
          "base_uri": "https://localhost:8080/"
        },
        "id": "CbE7TbwY7_On",
        "outputId": "91ce8b94-bd1d-4b9f-c1da-b370f94c7dea"
      },
      "execution_count": null,
      "outputs": [
        {
          "output_type": "stream",
          "name": "stdout",
          "text": [
            "True\n",
            "False\n"
          ]
        }
      ]
    },
    {
      "cell_type": "code",
      "source": [
        "### question 9  Use `clear()` to remove all elements from the dictionary and print it.\n",
        "\n",
        "student = {\n",
        "    \"name\": [\"sohaib\",\"khan\",\"akram\",\"hussain\"],\n",
        "    'age':[78,45,65,24],\n",
        "    'grade': [\"a+\",\"b\",\"c\",\"d\"],\n",
        "\n",
        "}\n",
        "print(student.clear())"
      ],
      "metadata": {
        "colab": {
          "base_uri": "https://localhost:8080/"
        },
        "id": "bCJcrfoK89bO",
        "outputId": "7dd63797-3e0f-4906-e0d9-b0a39103fb66"
      },
      "execution_count": null,
      "outputs": [
        {
          "output_type": "stream",
          "name": "stdout",
          "text": [
            "None\n"
          ]
        }
      ]
    },
    {
      "cell_type": "code",
      "source": [
        "print(student)"
      ],
      "metadata": {
        "colab": {
          "base_uri": "https://localhost:8080/"
        },
        "id": "G2uYGjaz_CVs",
        "outputId": "39ed0256-49e6-4f48-f153-3b29afba8a95"
      },
      "execution_count": null,
      "outputs": [
        {
          "output_type": "stream",
          "name": "stdout",
          "text": [
            "{}\n"
          ]
        }
      ]
    },
    {
      "cell_type": "code",
      "source": [
        "\n",
        "\n",
        "#### question 10.Create a nested dictionary containing information about multiple students and print details of one student using key access.\n",
        "\n",
        "\n",
        "student = {\n",
        "    \"sohaib\": {\"age\": 45, \"marks\": {\"english\": 78, \"math\": 88, \"hindi\": 82}},\n",
        "    \"mohan\": {\"age\": 78, \"marks\": {\"english\": 78, \"math\": 88, \"hindi\": 82}}\n",
        "}\n",
        "\n",
        "\n",
        "print(student)\n",
        "\n",
        "\n",
        "print(student)\n"
      ],
      "metadata": {
        "colab": {
          "base_uri": "https://localhost:8080/"
        },
        "id": "WiFsRhBC_D_r",
        "outputId": "a01b8566-4d9b-4e38-deb1-77d930ada5fa"
      },
      "execution_count": null,
      "outputs": [
        {
          "output_type": "stream",
          "name": "stdout",
          "text": [
            "{'sohaib': {'age': 45, 'marks': {'english': 78, 'math': 88, 'hindi': 82}}, 'mohan': {'age': 78, 'marks': {'english': 78, 'math': 88, 'hindi': 82}}}\n",
            "{'sohaib': {'age': 45, 'marks': {'english': 78, 'math': 88, 'hindi': 82}}, 'mohan': {'age': 78, 'marks': {'english': 78, 'math': 88, 'hindi': 82}}}\n"
          ]
        }
      ]
    },
    {
      "cell_type": "code",
      "source": [],
      "metadata": {
        "id": "wq20PunHENij"
      },
      "execution_count": null,
      "outputs": []
    }
  ]
}