{
  "nbformat": 4,
  "nbformat_minor": 0,
  "metadata": {
    "colab": {
      "provenance": [],
      "authorship_tag": "ABX9TyMCg9kQd654JFRX5+1F0gfj",
      "include_colab_link": true
    },
    "kernelspec": {
      "name": "python3",
      "display_name": "Python 3"
    },
    "language_info": {
      "name": "python"
    }
  },
  "cells": [
    {
      "cell_type": "markdown",
      "metadata": {
        "id": "view-in-github",
        "colab_type": "text"
      },
      "source": [
        "<a href=\"https://colab.research.google.com/github/sohaib323/maid4u/blob/main/_Task_%60input()%60_Function_.ipynb\" target=\"_parent\"><img src=\"https://colab.research.google.com/assets/colab-badge.svg\" alt=\"Open In Colab\"/></a>"
      ]
    },
    {
      "cell_type": "code",
      "execution_count": null,
      "metadata": {
        "id": "wYbnylYCv0gQ"
      },
      "outputs": [],
      "source": [
        "### 1. **Basic Input & Output:** Write a program that asks for the user’s name and then prints:\n",
        "   ```\n",
        "   Hello, [name]!"
      ]
    },
    {
      "cell_type": "code",
      "source": [
        "name =input(\"Hello\")\n",
        "print(name)"
      ],
      "metadata": {
        "colab": {
          "base_uri": "https://localhost:8080/"
        },
        "id": "ZWrapyy4wSlY",
        "outputId": "3a55157f-2ef1-481f-f684-724a31962da6"
      },
      "execution_count": 7,
      "outputs": [
        {
          "output_type": "stream",
          "name": "stdout",
          "text": [
            "Hellosohaib\n",
            "sohaib\n"
          ]
        }
      ]
    },
    {
      "cell_type": "code",
      "source": [
        "#2. **Ask for Age:** Write a Python program that asks the user for their age and prints:\n",
        "age = int(input(\"You are\"))\n",
        "print(age,\"years old\")"
      ],
      "metadata": {
        "colab": {
          "base_uri": "https://localhost:8080/"
        },
        "id": "CbMfO2AcwZMI",
        "outputId": "1aea7c23-866a-47b6-dd74-673c38066da7"
      },
      "execution_count": 19,
      "outputs": [
        {
          "output_type": "stream",
          "name": "stdout",
          "text": [
            "You are25\n",
            "25 years old\n"
          ]
        }
      ]
    },
    {
      "cell_type": "code",
      "source": [
        "##3. **Favorite Color:** Ask the user for their favorite color and print:\n",
        "name = input(\"what is your favourite color?\")\n",
        "print(f\"my favourite color is {name}\")"
      ],
      "metadata": {
        "colab": {
          "base_uri": "https://localhost:8080/"
        },
        "id": "VEcgH-dCwxmd",
        "outputId": "0b387c6f-636e-48fe-b86e-92151097e93e"
      },
      "execution_count": 21,
      "outputs": [
        {
          "output_type": "stream",
          "name": "stdout",
          "text": [
            "what is your favourite color?orange\n",
            "my favourite color is orange\n"
          ]
        }
      ]
    },
    {
      "cell_type": "code",
      "source": [
        "### 4. **Adding Two Numbers:** Ask the user for two numbers, add them, and print the sum."
      ],
      "metadata": {
        "id": "rGEnIaX4w88_"
      },
      "execution_count": null,
      "outputs": []
    },
    {
      "cell_type": "code",
      "source": [
        "num =int(input(\"enter first number\"))\n",
        "num1 =int(input(\"enter second number\"))\n",
        "print(num+num1)"
      ],
      "metadata": {
        "id": "80r3bG4g0zUu",
        "outputId": "703a6d1b-b717-4ba5-dfe4-a91c52b41185",
        "colab": {
          "base_uri": "https://localhost:8080/"
        }
      },
      "execution_count": 22,
      "outputs": [
        {
          "output_type": "stream",
          "name": "stdout",
          "text": [
            "enter first number5\n",
            "enter second number7\n",
            "12\n"
          ]
        }
      ]
    },
    {
      "cell_type": "code",
      "source": [
        "### 5 **Simple Greeting:** Ask the user for their first and last name separately and print:"
      ],
      "metadata": {
        "id": "lxiIP_TB1A2z"
      },
      "execution_count": null,
      "outputs": []
    },
    {
      "cell_type": "code",
      "source": [
        "name = input(\"enter first name\")\n",
        "name1 = input(\"enter last name\")\n",
        "print(f\"hello{name},{name1}\")"
      ],
      "metadata": {
        "id": "he5Mz9xz1J_A",
        "outputId": "adb6d531-eb54-4392-efa7-495abd5b6e04",
        "colab": {
          "base_uri": "https://localhost:8080/"
        }
      },
      "execution_count": 23,
      "outputs": [
        {
          "output_type": "stream",
          "name": "stdout",
          "text": [
            "enter first namesohaib\n",
            "enter last namekhan\n",
            "hellosohaib,khan\n"
          ]
        }
      ]
    },
    {
      "cell_type": "code",
      "source": [
        "### 6 . **Multiply a Number:** Ask the user to enter a number, then print its double."
      ],
      "metadata": {
        "id": "fNygnx0E1YTQ"
      },
      "execution_count": null,
      "outputs": []
    },
    {
      "cell_type": "code",
      "source": [
        "num = int(input('enter a number'))\n",
        "num1 = int(input(\"enter a again number\"))\n",
        "print(num*num1)"
      ],
      "metadata": {
        "id": "0hCz3Zaf1djs",
        "outputId": "6f8d0b3c-6a8e-4e4a-8843-6903e721b51b",
        "colab": {
          "base_uri": "https://localhost:8080/"
        }
      },
      "execution_count": 26,
      "outputs": [
        {
          "output_type": "stream",
          "name": "stdout",
          "text": [
            "enter a number7\n",
            "enter a again number2\n",
            "14\n"
          ]
        }
      ]
    },
    {
      "cell_type": "code",
      "source": [
        "### 7. **Favorite Food:** Ask the user what their favorite food is and print a sentence using their input."
      ],
      "metadata": {
        "id": "mKgzbmaM1sjl"
      },
      "execution_count": 24,
      "outputs": []
    },
    {
      "cell_type": "code",
      "source": [
        "fruits = input(\"what is your favourite food \")\n",
        "\n",
        "print(f\"my favourite fruit is {fruits}\")"
      ],
      "metadata": {
        "id": "REc9gHos16gP",
        "outputId": "520cd109-69db-4ff9-c5e2-3f7ced8797bf",
        "colab": {
          "base_uri": "https://localhost:8080/"
        }
      },
      "execution_count": 31,
      "outputs": [
        {
          "output_type": "stream",
          "name": "stdout",
          "text": [
            "what is your favourite food mango\n",
            "my favourite fruit is mango\n"
          ]
        }
      ]
    },
    {
      "cell_type": "code",
      "source": [
        "### 8 Simple Yes/No Question:** Ask the user if they like Python. Print a response based on their answer.\n"
      ],
      "metadata": {
        "id": "kMKQwc5t2TR2"
      },
      "execution_count": null,
      "outputs": []
    },
    {
      "cell_type": "code",
      "source": [
        "ask = input(\"do you like python(yes/no) \")\n",
        "if ask == \"yes\":\n",
        "  print(\"oh thats great its good programming language ever \")\n",
        "else:\n",
        "  print(\"oh ok it your choice\")"
      ],
      "metadata": {
        "id": "kGrWxSRf3dSz",
        "outputId": "e334d4f1-19bd-4462-c320-106bb81b5a95",
        "colab": {
          "base_uri": "https://localhost:8080/"
        }
      },
      "execution_count": 36,
      "outputs": [
        {
          "output_type": "stream",
          "name": "stdout",
          "text": [
            "do you like python(yes/no) yes\n",
            "oh thats great its good programming language ever \n"
          ]
        }
      ]
    },
    {
      "cell_type": "code",
      "source": [
        "###  9. **Concatenation Practice:** Ask for the user’s city and country, then print:"
      ],
      "metadata": {
        "id": "gNybjETO3py-"
      },
      "execution_count": null,
      "outputs": []
    },
    {
      "cell_type": "code",
      "source": [
        "name = input(\"enter your city\")\n",
        "name1 = input(\"enter your country\")\n",
        "print(f\"i live in {name}, my country name is {name1} \")"
      ],
      "metadata": {
        "id": "pR7VV8gV4amu",
        "outputId": "38bdfdd6-eb42-4be5-e4bf-9ce3d67d5a6f",
        "colab": {
          "base_uri": "https://localhost:8080/"
        }
      },
      "execution_count": 37,
      "outputs": [
        {
          "output_type": "stream",
          "name": "stdout",
          "text": [
            "enter your cityTilak Nagar\n",
            "enter your countryIndia\n",
            "i live in Tilak Nagar, my country name is India \n"
          ]
        }
      ]
    },
    {
      "cell_type": "code",
      "source": [
        "### 10 . **Ask for Hobby:** Ask the user about their hobby and print:\n"
      ],
      "metadata": {
        "id": "rPxZ8SPN4xAS"
      },
      "execution_count": null,
      "outputs": []
    },
    {
      "cell_type": "code",
      "source": [
        "ask =input(\"what is your hobby \")\n",
        "print(f'my hobby is {ask}')"
      ],
      "metadata": {
        "id": "FmtNk3qq47ST",
        "outputId": "c175e840-9bcd-4cdd-d205-f9e9fee4fa88",
        "colab": {
          "base_uri": "https://localhost:8080/"
        }
      },
      "execution_count": 39,
      "outputs": [
        {
          "output_type": "stream",
          "name": "stdout",
          "text": [
            "what is your hobby reading\n",
            "my hobby is reading\n"
          ]
        }
      ]
    },
    {
      "cell_type": "code",
      "source": [],
      "metadata": {
        "id": "dD6-aByP5ITs"
      },
      "execution_count": null,
      "outputs": []
    }
  ]
}